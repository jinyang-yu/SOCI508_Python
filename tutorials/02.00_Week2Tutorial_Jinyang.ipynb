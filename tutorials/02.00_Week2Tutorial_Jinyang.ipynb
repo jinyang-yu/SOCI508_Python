{
 "cells": [
  {
   "cell_type": "markdown",
   "metadata": {},
   "source": [
    "# <center> Python for Everybody: Variables and Conditionals </center>\n",
    "\n",
    "Tutorial author: Laura K. Nelson  \n",
    "Student name: Jinyang Yu  \n",
    "Date: January 17, 2023\n",
    "\n",
    "In this notebook we will together walk through the examples and exercises in [*Python for Everybody* Chapter 2](https://www.py4e.com/html3/02-variables) [*Python for Everybody* Chapter 3](https://www.py4e.com/html3/03-conditional).\n",
    "\n",
    "Learning Goals:\n",
    "* Run some Python code! Understand what is happening when you run code in Jupyter\n",
    "* Better understand what a varible is in Python, what an expression is, and what a statement it.\n",
    "* Understand variable types in Python\n",
    "* Better understand how Python carries out mathematical calculations\n",
    "* Get more comfortable writing, manipulating, and running Python code in Jupyter\n",
    "* Begin to construct more sophisticated programs by using logical operators and conditional executions\n",
    "* Get more comfortable with the logic of Python, how it processes code, and how you can get it to do what you want it to do. How do you give your Python puppy the correct instructions? \n",
    "\n",
    "\n",
    "**Reminder 1:** This is a LOT to take in. The goal is to provide you with the basic vocabularly you need to understand and use Python. We will practice all of these skills throughout the semester. *You are not expected to understand and remember everything presented right now. Through practice, it will become more and more familiar. Go easy on yourself these first few weeks.*\n",
    "\n",
    "**Reminder 2:** We all use Google when we code. You will too. But try not to for the first few week. Most importantly, *never run code you don't understand.* Python is a real programming language and it has access to your computer (if you give it access). You can run code that wipes your hard drive, and you will NEVER be able to recover it. *Friends don't let friends run code they don't understand.*"
   ]
  },
  {
   "cell_type": "markdown",
   "metadata": {},
   "source": [
    "# Variables, Expression, and Statements"
   ]
  },
  {
   "cell_type": "code",
   "execution_count": null,
   "metadata": {},
   "outputs": [],
   "source": [
    "## Reminder: this is a code cell, and will execute the code written in it when you run the cell\n",
    "## See what kernel you're running to make sure you're writing in the same languge the cell will try to execute\n",
    "## These are comment lines. The computer ignores them when running the code.\n",
    "## They're here for the humans reading/looking at the code\n",
    "## Use them to leave yourself notes and such. We'll discuss more about comments later in the semester.\n",
    "\n",
    "print(\"Hello, Vancouver!\")\n",
    "print(8)\n",
    "print(2.4)\n",
    "\n",
    "#The last line of a Jupyter cell will automatically print the output, with having to specify print\n",
    "#Note what's different about the output below\n",
    "\n",
    "\"Hello, UBC\""
   ]
  },
  {
   "cell_type": "markdown",
   "metadata": {},
   "source": [
    "## Values and Types\n",
    "\n",
    "What is a variable type in Python, and how do we know?\n",
    "\n",
    "Reminder: we can print values, including integers:"
   ]
  },
  {
   "cell_type": "code",
   "execution_count": null,
   "metadata": {},
   "outputs": [],
   "source": [
    "print(4)"
   ]
  },
  {
   "cell_type": "markdown",
   "metadata": {},
   "source": [
    "We can know the value type, as determined by Python, by using the `type` function:"
   ]
  },
  {
   "cell_type": "code",
   "execution_count": null,
   "metadata": {},
   "outputs": [],
   "source": [
    "type('Hello, World!')"
   ]
  },
  {
   "cell_type": "code",
   "execution_count": null,
   "metadata": {},
   "outputs": [],
   "source": [
    "type(17)"
   ]
  },
  {
   "cell_type": "code",
   "execution_count": null,
   "metadata": {},
   "outputs": [],
   "source": [
    "type(3.2)"
   ]
  },
  {
   "cell_type": "code",
   "execution_count": null,
   "metadata": {},
   "outputs": [],
   "source": [
    "type('100')"
   ]
  },
  {
   "cell_type": "code",
   "execution_count": null,
   "metadata": {},
   "outputs": [],
   "source": [
    "print('100,000,000')"
   ]
  },
  {
   "cell_type": "markdown",
   "metadata": {},
   "source": [
    "Question: What is the difference between string, integer, and float types?"
   ]
  },
  {
   "cell_type": "code",
   "execution_count": null,
   "metadata": {},
   "outputs": [],
   "source": [
    "type(17.)"
   ]
  },
  {
   "cell_type": "code",
   "execution_count": null,
   "metadata": {},
   "outputs": [],
   "source": [
    "type(3.2)"
   ]
  },
  {
   "cell_type": "code",
   "execution_count": 1,
   "metadata": {},
   "outputs": [
    {
     "name": "stdout",
     "output_type": "stream",
     "text": [
      "100 0 0\n"
     ]
    }
   ],
   "source": [
    "print(100,000,000)"
   ]
  },
  {
   "cell_type": "markdown",
   "metadata": {},
   "source": [
    "Woah that last one is weird. We'll discuss that more later in the semester."
   ]
  },
  {
   "cell_type": "markdown",
   "metadata": {},
   "source": [
    "## Variables\n",
    "\n",
    "We will constantly be using variables in Python, so it's important to understand what they are and how to use them. We always start by assigning a value to a variable. Following the example in the chapter, we will assign three variables:"
   ]
  },
  {
   "cell_type": "code",
   "execution_count": 7,
   "metadata": {},
   "outputs": [],
   "source": [
    "message = 'And now for something completely different'\n",
    "n = 17\n",
    "pi = 3.1415926535897931\n"
   ]
  },
  {
   "cell_type": "markdown",
   "metadata": {},
   "source": [
    "When you ran that cell you should not see any ouput. Python has simply stored the value of those variables in the Main Memory on your computer so you can retrieve them later.\n",
    "\n",
    "You can check the value of the variables using the `print` statement:"
   ]
  },
  {
   "cell_type": "code",
   "execution_count": 48,
   "metadata": {},
   "outputs": [
    {
     "name": "stdout",
     "output_type": "stream",
     "text": [
      "And now for something completely different\n",
      "5\n",
      "3.141592653589793\n"
     ]
    }
   ],
   "source": [
    "print(message)\n",
    "print(n)\n",
    "print(pi)"
   ]
  },
  {
   "cell_type": "markdown",
   "metadata": {},
   "source": [
    "What if you have forgotton what variables you have created? You can check the names of all the variables stored in Main Memory, and some details about each, using the command `%who`:"
   ]
  },
  {
   "cell_type": "code",
   "execution_count": 18,
   "metadata": {},
   "outputs": [
    {
     "name": "stdout",
     "output_type": "stream",
     "text": [
      "Variable   Type     Data/Info\n",
      "-----------------------------\n",
      "message    str      And now for something completely different\n",
      "n          int      17\n",
      "pi         float    3.141592653589793\n"
     ]
    }
   ],
   "source": [
    "%whos"
   ]
  },
  {
   "cell_type": "markdown",
   "metadata": {},
   "source": [
    "The above command shows each variable Type. We can also check the type for each variable separately, using the `type` command."
   ]
  },
  {
   "cell_type": "markdown",
   "metadata": {},
   "source": [
    "### Exercise 1: Display the variable type separately for each of the three variables we defined."
   ]
  },
  {
   "cell_type": "code",
   "execution_count": 20,
   "metadata": {},
   "outputs": [
    {
     "name": "stdout",
     "output_type": "stream",
     "text": [
      "<class 'str'>\n",
      "<class 'int'>\n",
      "<class 'float'>\n"
     ]
    },
    {
     "data": {
      "text/plain": [
       "float"
      ]
     },
     "execution_count": 20,
     "metadata": {},
     "output_type": "execute_result"
    }
   ],
   "source": [
    "## Type your code starting here. Add new cells if you need to.\n",
    "print(type(message))\n",
    "print(type(n))\n",
    "print(type(pi))\n",
    "type(message)\n",
    "type(n)\n",
    "type(pi)"
   ]
  },
  {
   "cell_type": "markdown",
   "metadata": {},
   "source": [
    "## Statements\n",
    "\n",
    "A *statement* is a unit of code that the Python interpreter can execute. We have seen two kinds of statements: print being an expression statement and assignment.\n",
    "\n",
    "When you type a statement in interactive mode, the interpreter executes it and displays the result, if there is one.\n",
    "\n",
    "A script usually contains a sequence of statements. If there is more than one statement, the results appear one at a time as the statements execute."
   ]
  },
  {
   "cell_type": "code",
   "execution_count": null,
   "metadata": {},
   "outputs": [],
   "source": [
    "print(1)\n",
    "x = 2\n",
    "print(x)"
   ]
  },
  {
   "cell_type": "markdown",
   "metadata": {},
   "source": [
    "## Operators\n",
    "\n",
    "*Operators* are special symbols that represent computations like addition and multiplication. The values the operator is applied to are called operands.\n",
    "\n",
    "The operators +, -, \\*, /, and \\** perform addition, subtraction, multiplication, division, and exponentiation, as in the following examples:"
   ]
  },
  {
   "cell_type": "code",
   "execution_count": 21,
   "metadata": {},
   "outputs": [
    {
     "name": "stdout",
     "output_type": "stream",
     "text": [
      "52\n"
     ]
    }
   ],
   "source": [
    "print(20+32)"
   ]
  },
  {
   "cell_type": "code",
   "execution_count": null,
   "metadata": {},
   "outputs": [],
   "source": [
    "(5+9)*(15-7)"
   ]
  },
  {
   "cell_type": "code",
   "execution_count": 22,
   "metadata": {},
   "outputs": [
    {
     "data": {
      "text/plain": [
       "25"
      ]
     },
     "execution_count": 22,
     "metadata": {},
     "output_type": "execute_result"
    }
   ],
   "source": [
    "5**2"
   ]
  },
  {
   "cell_type": "markdown",
   "metadata": {},
   "source": [
    "Careful for the difference between a float and an integer:"
   ]
  },
  {
   "cell_type": "code",
   "execution_count": null,
   "metadata": {},
   "outputs": [],
   "source": [
    "59/60"
   ]
  },
  {
   "cell_type": "code",
   "execution_count": 28,
   "metadata": {},
   "outputs": [
    {
     "data": {
      "text/plain": [
       "10"
      ]
     },
     "execution_count": 28,
     "metadata": {},
     "output_type": "execute_result"
    }
   ],
   "source": [
    "59//60\n",
    "130%60"
   ]
  },
  {
   "cell_type": "markdown",
   "metadata": {},
   "source": [
    "### Exercise 2: Display the type for the previous two calculated values. Why are they different values and types?"
   ]
  },
  {
   "cell_type": "code",
   "execution_count": 25,
   "metadata": {},
   "outputs": [
    {
     "name": "stdout",
     "output_type": "stream",
     "text": [
      "<class 'float'>\n",
      "<class 'int'>\n"
     ]
    }
   ],
   "source": [
    "##Write your code here:\n",
    "print(type(59/60))\n",
    "print(type(59//60))"
   ]
  },
  {
   "cell_type": "markdown",
   "metadata": {},
   "source": [
    "## Expressions\n",
    "\n",
    "An *expression* is a combination of values, variables, and operators. A value all by itself is considered an expression, and so is a variable."
   ]
  },
  {
   "cell_type": "markdown",
   "metadata": {},
   "source": [
    "### Exercise 3: Assign the value 5 to a variable. Add 10 to that variable and print the results. Which of the statements you wrote to complete the exercise is an `expression`?"
   ]
  },
  {
   "cell_type": "code",
   "execution_count": 26,
   "metadata": {},
   "outputs": [
    {
     "name": "stdout",
     "output_type": "stream",
     "text": [
      "15\n"
     ]
    }
   ],
   "source": [
    "##Write your code here:\n",
    "n=5\n",
    "print(n+10)\n",
    "#"
   ]
  },
  {
   "cell_type": "markdown",
   "metadata": {},
   "source": [
    "## Order of operations\n",
    "\n",
    "When more than one operator appears in an expression, the order of evaluation depends on the rules of precedence. For mathematical operators, Python follows mathematical convention. The acronym PEMDAS is a useful way to remember the rules:\n",
    "\n",
    "Parentheses have the highest precedence and can be used to force an expression to evaluate in the order you want. Since expressions in parentheses are evaluated first, `2 \\* (3-1)` is `4`, and `(1+1)\\*\\*(5-2)` is `8`. You can also use parentheses to make an expression easier to read, as in (minute * 100) / 60, even if it doesn't change the result.\n",
    "\n",
    "Exponentiation has the next highest precedence, so `2\\*\\*1+1` is `3`, not `4`, and `3\\*1\\*\\*3` is `3`, not `27`.\n",
    "\n",
    "Multiplication and Division have the same precedence, which is higher than Addition and Subtraction, which also have the same precedence. So `2\\*3-1` is `5`, not `4`, and `6+4/2` is `8.0`, not `5`.\n",
    "\n",
    "Operators with the same precedence are evaluated from left to right. So the expression `5-3-1` is `1`, not `3`, because the `5-3` happens first and then `1` is subtracted from `2`.\n",
    "\n",
    "When in doubt, always put parentheses in your expressions to make sure the computations are performed in the order you intend.\n",
    "\n"
   ]
  },
  {
   "cell_type": "markdown",
   "metadata": {},
   "source": [
    "## String Operations\n",
    "\n",
    "The `+` and `*` operators works with strings, but it is not addition or multiplication in the mathematical sense. Instead it performs concatenation, which means joining the strings by linking them end to end. To see how this works, let's first define to `string` variables:"
   ]
  },
  {
   "cell_type": "code",
   "execution_count": 30,
   "metadata": {},
   "outputs": [],
   "source": [
    "phrase1 = \"Call me Ishmael\"\n",
    "phrase2 = \"In the beginning\""
   ]
  },
  {
   "cell_type": "markdown",
   "metadata": {},
   "source": [
    "### Exercise 4: *Concatenate* the above to strings together. Display the result. "
   ]
  },
  {
   "cell_type": "code",
   "execution_count": 34,
   "metadata": {},
   "outputs": [
    {
     "data": {
      "text/plain": [
       "'Call me Ishmael In the beginning'"
      ]
     },
     "execution_count": 34,
     "metadata": {},
     "output_type": "execute_result"
    }
   ],
   "source": [
    "#Write your code here:\n",
    "phrase1+\" \"+phrase2"
   ]
  },
  {
   "cell_type": "markdown",
   "metadata": {},
   "source": [
    "### Exercise 6: Multiply the first string, `phrase1` by five. What do you expect to get as a result? What do you get?"
   ]
  },
  {
   "cell_type": "code",
   "execution_count": 35,
   "metadata": {},
   "outputs": [
    {
     "data": {
      "text/plain": [
       "'Call me IshmaelCall me IshmaelCall me IshmaelCall me IshmaelCall me Ishmael'"
      ]
     },
     "execution_count": 35,
     "metadata": {},
     "output_type": "execute_result"
    }
   ],
   "source": [
    "#Write your code here:\n",
    "phrase1*5"
   ]
  },
  {
   "cell_type": "markdown",
   "metadata": {},
   "source": [
    "## Important notes on variables:\n",
    "\n",
    "A note about comments and variables names.\n",
    "\n",
    "Comments are very useful for you, especially as you learn to program, to remind yourself what you are doing. I recommend commenting everything in the beginning, because you will forget what your code is doing.\n",
    "\n",
    "I, and the book, also recommend meaningful variable names. This will help you keep track of what you are doing in your code.\n",
    "\n",
    "**Be careful not to use Python function names as your variable names. That will confuse Python to no end. So, for example, never name a variable `print`, or `type`. You can find a list of in-built Python functions in Chapter 1 of the book.**"
   ]
  },
  {
   "cell_type": "markdown",
   "metadata": {},
   "source": [
    "# Conditionals"
   ]
  },
  {
   "cell_type": "markdown",
   "metadata": {},
   "source": [
    "## Boolean Expressions and Logical Operators\n",
    "\n",
    "Let's start with a few more defintions: boolean expressions and logical operators.\n",
    "\n",
    "A *boolean expression* is an expression that is either true or false. The following examples use the operator ==, which compares two operands and produces `True` if they are equal and `False` otherwise:"
   ]
  },
  {
   "cell_type": "code",
   "execution_count": null,
   "metadata": {},
   "outputs": [],
   "source": [
    "5==5"
   ]
  },
  {
   "cell_type": "code",
   "execution_count": null,
   "metadata": {},
   "outputs": [],
   "source": [
    "5==6"
   ]
  },
  {
   "cell_type": "markdown",
   "metadata": {},
   "source": [
    "**Question: why do we use a double equal sign here?**"
   ]
  },
  {
   "cell_type": "markdown",
   "metadata": {},
   "source": [
    "There are three *logical operators*: and, or, and not. The semantics (meaning) of these operators is similar to their meaning in English. For example,\n",
    "\n",
    "x > 0 and x < 10\n",
    "\n",
    "is true only if x is greater than 0 and less than 10.\n",
    "\n",
    "n%2 == 0 or n%3 == 0 is true if either of the conditions is true, that is, if the number is divisible by 2 or 3.\n",
    "\n",
    "Finally, the not operator negates a boolean expression, so not (x > y) is true if x > y is false; that is, if x is less than or equal to y.\n",
    "\n",
    "Strictly speaking, the operands of the logical operators should be boolean expressions, but Python is not very strict. Any nonzero number is interpreted as \"true.\"\n",
    "\n",
    "**Note the way Jupyter colors different parts of the following expressions. These colors can help you as you try to figure out Python syntax.**"
   ]
  },
  {
   "cell_type": "code",
   "execution_count": 78,
   "metadata": {},
   "outputs": [
    {
     "data": {
      "text/plain": [
       "False"
      ]
     },
     "execution_count": 78,
     "metadata": {},
     "output_type": "execute_result"
    }
   ],
   "source": [
    "17 and True\n",
    "\n",
    "17 and not True"
   ]
  },
  {
   "cell_type": "code",
   "execution_count": null,
   "metadata": {},
   "outputs": [],
   "source": [
    "10 > 0"
   ]
  },
  {
   "cell_type": "code",
   "execution_count": null,
   "metadata": {},
   "outputs": [],
   "source": [
    "5 < 2"
   ]
  },
  {
   "cell_type": "markdown",
   "metadata": {},
   "source": [
    "## Conditional Execution\n",
    "\n",
    "In order to write useful programs, we almost always need the ability to check conditions and change the behavior of the program accordingly. Conditional statements give us this ability. The simplest form is the if statement:"
   ]
  },
  {
   "cell_type": "code",
   "execution_count": null,
   "metadata": {},
   "outputs": [],
   "source": [
    "my_number = -5\n",
    "\n",
    "if my_number > 0 :\n",
    "    print('my_number is positive')"
   ]
  },
  {
   "cell_type": "markdown",
   "metadata": {},
   "source": [
    "Oops! What happened? \n",
    "\n",
    "### Exercise 6: Assign my_number to a positive number and implement the above conditional statement."
   ]
  },
  {
   "cell_type": "code",
   "execution_count": 37,
   "metadata": {},
   "outputs": [
    {
     "name": "stdout",
     "output_type": "stream",
     "text": [
      "my_number is negative\n"
     ]
    }
   ],
   "source": [
    "#Write your code here.\n",
    "my_number = -5\n",
    "\n",
    "if my_number < 0 :\n",
    "    print('my_number is negative')"
   ]
  },
  {
   "cell_type": "markdown",
   "metadata": {},
   "source": [
    "If the logical condition is true, then the indented statement gets executed. If the logical condition is false, the indented statement is skipped.\n",
    "\n",
    "if statements have the same structure as function definitions or for loops1. The statement consists of a header line that ends with the colon character (:) followed by an indented block. Statements like this are called compound statements because they stretch across more than one line.\n",
    "\n",
    "There is no limit on the number of statements that can appear in the body, but there must be at least one. Occasionally, it is useful to have a body with no statements (usually as a place holder for code you haven't written yet). In that case, you can use the pass statement, which does nothing."
   ]
  },
  {
   "cell_type": "markdown",
   "metadata": {},
   "source": [
    "## Alternative Execution\n",
    "\n",
    "A second form of the if statement is alternative execution, in which there are two possibilities and the condition determines which one gets executed. The syntax looks like this:"
   ]
  },
  {
   "cell_type": "code",
   "execution_count": null,
   "metadata": {},
   "outputs": [],
   "source": [
    "x = 5 \n",
    "if x%2 == 0 :\n",
    "    print('x is even')\n",
    "else :\n",
    "    print('x is odd')"
   ]
  },
  {
   "cell_type": "markdown",
   "metadata": {},
   "source": [
    "### Exercise 7: Add an alternative execution statement so our first condition (printing 'x is positive'), so that if x is less than zero, the program prints 'x is negative'). Test this by adding to cells where you assign x alternatively to a positive and negative number."
   ]
  },
  {
   "cell_type": "code",
   "execution_count": 47,
   "metadata": {},
   "outputs": [
    {
     "name": "stdout",
     "output_type": "stream",
     "text": [
      "my_number is 0\n"
     ]
    }
   ],
   "source": [
    "#Write your code here\n",
    "my_number = 0\n",
    "if my_number > 0 :\n",
    "    print('my_number is negative')\n",
    "\n",
    "else : \n",
    "    if my_number <0:\n",
    "        print('my_number is negative')\n",
    "    else:\n",
    "        print('my_number is 0')"
   ]
  },
  {
   "cell_type": "markdown",
   "metadata": {},
   "source": [
    "## Chained Conditionals \n",
    "\n",
    "Sometimes there are more than two possibilities and we need more than two branches. One way to express a computation like that is a *chained conditional*:\n",
    "\n",
    "**Question: What do you think the below code will output?**"
   ]
  },
  {
   "cell_type": "code",
   "execution_count": null,
   "metadata": {},
   "outputs": [],
   "source": [
    "x = 10\n",
    "y = 18\n",
    "\n",
    "if x < y:\n",
    "    print('x is less than y')\n",
    "elif x > y:\n",
    "    print('x is greater than y')\n",
    "else:\n",
    "    print('x and y are equal')"
   ]
  },
  {
   "cell_type": "markdown",
   "metadata": {},
   "source": [
    "## Nested Conditionals\n",
    "\n",
    "One conditional can also be nested within another. We could have written the three-branch example like this:"
   ]
  },
  {
   "cell_type": "code",
   "execution_count": null,
   "metadata": {},
   "outputs": [],
   "source": [
    "x = 10\n",
    "y = 18\n",
    "\n",
    "if x == y:\n",
    "    print('x and y are equal')\n",
    "else:\n",
    "    if x < y:\n",
    "        print('x is less than y')\n",
    "    else:\n",
    "        print('x is greater than y')"
   ]
  },
  {
   "cell_type": "markdown",
   "metadata": {},
   "source": [
    "Logical operators often provide a way to simplify nested conditional statements. For example, we can rewrite the following code using a single conditional:"
   ]
  },
  {
   "cell_type": "markdown",
   "metadata": {},
   "source": [
    "## Indentation and Code Variation\n",
    "\n",
    "I want to take a brief moment to talk about indentation and code variation. "
   ]
  },
  {
   "cell_type": "markdown",
   "metadata": {},
   "source": [
    "# User Input\n",
    "\n",
    "We can ask for the user to input something into your program. It's helpful if you prompt them with what input you're looking for. We'll end with writing a program to change fahrenheit to celcius."
   ]
  },
  {
   "cell_type": "code",
   "execution_count": 52,
   "metadata": {},
   "outputs": [
    {
     "name": "stdout",
     "output_type": "stream",
     "text": [
      "Please enter today's temperature in Fahrenheit45\n"
     ]
    },
    {
     "data": {
      "text/plain": [
       "'45'"
      ]
     },
     "execution_count": 52,
     "metadata": {},
     "output_type": "execute_result"
    }
   ],
   "source": [
    "input(\"Please enter today's temperature in Fahrenheit\")"
   ]
  },
  {
   "cell_type": "code",
   "execution_count": 53,
   "metadata": {},
   "outputs": [
    {
     "name": "stdout",
     "output_type": "stream",
     "text": [
      "Please enter today's temperature in Fahrenheit 45\n",
      "45\n"
     ]
    }
   ],
   "source": [
    "#If we want to do anything with the user input we have to assign it as a variable\n",
    "inp = input(\"Please enter today's temperature in Fahrenheit \")\n",
    "print(inp)"
   ]
  },
  {
   "cell_type": "code",
   "execution_count": 45,
   "metadata": {},
   "outputs": [
    {
     "name": "stdout",
     "output_type": "stream",
     "text": [
      "Please enter today's temperature in Fahrenheit 45\n",
      "<class 'str'>\n",
      "<class 'float'>\n"
     ]
    }
   ],
   "source": [
    "#Careful! Input is *always* of type string. You'll have to change it if you want a different variable type\n",
    "inp = input(\"Please enter today's temperature in Fahrenheit \")\n",
    "print(type(inp))\n",
    "\n",
    "fahr = float(inp)\n",
    "print(type(fahr))"
   ]
  },
  {
   "cell_type": "markdown",
   "metadata": {},
   "source": [
    "### Exercise 8: Write a program that asks the user to input today's temperature in Fahrenheit and outputs, or prints, the temperature in Celcius. "
   ]
  },
  {
   "cell_type": "code",
   "execution_count": 57,
   "metadata": {},
   "outputs": [
    {
     "name": "stdout",
     "output_type": "stream",
     "text": [
      "Please enter today's temperature in Fahrenheit 45\n",
      "in Celcius is:\n",
      "7.222222222222222\n"
     ]
    }
   ],
   "source": [
    "#Write your code here\n",
    "inp = input(\"Please enter today's temperature in Fahrenheit \")\n",
    "print(\"in Celcius is:\")\n",
    "print((float(inp)-32)* 5/9 )"
   ]
  },
  {
   "cell_type": "markdown",
   "metadata": {},
   "source": [
    "## You're done!\n",
    "\n",
    "Download your notebook as a PDF and upload it to Canvas. Make sure your name is on top and in the filename!"
   ]
  }
 ],
 "metadata": {
  "kernelspec": {
   "display_name": "Python 3 (ipykernel)",
   "language": "python",
   "name": "python3"
  },
  "language_info": {
   "codemirror_mode": {
    "name": "ipython",
    "version": 3
   },
   "file_extension": ".py",
   "mimetype": "text/x-python",
   "name": "python",
   "nbconvert_exporter": "python",
   "pygments_lexer": "ipython3",
   "version": "3.9.13"
  }
 },
 "nbformat": 4,
 "nbformat_minor": 2
}
