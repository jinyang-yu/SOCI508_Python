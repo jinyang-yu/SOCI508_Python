{
 "cells": [
  {
   "cell_type": "markdown",
   "metadata": {},
   "source": [
    "## Introduction to Topic Modeling\n",
    "  \n",
    "Today we'll implement the most basic, and the original, topic modeling algorithm, LDA, using Python's scikit-learn. The other major topic modeling package is Gensim. \n",
    "\n",
    "Another option for topic modeling is the software MALLET. Check out this [blog post](https://de.dariah.eu/tatom/topic_model_mallet.html) to learn more about implementing MALLET.\n",
    "\n",
    "### Learning Goals\n",
    "* Implement a basic topic modeling algorithm and learn how to tweak it\n",
    "* Learn how to use different methods to calculate topic prevalence\n",
    "* Learn how to create some simple graphs with this output\n",
    "* Think though how and why you might use topic modeling in a text analysis project\n",
    "\n",
    "### Outline\n",
    "\n",
    "(Side note: I'm demoing a clickable table of contents here. Give it a look to see how to do this in markdown.)\n",
    "\n",
    "* [The Pandas Dataframe: Children's Literature](#df)\n",
    "* [Fit an LDA Topic Model using scikit-learn](#fit)\n",
    "* [Document by Topic Distribution](#dtd)\n",
    "* [Words Aligned with each Topic](#words)\n",
    "* [Topic Prevalence](#prev)\n",
    "* [Topics Over Time](#time)\n",
    "\n",
    "\n",
    "### Key Terms\n",
    "* *Topic Modeling*:\n",
    "    * A statistical model to uncover abstract topics within a text. It uses the co-occurrence fo words within documents, compared to their distribution across documents, to uncover these abstract themes. The output is a list of weighted words, which indicate the subject of each topic, and a weight distribution across topics for each document.\n",
    "    \n",
    "* *LDA*:\n",
    "    * Latent Dirichlet Allocation. A implementation of topic modeling that assumes a Dirichlet prior. It does not take document order into account, unlike other topic modeling algorithms.\n",
    "    \n",
    "### Further Resources\n",
    "\n",
    "[More detailed description of implementing LDA using scikit-learn](http://scikit-learn.org/stable/auto_examples/applications/topics_extraction_with_nmf_lda.html#sphx-glr-auto-examples-applications-topics-extraction-with-nmf-lda-py)."
   ]
  },
  {
   "cell_type": "markdown",
   "metadata": {},
   "source": [
    "<a id='df'></a>\n",
    "### 0. The Pandas Dataframe: Children's Literature"
   ]
  },
  {
   "cell_type": "markdown",
   "metadata": {},
   "source": [
    "First, we read in a corpus of British Children's Literature, and transform it into a Pandas dataframe."
   ]
  },
  {
   "cell_type": "code",
   "execution_count": 1,
   "metadata": {
    "scrolled": true
   },
   "outputs": [
    {
     "data": {
      "text/html": [
       "<div>\n",
       "<style scoped>\n",
       "    .dataframe tbody tr th:only-of-type {\n",
       "        vertical-align: middle;\n",
       "    }\n",
       "\n",
       "    .dataframe tbody tr th {\n",
       "        vertical-align: top;\n",
       "    }\n",
       "\n",
       "    .dataframe thead th {\n",
       "        text-align: right;\n",
       "    }\n",
       "</style>\n",
       "<table border=\"1\" class=\"dataframe\">\n",
       "  <thead>\n",
       "    <tr style=\"text-align: right;\">\n",
       "      <th></th>\n",
       "      <th>title</th>\n",
       "      <th>author gender</th>\n",
       "      <th>year</th>\n",
       "      <th>text</th>\n",
       "    </tr>\n",
       "  </thead>\n",
       "  <tbody>\n",
       "    <tr>\n",
       "      <th>0</th>\n",
       "      <td>A Dog with a Bad Name</td>\n",
       "      <td>Male</td>\n",
       "      <td>1886</td>\n",
       "      <td>A DOG WITH A BAD NAME  BY TALBOT BAINES REED  ...</td>\n",
       "    </tr>\n",
       "    <tr>\n",
       "      <th>1</th>\n",
       "      <td>A Final Reckoning</td>\n",
       "      <td>Male</td>\n",
       "      <td>1887</td>\n",
       "      <td>A Final Reckoning: A Tale of Bush Life in Aust...</td>\n",
       "    </tr>\n",
       "    <tr>\n",
       "      <th>2</th>\n",
       "      <td>A House Party, Don Gesualdo, and A Rainy June</td>\n",
       "      <td>Female</td>\n",
       "      <td>1887</td>\n",
       "      <td>A HOUSE-PARTY  Don Gesualdo  and  A Rainy June...</td>\n",
       "    </tr>\n",
       "    <tr>\n",
       "      <th>3</th>\n",
       "      <td>A Houseful of Girls</td>\n",
       "      <td>Female</td>\n",
       "      <td>1889</td>\n",
       "      <td>A HOUSEFUL OF GIRLS. BY SARAH TYTLER,  AUTHOR ...</td>\n",
       "    </tr>\n",
       "    <tr>\n",
       "      <th>4</th>\n",
       "      <td>A Little Country Girl</td>\n",
       "      <td>Female</td>\n",
       "      <td>1885</td>\n",
       "      <td>LITTLE COUNTRY GIRL.  BY  SUSAN COOLIDGE,     ...</td>\n",
       "    </tr>\n",
       "  </tbody>\n",
       "</table>\n",
       "</div>"
      ],
      "text/plain": [
       "                                           title author gender  year  \\\n",
       "0                          A Dog with a Bad Name          Male  1886   \n",
       "1                              A Final Reckoning          Male  1887   \n",
       "2  A House Party, Don Gesualdo, and A Rainy June        Female  1887   \n",
       "3                            A Houseful of Girls        Female  1889   \n",
       "4                          A Little Country Girl        Female  1885   \n",
       "\n",
       "                                                text  \n",
       "0  A DOG WITH A BAD NAME  BY TALBOT BAINES REED  ...  \n",
       "1  A Final Reckoning: A Tale of Bush Life in Aust...  \n",
       "2  A HOUSE-PARTY  Don Gesualdo  and  A Rainy June...  \n",
       "3  A HOUSEFUL OF GIRLS. BY SARAH TYTLER,  AUTHOR ...  \n",
       "4  LITTLE COUNTRY GIRL.  BY  SUSAN COOLIDGE,     ...  "
      ]
     },
     "execution_count": 1,
     "metadata": {},
     "output_type": "execute_result"
    }
   ],
   "source": [
    "import pandas\n",
    "import numpy as np\n",
    "import matplotlib.pyplot as plt\n",
    "df_lit = pandas.read_csv(\"../data/childrens_lit.csv.bz2\", sep='\\t', index_col=0, encoding = 'utf-8', compression='bz2')\n",
    "\n",
    "#drop rows where the text is missing.\n",
    "df_lit = df_lit.dropna(subset=['text'])\n",
    "\n",
    "#view the dataframe\n",
    "df_lit.head()"
   ]
  },
  {
   "cell_type": "markdown",
   "metadata": {},
   "source": [
    "<a id='fit'></a>\n",
    "### 1. Fit a Topic Model, using LDA"
   ]
  },
  {
   "cell_type": "markdown",
   "metadata": {},
   "source": [
    "Now we're ready to fit the model. This requires the use of CountVecorizer, which we've already used, and the scikit-learn function LatentDirichletAllocation.\n",
    "\n",
    "See [here](http://scikit-learn.org/stable/modules/generated/sklearn.decomposition.LatentDirichletAllocation.html) for more information about this function. "
   ]
  },
  {
   "cell_type": "code",
   "execution_count": 2,
   "metadata": {},
   "outputs": [],
   "source": [
    "####Adopted From: \n",
    "#Author: Olivier Grisel <olivier.grisel@ensta.org>\n",
    "#         Lars Buitinck\n",
    "#         Chyi-Kwei Yau <chyikwei.yau@gmail.com>\n",
    "# License: BSD 3 clause\n",
    "\n",
    "from sklearn.feature_extraction.text import CountVectorizer\n",
    "from sklearn.decomposition import LatentDirichletAllocation\n",
    "\n",
    "##This is a function to print out the top words for each topic in a pretty way.\n",
    "#Don't worry too much about understanding every line of this code.\n",
    "def print_top_words(model, feature_names, n_top_words):\n",
    "    for topic_idx, topic in enumerate(model.components_):\n",
    "        print(\"\\nTopic #%d:\" % topic_idx)\n",
    "        print(\" \".join([feature_names[i]\n",
    "                        for i in topic.argsort()[:-n_top_words - 1:-1]]))\n",
    "    print()"
   ]
  },
  {
   "cell_type": "code",
   "execution_count": 3,
   "metadata": {},
   "outputs": [
    {
     "name": "stdout",
     "output_type": "stream",
     "text": [
      "Extracting tf features for LDA...\n"
     ]
    }
   ],
   "source": [
    "# Vectorize our text using CountVectorizer\n",
    "print(\"Extracting tf features for LDA...\")\n",
    "tf_vectorizer = CountVectorizer(max_df=0.80, min_df=50,\n",
    "                                max_features=None,\n",
    "                                stop_words='english'\n",
    "                                )\n",
    "\n",
    "tf = tf_vectorizer.fit_transform(df_lit.text)"
   ]
  },
  {
   "cell_type": "code",
   "execution_count": 4,
   "metadata": {},
   "outputs": [
    {
     "name": "stdout",
     "output_type": "stream",
     "text": [
      "Fitting LDA models with tf features, n_samples=2000 and n_topics=4...\n"
     ]
    },
    {
     "data": {
      "text/plain": [
       "LatentDirichletAllocation(learning_method='online', learning_offset=80.0,\n",
       "                          max_iter=20, n_components=4, random_state=0,\n",
       "                          total_samples=2000)"
      ]
     },
     "execution_count": 4,
     "metadata": {},
     "output_type": "execute_result"
    }
   ],
   "source": [
    "n_samples = 2000\n",
    "n_topics = 4\n",
    "n_top_words = 50\n",
    "\n",
    "print(\"Fitting LDA models with tf features, \"\n",
    "      \"n_samples=%d and n_topics=%d...\"\n",
    "      % (n_samples, n_topics))\n",
    "\n",
    "#define the lda function, with desired options\n",
    "#Check the documentation, linked above, to look through the options\n",
    "lda = LatentDirichletAllocation(n_components=n_topics, max_iter=20,\n",
    "                                learning_method='online',\n",
    "                                learning_offset=80.,\n",
    "                                total_samples=n_samples,\n",
    "                                random_state=0)\n",
    "#fit the model\n",
    "lda.fit(tf)"
   ]
  },
  {
   "cell_type": "code",
   "execution_count": 5,
   "metadata": {},
   "outputs": [
    {
     "name": "stdout",
     "output_type": "stream",
     "text": [
      "\n",
      "Topics in LDA model:\n",
      "\n",
      "Topic #0:\n",
      "project doctor girls sister papa mamma london baby sweet tom street works dr remarked aunt tea youth foundation presently study em ain cousin office darling loved ladies wasn everybody public flower observed nurse ma shop snow ye queen class reader ice stairs flowers lovely agreement sisters doesn carriage bell garden\n",
      "\n",
      "Topic #1:\n",
      "dick uncle doctor er jack ain tom den yer fish em rock wolf gun rope lads ha birds rocks beneath ay stream shock tail moments mate excitedly garden eh sand fishing thrust ye nay gazing softly mountain ship tremendous hook bird leg ashore growled penny shore stones farther jump knife\n",
      "\n",
      "Topic #2:\n",
      "king army french troops camp attack officers prince ship john soldiers city village officer guns rode shore regiment march tom fort wounded british boats sword advanced castle jack james indian band marched native prisoners ships arrows france numbers lads forest frank ride presently vessel fought mounted fleet column stream rear\n",
      "\n",
      "Topic #3:\n",
      "jack ye frank deck project uncle ship george shore doctor vessel ain mate lake cabin em ma st john works boats island officer girls passengers sail street church thou south office ha fish ay yer steam soldier ladies regard fleet camp public foundation rope lads illustration bottle pounds stairs crew\n",
      "\n"
     ]
    }
   ],
   "source": [
    "#print the top words per topic, using the function defined above.\n",
    "#Unlike R, which has a built-in function to print top words, we have to write our own for scikit-learn\n",
    "#I think this demonstrates the different aims of the two packages: R is for social scientists, Python for computer scientists\n",
    "\n",
    "print(\"\\nTopics in LDA model:\")\n",
    "tf_feature_names = tf_vectorizer.get_feature_names_out()\n",
    "print_top_words(lda, tf_feature_names, n_top_words)"
   ]
  },
  {
   "cell_type": "markdown",
   "metadata": {},
   "source": [
    "<a id='dtd'></a>\n",
    "### 2. Document by Topic Distribution"
   ]
  },
  {
   "cell_type": "markdown",
   "metadata": {},
   "source": [
    "One thing we may want to do with the output is find the most representative texts for each topic. A simple way to do this (but not memory efficient), is to merge the topic distribution back into the Pandas dataframe.\n",
    "\n",
    "First get the topic distribution array."
   ]
  },
  {
   "cell_type": "code",
   "execution_count": 6,
   "metadata": {},
   "outputs": [
    {
     "data": {
      "text/plain": [
       "array([[9.27993669e-01, 1.43700382e-02, 5.76027691e-02, 3.35234006e-05],\n",
       "       [2.73383488e-02, 7.01313231e-02, 4.91328141e-01, 4.11202187e-01],\n",
       "       [9.72301526e-01, 3.66126075e-05, 2.25981325e-02, 5.06372922e-03],\n",
       "       [9.99907351e-01, 3.06661128e-05, 3.10550012e-05, 3.09277922e-05],\n",
       "       [9.69292227e-01, 2.88828433e-02, 6.05477628e-05, 1.76438162e-03],\n",
       "       [9.02818435e-01, 9.70583246e-02, 6.16743414e-05, 6.15656757e-05],\n",
       "       [4.10396600e-01, 5.86307314e-01, 1.35979768e-04, 3.16010688e-03],\n",
       "       [9.99890902e-01, 3.60980543e-05, 3.67128035e-05, 3.62872482e-05],\n",
       "       [2.46371338e-01, 2.56589766e-01, 4.50088248e-01, 4.69506480e-02],\n",
       "       [7.08481800e-05, 3.81086663e-01, 6.18771825e-01, 7.06641686e-05],\n",
       "       [6.19417246e-02, 5.60865999e-02, 8.81890242e-01, 8.14334923e-05],\n",
       "       [5.50253267e-05, 5.59319821e-05, 5.52375701e-05, 9.99833805e-01],\n",
       "       [1.54941895e-01, 8.53067338e-05, 1.95440934e-01, 6.49531864e-01],\n",
       "       [8.16413872e-01, 6.08089939e-02, 1.22708631e-01, 6.85031993e-05],\n",
       "       [6.29009722e-01, 4.21386866e-02, 2.54541577e-01, 7.43100148e-02],\n",
       "       [5.20390704e-01, 2.69891665e-05, 3.12178238e-01, 1.67404069e-01],\n",
       "       [2.59339206e-05, 2.54612217e-05, 9.99922584e-01, 2.60211864e-05],\n",
       "       [6.22435512e-03, 4.68816251e-05, 2.25767472e-02, 9.71152016e-01],\n",
       "       [3.87465852e-04, 9.99551674e-01, 3.01743230e-05, 3.06855502e-05],\n",
       "       [2.68953989e-05, 9.99919007e-01, 2.72168308e-05, 2.68810707e-05],\n",
       "       [2.69833700e-05, 2.80524034e-02, 7.49472949e-01, 2.22447664e-01],\n",
       "       [2.77889542e-05, 7.34069452e-02, 1.97857460e-01, 7.28707806e-01],\n",
       "       [9.97249650e-01, 6.12290209e-05, 1.11113084e-03, 1.57799044e-03],\n",
       "       [2.11005150e-03, 7.24263955e-01, 2.73601496e-01, 2.44968641e-05],\n",
       "       [2.23764047e-05, 9.99933009e-01, 2.22828683e-05, 2.23316258e-05],\n",
       "       [4.93753142e-05, 4.91020308e-05, 4.98451013e-05, 9.99851678e-01],\n",
       "       [9.92489652e-01, 1.86473736e-03, 1.54734276e-03, 4.09826791e-03],\n",
       "       [9.99882923e-01, 3.88701433e-05, 3.89527356e-05, 3.92542903e-05],\n",
       "       [9.99873970e-01, 4.19279277e-05, 4.18597810e-05, 4.22421685e-05],\n",
       "       [6.95185897e-04, 7.34312964e-03, 4.01273553e-03, 9.87948949e-01],\n",
       "       [8.75839693e-01, 1.24052565e-01, 5.41207288e-05, 5.36206171e-05],\n",
       "       [6.36222545e-01, 3.63720142e-01, 2.86381710e-05, 2.86742684e-05],\n",
       "       [2.95087877e-05, 2.95816598e-05, 9.99911112e-01, 2.97977155e-05],\n",
       "       [2.13256430e-05, 2.10559479e-05, 9.99936397e-01, 2.12209363e-05],\n",
       "       [2.52951451e-05, 2.47863102e-05, 9.99924710e-01, 2.52088689e-05],\n",
       "       [5.50178330e-01, 3.81124210e-05, 2.19143102e-01, 2.30640456e-01],\n",
       "       [9.99870242e-01, 4.29589552e-05, 4.32499132e-05, 4.35495588e-05],\n",
       "       [7.68274655e-01, 2.31587553e-01, 6.88908253e-05, 6.89012673e-05],\n",
       "       [3.02635323e-05, 3.00362899e-05, 2.28550285e-01, 7.71389415e-01],\n",
       "       [3.78348200e-01, 3.76726709e-05, 6.05171022e-01, 1.64431056e-02],\n",
       "       [2.48140562e-05, 1.14676837e-01, 8.85273702e-01, 2.46464918e-05],\n",
       "       [2.46288680e-05, 6.86021611e-02, 8.78430327e-01, 5.29428835e-02],\n",
       "       [6.96768549e-01, 1.61091998e-02, 2.48347032e-01, 3.87752187e-02],\n",
       "       [9.84724988e-01, 1.32514180e-02, 2.82458747e-05, 1.99534815e-03],\n",
       "       [9.48549600e-01, 2.17851043e-02, 4.99388846e-05, 2.96153565e-02],\n",
       "       [9.99432957e-01, 1.86591148e-04, 1.88885121e-04, 1.91566514e-04],\n",
       "       [6.44725935e-03, 1.15032272e-01, 1.39974344e-01, 7.38546124e-01],\n",
       "       [8.92880314e-01, 1.06990181e-01, 6.49862726e-05, 6.45187573e-05],\n",
       "       [2.79592490e-05, 9.99916066e-01, 2.79014504e-05, 2.80733658e-05],\n",
       "       [1.89458962e-05, 7.47291749e-01, 2.52670376e-01, 1.89295372e-05],\n",
       "       [2.47825533e-05, 9.68102678e-01, 2.02279090e-02, 1.16446302e-02],\n",
       "       [9.40573222e-01, 4.88573281e-02, 6.35625559e-05, 1.05058869e-02],\n",
       "       [6.43259582e-01, 1.48922683e-02, 2.49253922e-05, 3.41823224e-01],\n",
       "       [2.62163326e-05, 9.99921897e-01, 2.57379596e-05, 2.61491059e-05],\n",
       "       [2.75622380e-05, 2.72366214e-05, 9.99917589e-01, 2.76122315e-05],\n",
       "       [2.84026252e-05, 9.93662591e-01, 2.80940235e-05, 6.28091229e-03],\n",
       "       [6.04745270e-05, 5.95408446e-05, 5.84978728e-05, 9.99821487e-01],\n",
       "       [5.93806852e-02, 3.46949883e-05, 3.43401887e-05, 9.40550280e-01],\n",
       "       [9.99890704e-01, 3.67775412e-05, 3.61683120e-05, 3.63499455e-05],\n",
       "       [9.15079355e-01, 2.58967910e-05, 1.62305819e-02, 6.86641667e-02],\n",
       "       [3.57347337e-01, 1.41755892e-04, 6.42369659e-01, 1.41247656e-04],\n",
       "       [1.34751191e-01, 8.65194234e-01, 2.71253760e-05, 2.74492035e-05],\n",
       "       [8.18693885e-01, 4.46272497e-03, 1.76816512e-01, 2.68784146e-05],\n",
       "       [9.99607042e-01, 3.79842903e-05, 3.79466263e-05, 3.17027013e-04],\n",
       "       [9.78565311e-01, 2.09382720e-02, 2.48876622e-04, 2.47540480e-04],\n",
       "       [3.33633353e-01, 7.07487297e-02, 5.92078991e-01, 3.53892572e-03],\n",
       "       [1.56793327e-01, 6.90749086e-01, 2.54887811e-04, 1.52202700e-01],\n",
       "       [2.34909275e-05, 2.30992456e-05, 9.99930092e-01, 2.33182901e-05],\n",
       "       [1.24520919e-02, 6.07831844e-02, 7.03609668e-02, 8.56403757e-01],\n",
       "       [5.36809469e-05, 5.27821583e-05, 1.81841629e-01, 8.18051907e-01],\n",
       "       [1.62000362e-01, 2.70566965e-01, 5.66232408e-01, 1.20026461e-03],\n",
       "       [4.75872869e-01, 5.23997278e-01, 6.44584727e-05, 6.53940160e-05],\n",
       "       [5.11255638e-01, 6.63880256e-02, 1.29577789e-01, 2.92778547e-01],\n",
       "       [3.25555282e-01, 5.29041078e-05, 6.64877341e-01, 9.51447358e-03],\n",
       "       [6.74521206e-01, 3.94834898e-02, 2.82683303e-01, 3.31200138e-03],\n",
       "       [6.59971779e-01, 3.26800005e-01, 1.92630251e-04, 1.30355853e-02],\n",
       "       [4.47955889e-01, 2.07716120e-05, 5.52002729e-01, 2.06111200e-05],\n",
       "       [2.74230398e-05, 2.73114627e-05, 9.48652379e-01, 5.12928869e-02],\n",
       "       [3.24002453e-02, 2.43931794e-05, 9.67550760e-01, 2.46015027e-05],\n",
       "       [9.94149674e-01, 3.97325275e-05, 5.77114770e-03, 3.94457639e-05],\n",
       "       [5.07795452e-03, 2.60262231e-05, 9.94869727e-01, 2.62918616e-05],\n",
       "       [5.08686499e-01, 8.99641260e-02, 3.05305812e-01, 9.60435633e-02],\n",
       "       [3.63808909e-01, 3.12648813e-05, 5.60073674e-01, 7.60861521e-02],\n",
       "       [2.87962449e-05, 2.86650849e-05, 9.99913614e-01, 2.89245921e-05],\n",
       "       [6.44128252e-01, 1.62680401e-01, 1.00259212e-01, 9.29321352e-02],\n",
       "       [9.99914405e-01, 2.87026734e-05, 2.83997990e-05, 2.84923735e-05],\n",
       "       [5.96775142e-01, 2.53240034e-05, 4.03174376e-01, 2.51587580e-05],\n",
       "       [6.06937332e-01, 1.54511233e-01, 2.32583613e-01, 5.96782155e-03],\n",
       "       [2.52271767e-01, 2.30484781e-01, 2.10400343e-01, 3.06843109e-01],\n",
       "       [8.30419324e-01, 6.65000717e-02, 1.02893114e-01, 1.87490356e-04],\n",
       "       [6.57108783e-01, 1.21895883e-02, 1.59472791e-01, 1.71228837e-01],\n",
       "       [2.35593547e-01, 5.21793079e-02, 7.12186383e-01, 4.07624485e-05],\n",
       "       [5.07083732e-03, 2.12332011e-04, 2.11909485e-04, 9.94504921e-01],\n",
       "       [2.60719523e-05, 2.57156990e-05, 9.91388118e-01, 8.56009414e-03],\n",
       "       [2.33063082e-05, 2.31460419e-05, 9.99930270e-01, 2.32780864e-05],\n",
       "       [9.13593348e-01, 7.73206543e-02, 8.98878874e-03, 9.72093796e-05],\n",
       "       [3.50812124e-01, 5.86339435e-02, 6.90240031e-05, 5.90484908e-01],\n",
       "       [9.99903337e-01, 3.22304386e-05, 3.22208712e-05, 3.22113930e-05],\n",
       "       [8.38573910e-01, 1.60767632e-02, 1.22366608e-01, 2.29827186e-02],\n",
       "       [3.00244254e-02, 8.74038640e-01, 9.58471271e-02, 8.98078334e-05],\n",
       "       [9.99897778e-01, 3.38302806e-05, 3.40937077e-05, 3.42982466e-05],\n",
       "       [6.18421796e-01, 2.82558672e-02, 3.53277967e-01, 4.43698230e-05],\n",
       "       [3.66632194e-01, 1.67964686e-01, 4.65343321e-01, 5.97993334e-05],\n",
       "       [5.74429841e-01, 1.14779581e-01, 3.07629681e-01, 3.16089710e-03],\n",
       "       [2.98722530e-05, 7.80221211e-01, 2.19719235e-01, 2.96820595e-05],\n",
       "       [6.85523511e-01, 1.99822730e-01, 2.49746058e-04, 1.14404013e-01],\n",
       "       [7.07904733e-01, 3.67137105e-02, 2.07369327e-01, 4.80122293e-02],\n",
       "       [9.93605752e-01, 9.26695521e-05, 8.95035000e-05, 6.21207458e-03],\n",
       "       [9.99869696e-01, 4.34422188e-05, 4.32532342e-05, 4.36086232e-05],\n",
       "       [9.89787950e-01, 2.77545432e-05, 1.01567162e-02, 2.75792374e-05],\n",
       "       [4.69569319e-03, 3.84249969e-02, 9.56853604e-01, 2.57059858e-05],\n",
       "       [2.14651385e-05, 2.12966427e-05, 9.99935882e-01, 2.13565648e-05],\n",
       "       [3.21889729e-05, 1.32252402e-01, 8.67683173e-01, 3.22364414e-05],\n",
       "       [5.23945561e-01, 2.35792644e-02, 3.03667792e-05, 4.52444808e-01],\n",
       "       [3.47794382e-05, 9.99895593e-01, 3.46976144e-05, 3.49300271e-05],\n",
       "       [8.24753592e-05, 9.99750816e-01, 8.35146626e-05, 8.31942505e-05],\n",
       "       [4.28114427e-01, 1.87053683e-03, 1.33569490e-01, 4.36445546e-01],\n",
       "       [4.54667623e-03, 3.63829509e-01, 5.93609748e-02, 5.72262840e-01],\n",
       "       [5.37666487e-01, 1.82696997e-01, 2.16645746e-01, 6.29907702e-02],\n",
       "       [6.29197555e-02, 3.24250187e-01, 6.06466466e-01, 6.36359138e-03],\n",
       "       [3.39127111e-03, 9.96494489e-01, 5.63670954e-05, 5.78726307e-05],\n",
       "       [2.24936092e-05, 2.26005723e-05, 9.99932315e-01, 2.25905995e-05],\n",
       "       [4.71212890e-05, 4.68654488e-05, 4.78505333e-05, 9.99858163e-01],\n",
       "       [9.60204564e-01, 5.35638494e-05, 5.19090084e-03, 3.45509713e-02],\n",
       "       [2.58383298e-05, 2.54067521e-05, 9.99923113e-01, 2.56418862e-05],\n",
       "       [2.00457030e-05, 2.02350450e-05, 9.99939520e-01, 2.01988375e-05],\n",
       "       [2.23771449e-05, 2.23741816e-05, 9.67389742e-01, 3.25655066e-02]])"
      ]
     },
     "execution_count": 6,
     "metadata": {},
     "output_type": "execute_result"
    }
   ],
   "source": [
    "topic_dist = lda.transform(tf)\n",
    "topic_dist"
   ]
  },
  {
   "cell_type": "markdown",
   "metadata": {},
   "source": [
    "Merge back in with the original dataframe."
   ]
  },
  {
   "cell_type": "code",
   "execution_count": 7,
   "metadata": {},
   "outputs": [
    {
     "data": {
      "text/html": [
       "<div>\n",
       "<style scoped>\n",
       "    .dataframe tbody tr th:only-of-type {\n",
       "        vertical-align: middle;\n",
       "    }\n",
       "\n",
       "    .dataframe tbody tr th {\n",
       "        vertical-align: top;\n",
       "    }\n",
       "\n",
       "    .dataframe thead th {\n",
       "        text-align: right;\n",
       "    }\n",
       "</style>\n",
       "<table border=\"1\" class=\"dataframe\">\n",
       "  <thead>\n",
       "    <tr style=\"text-align: right;\">\n",
       "      <th></th>\n",
       "      <th>0</th>\n",
       "      <th>1</th>\n",
       "      <th>2</th>\n",
       "      <th>3</th>\n",
       "      <th>title</th>\n",
       "      <th>author gender</th>\n",
       "      <th>year</th>\n",
       "      <th>text</th>\n",
       "    </tr>\n",
       "  </thead>\n",
       "  <tbody>\n",
       "    <tr>\n",
       "      <th>0</th>\n",
       "      <td>0.927994</td>\n",
       "      <td>0.014370</td>\n",
       "      <td>0.057603</td>\n",
       "      <td>0.000034</td>\n",
       "      <td>A Dog with a Bad Name</td>\n",
       "      <td>Male</td>\n",
       "      <td>1886.0</td>\n",
       "      <td>A DOG WITH A BAD NAME  BY TALBOT BAINES REED  ...</td>\n",
       "    </tr>\n",
       "    <tr>\n",
       "      <th>1</th>\n",
       "      <td>0.027338</td>\n",
       "      <td>0.070131</td>\n",
       "      <td>0.491328</td>\n",
       "      <td>0.411202</td>\n",
       "      <td>A Final Reckoning</td>\n",
       "      <td>Male</td>\n",
       "      <td>1887.0</td>\n",
       "      <td>A Final Reckoning: A Tale of Bush Life in Aust...</td>\n",
       "    </tr>\n",
       "    <tr>\n",
       "      <th>2</th>\n",
       "      <td>0.972302</td>\n",
       "      <td>0.000037</td>\n",
       "      <td>0.022598</td>\n",
       "      <td>0.005064</td>\n",
       "      <td>A House Party, Don Gesualdo, and A Rainy June</td>\n",
       "      <td>Female</td>\n",
       "      <td>1887.0</td>\n",
       "      <td>A HOUSE-PARTY  Don Gesualdo  and  A Rainy June...</td>\n",
       "    </tr>\n",
       "    <tr>\n",
       "      <th>3</th>\n",
       "      <td>0.999907</td>\n",
       "      <td>0.000031</td>\n",
       "      <td>0.000031</td>\n",
       "      <td>0.000031</td>\n",
       "      <td>A Houseful of Girls</td>\n",
       "      <td>Female</td>\n",
       "      <td>1889.0</td>\n",
       "      <td>A HOUSEFUL OF GIRLS. BY SARAH TYTLER,  AUTHOR ...</td>\n",
       "    </tr>\n",
       "    <tr>\n",
       "      <th>4</th>\n",
       "      <td>0.969292</td>\n",
       "      <td>0.028883</td>\n",
       "      <td>0.000061</td>\n",
       "      <td>0.001764</td>\n",
       "      <td>A Little Country Girl</td>\n",
       "      <td>Female</td>\n",
       "      <td>1885.0</td>\n",
       "      <td>LITTLE COUNTRY GIRL.  BY  SUSAN COOLIDGE,     ...</td>\n",
       "    </tr>\n",
       "    <tr>\n",
       "      <th>...</th>\n",
       "      <td>...</td>\n",
       "      <td>...</td>\n",
       "      <td>...</td>\n",
       "      <td>...</td>\n",
       "      <td>...</td>\n",
       "      <td>...</td>\n",
       "      <td>...</td>\n",
       "      <td>...</td>\n",
       "    </tr>\n",
       "    <tr>\n",
       "      <th>122</th>\n",
       "      <td>0.000047</td>\n",
       "      <td>0.000047</td>\n",
       "      <td>0.000048</td>\n",
       "      <td>0.999858</td>\n",
       "      <td>Treasure Island</td>\n",
       "      <td>Male</td>\n",
       "      <td>1883.0</td>\n",
       "      <td>TREASURE ISLAND  by Robert Louis Stevenson    ...</td>\n",
       "    </tr>\n",
       "    <tr>\n",
       "      <th>123</th>\n",
       "      <td>0.960205</td>\n",
       "      <td>0.000054</td>\n",
       "      <td>0.005191</td>\n",
       "      <td>0.034551</td>\n",
       "      <td>Twice Bought</td>\n",
       "      <td>Male</td>\n",
       "      <td>1885.0</td>\n",
       "      <td>The Project Gutenberg EBook of Twice Bought, b...</td>\n",
       "    </tr>\n",
       "    <tr>\n",
       "      <th>124</th>\n",
       "      <td>0.000026</td>\n",
       "      <td>0.000025</td>\n",
       "      <td>0.999923</td>\n",
       "      <td>0.000026</td>\n",
       "      <td>Two Arrows</td>\n",
       "      <td>Male</td>\n",
       "      <td>1886.0</td>\n",
       "      <td>TWO ARROWS      HARPER'S YOUNG PEOPLE'S SERIES...</td>\n",
       "    </tr>\n",
       "    <tr>\n",
       "      <th>125</th>\n",
       "      <td>0.000020</td>\n",
       "      <td>0.000020</td>\n",
       "      <td>0.999940</td>\n",
       "      <td>0.000020</td>\n",
       "      <td>Uncle Remus: His Songs and Sayings</td>\n",
       "      <td>Male</td>\n",
       "      <td>1880.0</td>\n",
       "      <td>Uncle Remus: His Songs and His Sayings  By Joe...</td>\n",
       "    </tr>\n",
       "    <tr>\n",
       "      <th>126</th>\n",
       "      <td>0.000022</td>\n",
       "      <td>0.000022</td>\n",
       "      <td>0.967390</td>\n",
       "      <td>0.032566</td>\n",
       "      <td>Under Drake's Flag</td>\n",
       "      <td>Male</td>\n",
       "      <td>1883.0</td>\n",
       "      <td>Under Drake's Flag:  A Tale of the Spanish Mai...</td>\n",
       "    </tr>\n",
       "  </tbody>\n",
       "</table>\n",
       "<p>127 rows × 8 columns</p>\n",
       "</div>"
      ],
      "text/plain": [
       "            0         1         2         3  \\\n",
       "0    0.927994  0.014370  0.057603  0.000034   \n",
       "1    0.027338  0.070131  0.491328  0.411202   \n",
       "2    0.972302  0.000037  0.022598  0.005064   \n",
       "3    0.999907  0.000031  0.000031  0.000031   \n",
       "4    0.969292  0.028883  0.000061  0.001764   \n",
       "..        ...       ...       ...       ...   \n",
       "122  0.000047  0.000047  0.000048  0.999858   \n",
       "123  0.960205  0.000054  0.005191  0.034551   \n",
       "124  0.000026  0.000025  0.999923  0.000026   \n",
       "125  0.000020  0.000020  0.999940  0.000020   \n",
       "126  0.000022  0.000022  0.967390  0.032566   \n",
       "\n",
       "                                             title author gender    year  \\\n",
       "0                            A Dog with a Bad Name          Male  1886.0   \n",
       "1                                A Final Reckoning          Male  1887.0   \n",
       "2    A House Party, Don Gesualdo, and A Rainy June        Female  1887.0   \n",
       "3                              A Houseful of Girls        Female  1889.0   \n",
       "4                            A Little Country Girl        Female  1885.0   \n",
       "..                                             ...           ...     ...   \n",
       "122                                Treasure Island          Male  1883.0   \n",
       "123                                   Twice Bought          Male  1885.0   \n",
       "124                                     Two Arrows          Male  1886.0   \n",
       "125             Uncle Remus: His Songs and Sayings          Male  1880.0   \n",
       "126                             Under Drake's Flag          Male  1883.0   \n",
       "\n",
       "                                                  text  \n",
       "0    A DOG WITH A BAD NAME  BY TALBOT BAINES REED  ...  \n",
       "1    A Final Reckoning: A Tale of Bush Life in Aust...  \n",
       "2    A HOUSE-PARTY  Don Gesualdo  and  A Rainy June...  \n",
       "3    A HOUSEFUL OF GIRLS. BY SARAH TYTLER,  AUTHOR ...  \n",
       "4    LITTLE COUNTRY GIRL.  BY  SUSAN COOLIDGE,     ...  \n",
       "..                                                 ...  \n",
       "122  TREASURE ISLAND  by Robert Louis Stevenson    ...  \n",
       "123  The Project Gutenberg EBook of Twice Bought, b...  \n",
       "124  TWO ARROWS      HARPER'S YOUNG PEOPLE'S SERIES...  \n",
       "125  Uncle Remus: His Songs and His Sayings  By Joe...  \n",
       "126  Under Drake's Flag:  A Tale of the Spanish Mai...  \n",
       "\n",
       "[127 rows x 8 columns]"
      ]
     },
     "execution_count": 7,
     "metadata": {},
     "output_type": "execute_result"
    }
   ],
   "source": [
    "topic_dist_df = pandas.DataFrame(topic_dist)\n",
    "df_w_topics = topic_dist_df.join(df_lit)\n",
    "df_w_topics"
   ]
  },
  {
   "cell_type": "markdown",
   "metadata": {},
   "source": [
    "Now we can sort the dataframe for the topic of interest, and view the top documents for the topics.\n",
    "Below we sort the documents first by Topic 0 (looking at the top words for this topic I think it's about family, health, and domestic activities), and next by Topic 1 (again looking at the top words I think this topic is about children playing outside in nature). These topics may be a family/nature split?\n",
    "\n",
    "Look at the titles for the two different topics. Look at the gender of the author. Hypotheses?"
   ]
  },
  {
   "cell_type": "code",
   "execution_count": 8,
   "metadata": {
    "scrolled": true
   },
   "outputs": [
    {
     "name": "stdout",
     "output_type": "stream",
     "text": [
      "                                  title author gender         0\n",
      "85                                  NaN           NaN  0.999914\n",
      "3                   A Houseful of Girls        Female  0.999907\n",
      "97                   The Life of a Ship          Male  0.999903\n",
      "100   The Little Princess of Tower Hill        Female  0.999898\n",
      "7                      A World of Girls        Female  0.999891\n",
      "..                                  ...           ...       ...\n",
      "24                     Dick o' the Fens          Male  0.000022\n",
      "111                The Thorogood Family          Male  0.000021\n",
      "33                       For the Temple          Male  0.000021\n",
      "125  Uncle Remus: His Songs and Sayings          Male  0.000020\n",
      "49                            Menhardoc          Male  0.000019\n",
      "\n",
      "[127 rows x 3 columns]\n"
     ]
    }
   ],
   "source": [
    "print(df_w_topics[['title', 'author gender', 0]].sort_values(by=[0], ascending=False))"
   ]
  },
  {
   "cell_type": "code",
   "execution_count": 9,
   "metadata": {
    "scrolled": true
   },
   "outputs": [
    {
     "name": "stdout",
     "output_type": "stream",
     "text": [
      "                                  title author gender         1\n",
      "24                     Dick o' the Fens          Male  0.999933\n",
      "53                      My Friend Smith          Male  0.999922\n",
      "19                          Bunyip Land          Male  0.999919\n",
      "48               Little Lord Fauntleroy        Female  0.999916\n",
      "114             The Willoughby Captains          Male  0.999896\n",
      "..                                  ...           ...       ...\n",
      "126                  Under Drake's Flag          Male  0.000022\n",
      "111                The Thorogood Family          Male  0.000021\n",
      "33                       For the Temple          Male  0.000021\n",
      "76                        The Big Otter          Male  0.000021\n",
      "125  Uncle Remus: His Songs and Sayings          Male  0.000020\n",
      "\n",
      "[127 rows x 3 columns]\n"
     ]
    }
   ],
   "source": [
    "print(df_w_topics[['title', 'author gender', 1]].sort_values(by=[1], ascending=False))"
   ]
  },
  {
   "cell_type": "markdown",
   "metadata": {},
   "source": [
    "<a id='words'></a>\n",
    "### 3. Words Aligned with each Topic"
   ]
  },
  {
   "cell_type": "markdown",
   "metadata": {},
   "source": [
    "We can calculate the total number of words aligned with each topic, and compare by author gender."
   ]
  },
  {
   "cell_type": "code",
   "execution_count": 10,
   "metadata": {
    "scrolled": true
   },
   "outputs": [
    {
     "data": {
      "text/plain": [
       "0       96493\n",
       "1      100603\n",
       "2       85132\n",
       "3       92822\n",
       "4       48251\n",
       "        ...  \n",
       "122     68589\n",
       "123     76593\n",
       "124     56018\n",
       "125     53942\n",
       "126    108275\n",
       "Name: word_count, Length: 127, dtype: int64"
      ]
     },
     "execution_count": 10,
     "metadata": {},
     "output_type": "execute_result"
    }
   ],
   "source": [
    "#first create word count column\n",
    "\n",
    "df_w_topics['word_count'] = df_w_topics['text'].apply(lambda x: len(str(x).split()))\n",
    "df_w_topics['word_count']"
   ]
  },
  {
   "cell_type": "code",
   "execution_count": 11,
   "metadata": {},
   "outputs": [
    {
     "data": {
      "text/plain": [
       "0      89544.893129\n",
       "1       2750.319905\n",
       "2      82773.973483\n",
       "3      92813.400143\n",
       "4      46769.319262\n",
       "           ...     \n",
       "122        3.232002\n",
       "123    73544.948175\n",
       "124        1.447412\n",
       "125        1.081305\n",
       "126        2.422885\n",
       "Name: 0_wc, Length: 127, dtype: float64"
      ]
     },
     "execution_count": 11,
     "metadata": {},
     "output_type": "execute_result"
    }
   ],
   "source": [
    "#multiple topic weight by word count\n",
    "\n",
    "df_w_topics['0_wc'] = df_w_topics[0] * df_w_topics['word_count']\n",
    "df_w_topics['0_wc']"
   ]
  },
  {
   "cell_type": "code",
   "execution_count": 12,
   "metadata": {},
   "outputs": [
    {
     "data": {
      "text/html": [
       "<div>\n",
       "<style scoped>\n",
       "    .dataframe tbody tr th:only-of-type {\n",
       "        vertical-align: middle;\n",
       "    }\n",
       "\n",
       "    .dataframe tbody tr th {\n",
       "        vertical-align: top;\n",
       "    }\n",
       "\n",
       "    .dataframe thead th {\n",
       "        text-align: right;\n",
       "    }\n",
       "</style>\n",
       "<table border=\"1\" class=\"dataframe\">\n",
       "  <thead>\n",
       "    <tr style=\"text-align: right;\">\n",
       "      <th></th>\n",
       "      <th>0</th>\n",
       "      <th>1</th>\n",
       "      <th>2</th>\n",
       "      <th>3</th>\n",
       "      <th>title</th>\n",
       "      <th>author gender</th>\n",
       "      <th>year</th>\n",
       "      <th>text</th>\n",
       "      <th>word_count</th>\n",
       "      <th>0_wc</th>\n",
       "      <th>1_wc</th>\n",
       "      <th>2_wc</th>\n",
       "      <th>3_wc</th>\n",
       "    </tr>\n",
       "  </thead>\n",
       "  <tbody>\n",
       "    <tr>\n",
       "      <th>0</th>\n",
       "      <td>0.927994</td>\n",
       "      <td>0.014370</td>\n",
       "      <td>0.057603</td>\n",
       "      <td>0.000034</td>\n",
       "      <td>A Dog with a Bad Name</td>\n",
       "      <td>Male</td>\n",
       "      <td>1886.0</td>\n",
       "      <td>A DOG WITH A BAD NAME  BY TALBOT BAINES REED  ...</td>\n",
       "      <td>96493</td>\n",
       "      <td>89544.893129</td>\n",
       "      <td>1386.608095</td>\n",
       "      <td>5558.264002</td>\n",
       "      <td>3.234773</td>\n",
       "    </tr>\n",
       "    <tr>\n",
       "      <th>1</th>\n",
       "      <td>0.027338</td>\n",
       "      <td>0.070131</td>\n",
       "      <td>0.491328</td>\n",
       "      <td>0.411202</td>\n",
       "      <td>A Final Reckoning</td>\n",
       "      <td>Male</td>\n",
       "      <td>1887.0</td>\n",
       "      <td>A Final Reckoning: A Tale of Bush Life in Aust...</td>\n",
       "      <td>100603</td>\n",
       "      <td>2750.319905</td>\n",
       "      <td>7055.421499</td>\n",
       "      <td>49429.084933</td>\n",
       "      <td>41368.173663</td>\n",
       "    </tr>\n",
       "    <tr>\n",
       "      <th>2</th>\n",
       "      <td>0.972302</td>\n",
       "      <td>0.000037</td>\n",
       "      <td>0.022598</td>\n",
       "      <td>0.005064</td>\n",
       "      <td>A House Party, Don Gesualdo, and A Rainy June</td>\n",
       "      <td>Female</td>\n",
       "      <td>1887.0</td>\n",
       "      <td>A HOUSE-PARTY  Don Gesualdo  and  A Rainy June...</td>\n",
       "      <td>85132</td>\n",
       "      <td>82773.973483</td>\n",
       "      <td>3.116905</td>\n",
       "      <td>1923.824216</td>\n",
       "      <td>431.085396</td>\n",
       "    </tr>\n",
       "    <tr>\n",
       "      <th>3</th>\n",
       "      <td>0.999907</td>\n",
       "      <td>0.000031</td>\n",
       "      <td>0.000031</td>\n",
       "      <td>0.000031</td>\n",
       "      <td>A Houseful of Girls</td>\n",
       "      <td>Female</td>\n",
       "      <td>1889.0</td>\n",
       "      <td>A HOUSEFUL OF GIRLS. BY SARAH TYTLER,  AUTHOR ...</td>\n",
       "      <td>92822</td>\n",
       "      <td>92813.400143</td>\n",
       "      <td>2.846490</td>\n",
       "      <td>2.882587</td>\n",
       "      <td>2.870780</td>\n",
       "    </tr>\n",
       "    <tr>\n",
       "      <th>4</th>\n",
       "      <td>0.969292</td>\n",
       "      <td>0.028883</td>\n",
       "      <td>0.000061</td>\n",
       "      <td>0.001764</td>\n",
       "      <td>A Little Country Girl</td>\n",
       "      <td>Female</td>\n",
       "      <td>1885.0</td>\n",
       "      <td>LITTLE COUNTRY GIRL.  BY  SUSAN COOLIDGE,     ...</td>\n",
       "      <td>48251</td>\n",
       "      <td>46769.319262</td>\n",
       "      <td>1393.626070</td>\n",
       "      <td>2.921490</td>\n",
       "      <td>85.133178</td>\n",
       "    </tr>\n",
       "  </tbody>\n",
       "</table>\n",
       "</div>"
      ],
      "text/plain": [
       "          0         1         2         3  \\\n",
       "0  0.927994  0.014370  0.057603  0.000034   \n",
       "1  0.027338  0.070131  0.491328  0.411202   \n",
       "2  0.972302  0.000037  0.022598  0.005064   \n",
       "3  0.999907  0.000031  0.000031  0.000031   \n",
       "4  0.969292  0.028883  0.000061  0.001764   \n",
       "\n",
       "                                           title author gender    year  \\\n",
       "0                          A Dog with a Bad Name          Male  1886.0   \n",
       "1                              A Final Reckoning          Male  1887.0   \n",
       "2  A House Party, Don Gesualdo, and A Rainy June        Female  1887.0   \n",
       "3                            A Houseful of Girls        Female  1889.0   \n",
       "4                          A Little Country Girl        Female  1885.0   \n",
       "\n",
       "                                                text  word_count  \\\n",
       "0  A DOG WITH A BAD NAME  BY TALBOT BAINES REED  ...       96493   \n",
       "1  A Final Reckoning: A Tale of Bush Life in Aust...      100603   \n",
       "2  A HOUSE-PARTY  Don Gesualdo  and  A Rainy June...       85132   \n",
       "3  A HOUSEFUL OF GIRLS. BY SARAH TYTLER,  AUTHOR ...       92822   \n",
       "4  LITTLE COUNTRY GIRL.  BY  SUSAN COOLIDGE,     ...       48251   \n",
       "\n",
       "           0_wc         1_wc          2_wc          3_wc  \n",
       "0  89544.893129  1386.608095   5558.264002      3.234773  \n",
       "1   2750.319905  7055.421499  49429.084933  41368.173663  \n",
       "2  82773.973483     3.116905   1923.824216    431.085396  \n",
       "3  92813.400143     2.846490      2.882587      2.870780  \n",
       "4  46769.319262  1393.626070      2.921490     85.133178  "
      ]
     },
     "execution_count": 12,
     "metadata": {},
     "output_type": "execute_result"
    }
   ],
   "source": [
    "#create a for loop to do this for every topic\n",
    "topic_columns = range(0, n_topics)\n",
    "col_list = []\n",
    "for num in topic_columns:\n",
    "    col = \"%d_wc\" % num\n",
    "    col_list.append(col)\n",
    "    #Solution\n",
    "    df_w_topics[col] = df_w_topics[num] * df_w_topics['word_count']\n",
    "    \n",
    "df_w_topics.head()"
   ]
  },
  {
   "cell_type": "markdown",
   "metadata": {},
   "source": [
    "<a id='time'></a>\n",
    "### 4. Topic Prevalence over time"
   ]
  },
  {
   "cell_type": "markdown",
   "metadata": {},
   "source": [
    "We can do the same as above, but by year, to graph the prevalence of each topic over time."
   ]
  },
  {
   "cell_type": "code",
   "execution_count": 13,
   "metadata": {},
   "outputs": [
    {
     "data": {
      "text/html": [
       "<div>\n",
       "<style scoped>\n",
       "    .dataframe tbody tr th:only-of-type {\n",
       "        vertical-align: middle;\n",
       "    }\n",
       "\n",
       "    .dataframe tbody tr th {\n",
       "        vertical-align: top;\n",
       "    }\n",
       "\n",
       "    .dataframe thead th {\n",
       "        text-align: right;\n",
       "    }\n",
       "</style>\n",
       "<table border=\"1\" class=\"dataframe\">\n",
       "  <thead>\n",
       "    <tr style=\"text-align: right;\">\n",
       "      <th></th>\n",
       "      <th>0_wc</th>\n",
       "      <th>1_wc</th>\n",
       "      <th>2_wc</th>\n",
       "      <th>3_wc</th>\n",
       "    </tr>\n",
       "    <tr>\n",
       "      <th>year</th>\n",
       "      <th></th>\n",
       "      <th></th>\n",
       "      <th></th>\n",
       "      <th></th>\n",
       "    </tr>\n",
       "  </thead>\n",
       "  <tbody>\n",
       "    <tr>\n",
       "      <th>1880.0</th>\n",
       "      <td>15794.201049</td>\n",
       "      <td>38005.446648</td>\n",
       "      <td>10041.439549</td>\n",
       "      <td>7977.162754</td>\n",
       "    </tr>\n",
       "    <tr>\n",
       "      <th>1881.0</th>\n",
       "      <td>31449.685887</td>\n",
       "      <td>7819.022251</td>\n",
       "      <td>31735.941554</td>\n",
       "      <td>11839.350308</td>\n",
       "    </tr>\n",
       "    <tr>\n",
       "      <th>1882.0</th>\n",
       "      <td>31981.062589</td>\n",
       "      <td>15605.106999</td>\n",
       "      <td>3464.397757</td>\n",
       "      <td>19884.099322</td>\n",
       "    </tr>\n",
       "    <tr>\n",
       "      <th>1883.0</th>\n",
       "      <td>16343.271990</td>\n",
       "      <td>17545.803370</td>\n",
       "      <td>27460.460085</td>\n",
       "      <td>8770.254029</td>\n",
       "    </tr>\n",
       "    <tr>\n",
       "      <th>1884.0</th>\n",
       "      <td>40760.187888</td>\n",
       "      <td>8588.532149</td>\n",
       "      <td>15938.370179</td>\n",
       "      <td>4661.409784</td>\n",
       "    </tr>\n",
       "    <tr>\n",
       "      <th>1885.0</th>\n",
       "      <td>25531.289505</td>\n",
       "      <td>25119.637127</td>\n",
       "      <td>11866.668736</td>\n",
       "      <td>13221.154632</td>\n",
       "    </tr>\n",
       "    <tr>\n",
       "      <th>1886.0</th>\n",
       "      <td>37580.788620</td>\n",
       "      <td>17129.076190</td>\n",
       "      <td>18723.589440</td>\n",
       "      <td>5997.722220</td>\n",
       "    </tr>\n",
       "    <tr>\n",
       "      <th>1887.0</th>\n",
       "      <td>34624.013800</td>\n",
       "      <td>5714.306037</td>\n",
       "      <td>18226.965877</td>\n",
       "      <td>17118.114287</td>\n",
       "    </tr>\n",
       "    <tr>\n",
       "      <th>1888.0</th>\n",
       "      <td>31871.601433</td>\n",
       "      <td>10618.490345</td>\n",
       "      <td>31105.366516</td>\n",
       "      <td>1701.157091</td>\n",
       "    </tr>\n",
       "    <tr>\n",
       "      <th>1889.0</th>\n",
       "      <td>33780.342308</td>\n",
       "      <td>10283.982307</td>\n",
       "      <td>39703.278044</td>\n",
       "      <td>8452.456164</td>\n",
       "    </tr>\n",
       "  </tbody>\n",
       "</table>\n",
       "</div>"
      ],
      "text/plain": [
       "                0_wc          1_wc          2_wc          3_wc\n",
       "year                                                          \n",
       "1880.0  15794.201049  38005.446648  10041.439549   7977.162754\n",
       "1881.0  31449.685887   7819.022251  31735.941554  11839.350308\n",
       "1882.0  31981.062589  15605.106999   3464.397757  19884.099322\n",
       "1883.0  16343.271990  17545.803370  27460.460085   8770.254029\n",
       "1884.0  40760.187888   8588.532149  15938.370179   4661.409784\n",
       "1885.0  25531.289505  25119.637127  11866.668736  13221.154632\n",
       "1886.0  37580.788620  17129.076190  18723.589440   5997.722220\n",
       "1887.0  34624.013800   5714.306037  18226.965877  17118.114287\n",
       "1888.0  31871.601433  10618.490345  31105.366516   1701.157091\n",
       "1889.0  33780.342308  10283.982307  39703.278044   8452.456164"
      ]
     },
     "execution_count": 13,
     "metadata": {},
     "output_type": "execute_result"
    }
   ],
   "source": [
    "grouped_year = df_w_topics[['0_wc', '1_wc', '2_wc', '3_wc', 'year']].groupby('year').mean()\n",
    "grouped_year"
   ]
  },
  {
   "cell_type": "code",
   "execution_count": 14,
   "metadata": {},
   "outputs": [
    {
     "data": {
      "text/plain": [
       "<AxesSubplot:xlabel='year', ylabel='0_wc'>"
      ]
     },
     "execution_count": 14,
     "metadata": {},
     "output_type": "execute_result"
    },
    {
     "data": {
      "image/png": "[encoded data removed]",
      "text/plain": [
       "<Figure size 640x480 with 1 Axes>"
      ]
     },
     "metadata": {},
     "output_type": "display_data"
    }
   ],
   "source": [
    "import seaborn as sns\n",
    "\n",
    "sns.regplot(x=grouped_year.index, y = '0_wc', data = grouped_year)"
   ]
  },
  {
   "cell_type": "code",
   "execution_count": 15,
   "metadata": {},
   "outputs": [
    {
     "data": {
      "text/plain": [
       "<AxesSubplot:xlabel='year', ylabel='1_wc'>"
      ]
     },
     "execution_count": 15,
     "metadata": {},
     "output_type": "execute_result"
    },
    {
     "data": {
      "image/png": "[encoded data removed]",
      "text/plain": [
       "<Figure size 640x480 with 1 Axes>"
      ]
     },
     "metadata": {},
     "output_type": "display_data"
    }
   ],
   "source": [
    "sns.regplot(x=grouped_year.index, y = '1_wc', data = grouped_year)"
   ]
  },
  {
   "cell_type": "code",
   "execution_count": 16,
   "metadata": {},
   "outputs": [
    {
     "name": "stdout",
     "output_type": "stream",
     "text": [
      "\n",
      "Topics in LDA model:\n",
      "\n",
      "Topic #0:\n",
      "project doctor girls sister papa mamma london baby sweet tom street works dr remarked aunt tea youth foundation presently study em ain cousin office darling loved ladies wasn everybody public flower observed nurse ma shop snow ye queen class reader ice stairs flowers lovely agreement sisters doesn carriage bell garden\n",
      "\n",
      "Topic #1:\n",
      "dick uncle doctor er jack ain tom den yer fish em rock wolf gun rope lads ha birds rocks beneath ay stream shock tail moments mate excitedly garden eh sand fishing thrust ye nay gazing softly mountain ship tremendous hook bird leg ashore growled penny shore stones farther jump knife\n",
      "\n",
      "Topic #2:\n",
      "king army french troops camp attack officers prince ship john soldiers city village officer guns rode shore regiment march tom fort wounded british boats sword advanced castle jack james indian band marched native prisoners ships arrows france numbers lads forest frank ride presently vessel fought mounted fleet column stream rear\n",
      "\n",
      "Topic #3:\n",
      "jack ye frank deck project uncle ship george shore doctor vessel ain mate lake cabin em ma st john works boats island officer girls passengers sail street church thou south office ha fish ay yer steam soldier ladies regard fleet camp public foundation rope lads illustration bottle pounds stairs crew\n",
      "\n"
     ]
    }
   ],
   "source": [
    "# Remember what these two topics are:\n",
    "\n",
    "print(\"\\nTopics in LDA model:\")\n",
    "tf_feature_names = tf_vectorizer.get_feature_names_out()\n",
    "print_top_words(lda, tf_feature_names, n_top_words)"
   ]
  },
  {
   "cell_type": "markdown",
   "metadata": {},
   "source": [
    "# Exercises!\n",
    "\n",
    "1. Fit a new topic model, lda_new, and change some of the parameters. How does this change the output?\n",
    "Suggestions for what to change:\n",
    "* Change the number of topics. \n",
    "* Do not remove stop words. \n",
    "* Change other options, either in the vectorize stage or the LDA model.\n",
    "\n",
    "2. In our original model, find the most prevalent topic in the corpus. Find the least prevalent topic in the corpus. \n",
    " \n",
    "3. What is the total number of words aligned with each topic, by author gender?\n",
    "\n",
    "4. What is the proportion of total words aligned with each topic, by author gender?\n",
    "\n",
    "5. What is the average topic weight by author gender, for each topic?\n",
    "\n",
    "6. Grapth any of the above results.\n",
    "\n",
    "7. Visualize the other two topics over time. Do you find anything interesting?\n",
    "\n"
   ]
  },
  {
   "cell_type": "code",
   "execution_count": 17,
   "metadata": {},
   "outputs": [
    {
     "name": "stdout",
     "output_type": "stream",
     "text": [
      "Extracting tf features for LDA...\n"
     ]
    }
   ],
   "source": [
    "print(\"Extracting tf features for LDA...\")\n",
    "tf_vectorizer = CountVectorizer(max_df=0.80, min_df=50,\n",
    "                                max_features=None,\n",
    "                                stop_words='english'\n",
    "                                )\n",
    "\n",
    "tf = tf_vectorizer.fit_transform(df_lit.text)"
   ]
  },
  {
   "cell_type": "code",
   "execution_count": 18,
   "metadata": {},
   "outputs": [
    {
     "name": "stdout",
     "output_type": "stream",
     "text": [
      "Fitting LDA models with tf features, n_samples=2000 and n_topics=10...\n"
     ]
    },
    {
     "data": {
      "text/plain": [
       "LatentDirichletAllocation(learning_method='online', learning_offset=80.0,\n",
       "                          max_iter=20, random_state=0, total_samples=2000)"
      ]
     },
     "execution_count": 18,
     "metadata": {},
     "output_type": "execute_result"
    }
   ],
   "source": [
    "n_samples = 2000\n",
    "n_topics = 10\n",
    "n_top_words = 50\n",
    "\n",
    "print(\"Fitting LDA models with tf features, \"\n",
    "      \"n_samples=%d and n_topics=%d...\"\n",
    "      % (n_samples, n_topics))\n",
    "\n",
    "#define the lda function, with desired options\n",
    "#Check the documentation, linked above, to look through the options\n",
    "lda = LatentDirichletAllocation(n_components=n_topics, max_iter=20,\n",
    "                                learning_method='online',\n",
    "                                learning_offset=80.,\n",
    "                                total_samples=n_samples,\n",
    "                                random_state=0)\n",
    "#fit the model\n",
    "lda.fit(tf)"
   ]
  },
  {
   "cell_type": "code",
   "execution_count": 19,
   "metadata": {},
   "outputs": [
    {
     "name": "stdout",
     "output_type": "stream",
     "text": [
      "\n",
      "Topics in LDA model:\n",
      "\n",
      "Topic #0:\n",
      "project doctor girls papa sister mamma baby london street tom sweet dr tea aunt works remarked ain em foundation study office wasn cousin youth ladies presently darling flower public everybody loved george shop nurse ye ma class uncle stairs bell reader st regard doesn carriage agreement observed flowers demanded sisters\n",
      "\n",
      "Topic #1:\n",
      "dick uncle tom doctor fish jack em rope lads rock ay shock birds gun mate fishing beneath garden sand stream nay moments rocks eh excitedly thrust hook yer tremendous ashore ha pole ye softly fruit shore angrily growled ship gazing surface chap leg works deck ladder basket splash tail task\n",
      "\n",
      "Topic #2:\n",
      "king army french troops attack ship officers camp soldiers officer shore village city guns john boats regiment deck march tom vessel fort prince british rode advanced wounded james island native marched fleet ships france lads prisoners numbers band speed lake sword sail column castle fought jack south forest considerable coast\n",
      "\n",
      "Topic #3:\n",
      "project ma doctor church works james regiment soldier girls tent foundation cheese camp minister rode soldiers female anybody officers army officer states store stairs college public boots teacher woods agreement kicked ride sunday tail shirt bottle guess united corn office street copy society saddle fence stomach bridge heaven angel leg\n",
      "\n",
      "Topic #4:\n",
      "king jack frank uncle troops french john ship camp attack army city village shore soldiers doctor prince dick james deck boats arrows tom street forest coast march officer em ye lake band ain wounded fish native project guns advanced london officers stream lads fired ha rope rock works presently numbers\n",
      "\n",
      "Topic #5:\n",
      "ye uncle ay king ship rock james sword folk scarce deck soldiers shore bottle presently south island cries george hills crying anger murder rocks mountains farther french valley seas france brandy sore doctor seek john coats plainly shame doubtless mountain gentlemen aloud desert bush ashore pistol meat kitchen east officer\n",
      "\n",
      "Topic #6:\n",
      "er ain den uncle yer wolf jack folks lion gun dish tail sing jump aunt seed study doctor goodness bag meat fish john bird win fix eve rock ha nigh fool woods fur song butter somebody baby deer outer bull patch christmas tie ho chap responded bushes fuss pot inquired\n",
      "\n",
      "Topic #7:\n",
      "frank ain dick uncle camp john em pounds bush stream doctor attack innocent mate dr nigh den village coast rode shore boats hunters cousin meat guilty fort ship illustration tea chap presently tent claim wasn cases reckon street cabin officer king evidence ride station afore fever public warn valley steady\n",
      "\n",
      "Topic #8:\n",
      "jack king prince palace queen thou castle majesty city cat court presently giant beauty beast ha john marry ring maid street lads charming brothers garden mountain royal golden girls crown sword dogs kingdom tail married thee ship village st wine youth boots bull forest em loved sister office servants chamber\n",
      "\n",
      "Topic #9:\n",
      "doctor camp indian john ha arrows rock em mountain rode ship penny maiden ride rocks sword pine savage band bushes mountains gun wounded lake attack stream jack yellow enemies knife cattle mistress pony deer ye prisoner island hunting shore mounted heaven valley warning bears forest king farther stones meat animal\n",
      "\n"
     ]
    }
   ],
   "source": [
    "print(\"\\nTopics in LDA model:\")\n",
    "tf_feature_names = tf_vectorizer.get_feature_names_out()\n",
    "print_top_words(lda, tf_feature_names, n_top_words)"
   ]
  },
  {
   "cell_type": "markdown",
   "metadata": {},
   "source": [
    "a lot of doctors and kings.."
   ]
  },
  {
   "cell_type": "code",
   "execution_count": 20,
   "metadata": {},
   "outputs": [
    {
     "name": "stdout",
     "output_type": "stream",
     "text": [
      "Extracting tf features for LDA...\n"
     ]
    }
   ],
   "source": [
    "print(\"Extracting tf features for LDA...\")\n",
    "tf_vectorizer = CountVectorizer(max_df=0.80, min_df=50,\n",
    "                                max_features=None\n",
    "                                )\n",
    "\n",
    "tf = tf_vectorizer.fit_transform(df_lit.text)"
   ]
  },
  {
   "cell_type": "code",
   "execution_count": 21,
   "metadata": {},
   "outputs": [
    {
     "name": "stdout",
     "output_type": "stream",
     "text": [
      "Fitting LDA models with tf features, n_samples=2000 and n_topics=10...\n"
     ]
    },
    {
     "data": {
      "text/plain": [
       "LatentDirichletAllocation(learning_method='online', learning_offset=80.0,\n",
       "                          max_iter=20, random_state=0, total_samples=2000)"
      ]
     },
     "execution_count": 21,
     "metadata": {},
     "output_type": "execute_result"
    }
   ],
   "source": [
    "n_samples = 2000\n",
    "n_topics = 10\n",
    "n_top_words = 50\n",
    "\n",
    "print(\"Fitting LDA models with tf features, \"\n",
    "      \"n_samples=%d and n_topics=%d...\"\n",
    "      % (n_samples, n_topics))\n",
    "\n",
    "#define the lda function, with desired options\n",
    "#Check the documentation, linked above, to look through the options\n",
    "lda = LatentDirichletAllocation(n_components=n_topics, max_iter=20,\n",
    "                                learning_method='online',\n",
    "                                learning_offset=80.,\n",
    "                                total_samples=n_samples,\n",
    "                                random_state=0)\n",
    "#fit the model\n",
    "lda.fit(tf)"
   ]
  },
  {
   "cell_type": "code",
   "execution_count": 22,
   "metadata": {},
   "outputs": [
    {
     "name": "stdout",
     "output_type": "stream",
     "text": [
      "\n",
      "Topics in LDA model:\n",
      "\n",
      "Topic #0:\n",
      "dick uncle tom doctor fish jack em lads rope rock towards ay birds rocks gun beneath nay excitedly fishing stream moments thrust eh sand hook shock tremendous ha mate softly growled ashore stones angrily farther ship toward surface shore task leg works gazing horrible garden pole bird roar ye tail\n",
      "\n",
      "Topic #1:\n",
      "frank ain uncle dick em camp john tom pounds stream ship coast doctor dr project attack ye shore innocent mate nigh tent hunters street boats tea claim village cases cousin fort illustration wasn meat chap reckon rode towards public cabin king officer guilty london fever lads ice considerable afore de\n",
      "\n",
      "Topic #2:\n",
      "king john army city prince ship attack troops castle soldiers france french sword towards camp ships shore fought numbers prisoners vessel london rode band fleet march arrows village marched boats gate resistance officer vessels officers armed coast presently advanced deck hills council count sail parties port forest leader desperate island\n",
      "\n",
      "Topic #3:\n",
      "jack king prince bill ha queen arrows camp thou palace em mill yellow ye village indian mountain pine band cat court toward giant majesty rode girls beast rock beauty presently ride bears warning castle marry doctor city forest wolf mountains ain ship pipes sister ring john lads thee dogs bull\n",
      "\n",
      "Topic #4:\n",
      "de mamma papa frank project king vi ship flower doctor sweet village deck shore aunt girls baby sister presently army toward darling works officers remarked towards city camp vessel coast tea attack ride prince loved london boats kiss dr garden officer ladies forest uncle obey grace south native french troops\n",
      "\n",
      "Topic #5:\n",
      "girls doctor papa mamma sister baby aunt sweet london dr street flower george tea yer darling tom cousin presently project loved uncle nurse ladies everybody flowers carriage de stairs mary ma wasn ain lovely gray remarked purse vi shop garden sisters christmas doesn rooms church bell st study em train\n",
      "\n",
      "Topic #6:\n",
      "august snow king swallow project city church dick garden uncle mountains painted heaven ship soldiers golden sold doctor prince towards works ice flowers army knife birds loved mountain bridge brothers noble music tom sweet lads court de giant ay murmured huge shore london village train wooden pole john wheel faith\n",
      "\n",
      "Topic #7:\n",
      "french troops officers attack guns army doctor officer jack tom camp regiment village soldiers british towards fort rode wounded dick ship james march native lads king column boats fired shore advanced marched mounted ride soldier rear stream attacked bush firing spanish prisoner governor presently prisoners count valley tent deck expedition\n",
      "\n",
      "Topic #8:\n",
      "de er den ain uncle yer wolf un jack folks gun lion dish tail sing jump aunt seed study goodness bag meat win fish fix woods king eve nigh rock fool song fur ha butter somebody john outer deer bull bird ho patch fuss tie bushes responded baby ma leg\n",
      "\n",
      "Topic #9:\n",
      "project doctor ye towards works shore island deck ship indian em foundation youth lake ice observed fish camp vessel tom ain mate public office gun james remarked boats agreement considerable reader states crew london ay snow cabin street regard demanded south study knife rock hut hero ma united tail sailor\n",
      "\n"
     ]
    }
   ],
   "source": [
    "print(\"\\nTopics in LDA model:\")\n",
    "tf_feature_names = tf_vectorizer.get_feature_names_out()\n",
    "print_top_words(lda, tf_feature_names, n_top_words)"
   ]
  },
  {
   "cell_type": "code",
   "execution_count": 23,
   "metadata": {},
   "outputs": [
    {
     "name": "stdout",
     "output_type": "stream",
     "text": [
      "Extracting tf features for LDA...\n"
     ]
    }
   ],
   "source": [
    "print(\"Extracting tf features for LDA...\")\n",
    "tf_vectorizer = CountVectorizer(max_df=0.80, min_df=50,\n",
    "                                max_features=None,\n",
    "                                stop_words='english'\n",
    "                                )\n",
    "\n",
    "tf = tf_vectorizer.fit_transform(df_lit.text)"
   ]
  },
  {
   "cell_type": "code",
   "execution_count": 24,
   "metadata": {},
   "outputs": [
    {
     "name": "stdout",
     "output_type": "stream",
     "text": [
      "Fitting LDA models with tf features, n_samples=2000 and n_topics=4...\n"
     ]
    },
    {
     "data": {
      "text/plain": [
       "LatentDirichletAllocation(learning_method='online', learning_offset=80.0,\n",
       "                          max_iter=20, n_components=4, random_state=0,\n",
       "                          total_samples=2000)"
      ]
     },
     "execution_count": 24,
     "metadata": {},
     "output_type": "execute_result"
    }
   ],
   "source": [
    "n_samples = 2000\n",
    "n_topics = 4\n",
    "n_top_words = 50\n",
    "\n",
    "print(\"Fitting LDA models with tf features, \"\n",
    "      \"n_samples=%d and n_topics=%d...\"\n",
    "      % (n_samples, n_topics))\n",
    "\n",
    "#define the lda function, with desired options\n",
    "#Check the documentation, linked above, to look through the options\n",
    "lda = LatentDirichletAllocation(n_components=n_topics, max_iter=20,\n",
    "                                learning_method='online',\n",
    "                                learning_offset=80.,\n",
    "                                total_samples=n_samples,\n",
    "                                random_state=0)\n",
    "#fit the model\n",
    "lda.fit(tf)"
   ]
  },
  {
   "cell_type": "code",
   "execution_count": 25,
   "metadata": {},
   "outputs": [
    {
     "data": {
      "text/plain": [
       "array([[9.27993669e-01, 1.43700382e-02, 5.76027691e-02, 3.35234006e-05],\n",
       "       [2.73383488e-02, 7.01313231e-02, 4.91328141e-01, 4.11202187e-01],\n",
       "       [9.72301526e-01, 3.66126075e-05, 2.25981325e-02, 5.06372922e-03],\n",
       "       [9.99907351e-01, 3.06661128e-05, 3.10550012e-05, 3.09277922e-05],\n",
       "       [9.69292227e-01, 2.88828433e-02, 6.05477628e-05, 1.76438162e-03],\n",
       "       [9.02818435e-01, 9.70583246e-02, 6.16743414e-05, 6.15656757e-05],\n",
       "       [4.10396600e-01, 5.86307314e-01, 1.35979768e-04, 3.16010688e-03],\n",
       "       [9.99890902e-01, 3.60980543e-05, 3.67128035e-05, 3.62872482e-05],\n",
       "       [2.46371338e-01, 2.56589766e-01, 4.50088248e-01, 4.69506480e-02],\n",
       "       [7.08481800e-05, 3.81086663e-01, 6.18771825e-01, 7.06641686e-05],\n",
       "       [6.19417246e-02, 5.60865999e-02, 8.81890242e-01, 8.14334923e-05],\n",
       "       [5.50253267e-05, 5.59319821e-05, 5.52375701e-05, 9.99833805e-01],\n",
       "       [1.54941895e-01, 8.53067338e-05, 1.95440934e-01, 6.49531864e-01],\n",
       "       [8.16413872e-01, 6.08089939e-02, 1.22708631e-01, 6.85031993e-05],\n",
       "       [6.29009722e-01, 4.21386866e-02, 2.54541577e-01, 7.43100148e-02],\n",
       "       [5.20390704e-01, 2.69891665e-05, 3.12178238e-01, 1.67404069e-01],\n",
       "       [2.59339206e-05, 2.54612217e-05, 9.99922584e-01, 2.60211864e-05],\n",
       "       [6.22435512e-03, 4.68816251e-05, 2.25767472e-02, 9.71152016e-01],\n",
       "       [3.87465852e-04, 9.99551674e-01, 3.01743230e-05, 3.06855502e-05],\n",
       "       [2.68953989e-05, 9.99919007e-01, 2.72168308e-05, 2.68810707e-05],\n",
       "       [2.69833700e-05, 2.80524034e-02, 7.49472949e-01, 2.22447664e-01],\n",
       "       [2.77889542e-05, 7.34069452e-02, 1.97857460e-01, 7.28707806e-01],\n",
       "       [9.97249650e-01, 6.12290209e-05, 1.11113084e-03, 1.57799044e-03],\n",
       "       [2.11005150e-03, 7.24263955e-01, 2.73601496e-01, 2.44968641e-05],\n",
       "       [2.23764047e-05, 9.99933009e-01, 2.22828683e-05, 2.23316258e-05],\n",
       "       [4.93753142e-05, 4.91020308e-05, 4.98451013e-05, 9.99851678e-01],\n",
       "       [9.92489652e-01, 1.86473736e-03, 1.54734276e-03, 4.09826791e-03],\n",
       "       [9.99882923e-01, 3.88701433e-05, 3.89527356e-05, 3.92542903e-05],\n",
       "       [9.99873970e-01, 4.19279277e-05, 4.18597810e-05, 4.22421685e-05],\n",
       "       [6.95185897e-04, 7.34312964e-03, 4.01273553e-03, 9.87948949e-01],\n",
       "       [8.75839693e-01, 1.24052565e-01, 5.41207288e-05, 5.36206171e-05],\n",
       "       [6.36222545e-01, 3.63720142e-01, 2.86381710e-05, 2.86742684e-05],\n",
       "       [2.95087877e-05, 2.95816598e-05, 9.99911112e-01, 2.97977155e-05],\n",
       "       [2.13256430e-05, 2.10559479e-05, 9.99936397e-01, 2.12209363e-05],\n",
       "       [2.52951451e-05, 2.47863102e-05, 9.99924710e-01, 2.52088689e-05],\n",
       "       [5.50178330e-01, 3.81124210e-05, 2.19143102e-01, 2.30640456e-01],\n",
       "       [9.99870242e-01, 4.29589552e-05, 4.32499132e-05, 4.35495588e-05],\n",
       "       [7.68274655e-01, 2.31587553e-01, 6.88908253e-05, 6.89012673e-05],\n",
       "       [3.02635323e-05, 3.00362899e-05, 2.28550285e-01, 7.71389415e-01],\n",
       "       [3.78348200e-01, 3.76726709e-05, 6.05171022e-01, 1.64431056e-02],\n",
       "       [2.48140562e-05, 1.14676837e-01, 8.85273702e-01, 2.46464918e-05],\n",
       "       [2.46288680e-05, 6.86021611e-02, 8.78430327e-01, 5.29428835e-02],\n",
       "       [6.96768549e-01, 1.61091998e-02, 2.48347032e-01, 3.87752187e-02],\n",
       "       [9.84724988e-01, 1.32514180e-02, 2.82458747e-05, 1.99534815e-03],\n",
       "       [9.48549600e-01, 2.17851043e-02, 4.99388846e-05, 2.96153565e-02],\n",
       "       [9.99432957e-01, 1.86591148e-04, 1.88885121e-04, 1.91566514e-04],\n",
       "       [6.44725935e-03, 1.15032272e-01, 1.39974344e-01, 7.38546124e-01],\n",
       "       [8.92880314e-01, 1.06990181e-01, 6.49862726e-05, 6.45187573e-05],\n",
       "       [2.79592490e-05, 9.99916066e-01, 2.79014504e-05, 2.80733658e-05],\n",
       "       [1.89458962e-05, 7.47291749e-01, 2.52670376e-01, 1.89295372e-05],\n",
       "       [2.47825533e-05, 9.68102678e-01, 2.02279090e-02, 1.16446302e-02],\n",
       "       [9.40573222e-01, 4.88573281e-02, 6.35625559e-05, 1.05058869e-02],\n",
       "       [6.43259582e-01, 1.48922683e-02, 2.49253922e-05, 3.41823224e-01],\n",
       "       [2.62163326e-05, 9.99921897e-01, 2.57379596e-05, 2.61491059e-05],\n",
       "       [2.75622380e-05, 2.72366214e-05, 9.99917589e-01, 2.76122315e-05],\n",
       "       [2.84026252e-05, 9.93662591e-01, 2.80940235e-05, 6.28091229e-03],\n",
       "       [6.04745270e-05, 5.95408446e-05, 5.84978728e-05, 9.99821487e-01],\n",
       "       [5.93806852e-02, 3.46949883e-05, 3.43401887e-05, 9.40550280e-01],\n",
       "       [9.99890704e-01, 3.67775412e-05, 3.61683120e-05, 3.63499455e-05],\n",
       "       [9.15079355e-01, 2.58967910e-05, 1.62305819e-02, 6.86641667e-02],\n",
       "       [3.57347337e-01, 1.41755892e-04, 6.42369659e-01, 1.41247656e-04],\n",
       "       [1.34751191e-01, 8.65194234e-01, 2.71253760e-05, 2.74492035e-05],\n",
       "       [8.18693885e-01, 4.46272497e-03, 1.76816512e-01, 2.68784146e-05],\n",
       "       [9.99607042e-01, 3.79842903e-05, 3.79466263e-05, 3.17027013e-04],\n",
       "       [9.78565311e-01, 2.09382720e-02, 2.48876622e-04, 2.47540480e-04],\n",
       "       [3.33633353e-01, 7.07487297e-02, 5.92078991e-01, 3.53892572e-03],\n",
       "       [1.56793327e-01, 6.90749086e-01, 2.54887811e-04, 1.52202700e-01],\n",
       "       [2.34909275e-05, 2.30992456e-05, 9.99930092e-01, 2.33182901e-05],\n",
       "       [1.24520919e-02, 6.07831844e-02, 7.03609668e-02, 8.56403757e-01],\n",
       "       [5.36809469e-05, 5.27821583e-05, 1.81841629e-01, 8.18051907e-01],\n",
       "       [1.62000362e-01, 2.70566965e-01, 5.66232408e-01, 1.20026461e-03],\n",
       "       [4.75872869e-01, 5.23997278e-01, 6.44584727e-05, 6.53940160e-05],\n",
       "       [5.11255638e-01, 6.63880256e-02, 1.29577789e-01, 2.92778547e-01],\n",
       "       [3.25555282e-01, 5.29041078e-05, 6.64877341e-01, 9.51447358e-03],\n",
       "       [6.74521206e-01, 3.94834898e-02, 2.82683303e-01, 3.31200138e-03],\n",
       "       [6.59971779e-01, 3.26800005e-01, 1.92630251e-04, 1.30355853e-02],\n",
       "       [4.47955889e-01, 2.07716120e-05, 5.52002729e-01, 2.06111200e-05],\n",
       "       [2.74230398e-05, 2.73114627e-05, 9.48652379e-01, 5.12928869e-02],\n",
       "       [3.24002453e-02, 2.43931794e-05, 9.67550760e-01, 2.46015027e-05],\n",
       "       [9.94149674e-01, 3.97325275e-05, 5.77114770e-03, 3.94457639e-05],\n",
       "       [5.07795452e-03, 2.60262231e-05, 9.94869727e-01, 2.62918616e-05],\n",
       "       [5.08686499e-01, 8.99641260e-02, 3.05305812e-01, 9.60435633e-02],\n",
       "       [3.63808909e-01, 3.12648813e-05, 5.60073674e-01, 7.60861521e-02],\n",
       "       [2.87962449e-05, 2.86650849e-05, 9.99913614e-01, 2.89245921e-05],\n",
       "       [6.44128252e-01, 1.62680401e-01, 1.00259212e-01, 9.29321352e-02],\n",
       "       [9.99914405e-01, 2.87026734e-05, 2.83997990e-05, 2.84923735e-05],\n",
       "       [5.96775142e-01, 2.53240034e-05, 4.03174376e-01, 2.51587580e-05],\n",
       "       [6.06937332e-01, 1.54511233e-01, 2.32583613e-01, 5.96782155e-03],\n",
       "       [2.52271767e-01, 2.30484781e-01, 2.10400343e-01, 3.06843109e-01],\n",
       "       [8.30419324e-01, 6.65000717e-02, 1.02893114e-01, 1.87490356e-04],\n",
       "       [6.57108783e-01, 1.21895883e-02, 1.59472791e-01, 1.71228837e-01],\n",
       "       [2.35593547e-01, 5.21793079e-02, 7.12186383e-01, 4.07624485e-05],\n",
       "       [5.07083732e-03, 2.12332011e-04, 2.11909485e-04, 9.94504921e-01],\n",
       "       [2.60719523e-05, 2.57156990e-05, 9.91388118e-01, 8.56009414e-03],\n",
       "       [2.33063082e-05, 2.31460419e-05, 9.99930270e-01, 2.32780864e-05],\n",
       "       [9.13593348e-01, 7.73206543e-02, 8.98878874e-03, 9.72093796e-05],\n",
       "       [3.50812124e-01, 5.86339435e-02, 6.90240031e-05, 5.90484908e-01],\n",
       "       [9.99903337e-01, 3.22304386e-05, 3.22208712e-05, 3.22113930e-05],\n",
       "       [8.38573910e-01, 1.60767632e-02, 1.22366608e-01, 2.29827186e-02],\n",
       "       [3.00244254e-02, 8.74038640e-01, 9.58471271e-02, 8.98078334e-05],\n",
       "       [9.99897778e-01, 3.38302806e-05, 3.40937077e-05, 3.42982466e-05],\n",
       "       [6.18421796e-01, 2.82558672e-02, 3.53277967e-01, 4.43698230e-05],\n",
       "       [3.66632194e-01, 1.67964686e-01, 4.65343321e-01, 5.97993334e-05],\n",
       "       [5.74429841e-01, 1.14779581e-01, 3.07629681e-01, 3.16089710e-03],\n",
       "       [2.98722530e-05, 7.80221211e-01, 2.19719235e-01, 2.96820595e-05],\n",
       "       [6.85523511e-01, 1.99822730e-01, 2.49746058e-04, 1.14404013e-01],\n",
       "       [7.07904733e-01, 3.67137105e-02, 2.07369327e-01, 4.80122293e-02],\n",
       "       [9.93605752e-01, 9.26695521e-05, 8.95035000e-05, 6.21207458e-03],\n",
       "       [9.99869696e-01, 4.34422188e-05, 4.32532342e-05, 4.36086232e-05],\n",
       "       [9.89787950e-01, 2.77545432e-05, 1.01567162e-02, 2.75792374e-05],\n",
       "       [4.69569319e-03, 3.84249969e-02, 9.56853604e-01, 2.57059858e-05],\n",
       "       [2.14651385e-05, 2.12966427e-05, 9.99935882e-01, 2.13565648e-05],\n",
       "       [3.21889729e-05, 1.32252402e-01, 8.67683173e-01, 3.22364414e-05],\n",
       "       [5.23945561e-01, 2.35792644e-02, 3.03667792e-05, 4.52444808e-01],\n",
       "       [3.47794382e-05, 9.99895593e-01, 3.46976144e-05, 3.49300271e-05],\n",
       "       [8.24753592e-05, 9.99750816e-01, 8.35146626e-05, 8.31942505e-05],\n",
       "       [4.28114427e-01, 1.87053683e-03, 1.33569490e-01, 4.36445546e-01],\n",
       "       [4.54667623e-03, 3.63829509e-01, 5.93609748e-02, 5.72262840e-01],\n",
       "       [5.37666487e-01, 1.82696997e-01, 2.16645746e-01, 6.29907702e-02],\n",
       "       [6.29197555e-02, 3.24250187e-01, 6.06466466e-01, 6.36359138e-03],\n",
       "       [3.39127111e-03, 9.96494489e-01, 5.63670954e-05, 5.78726307e-05],\n",
       "       [2.24936092e-05, 2.26005723e-05, 9.99932315e-01, 2.25905995e-05],\n",
       "       [4.71212890e-05, 4.68654488e-05, 4.78505333e-05, 9.99858163e-01],\n",
       "       [9.60204564e-01, 5.35638494e-05, 5.19090084e-03, 3.45509713e-02],\n",
       "       [2.58383298e-05, 2.54067521e-05, 9.99923113e-01, 2.56418862e-05],\n",
       "       [2.00457030e-05, 2.02350450e-05, 9.99939520e-01, 2.01988375e-05],\n",
       "       [2.23771449e-05, 2.23741816e-05, 9.67389742e-01, 3.25655066e-02]])"
      ]
     },
     "execution_count": 25,
     "metadata": {},
     "output_type": "execute_result"
    }
   ],
   "source": [
    "topic_dist = lda.transform(tf)\n",
    "topic_dist"
   ]
  },
  {
   "cell_type": "code",
   "execution_count": 26,
   "metadata": {},
   "outputs": [
    {
     "data": {
      "text/html": [
       "<div>\n",
       "<style scoped>\n",
       "    .dataframe tbody tr th:only-of-type {\n",
       "        vertical-align: middle;\n",
       "    }\n",
       "\n",
       "    .dataframe tbody tr th {\n",
       "        vertical-align: top;\n",
       "    }\n",
       "\n",
       "    .dataframe thead th {\n",
       "        text-align: right;\n",
       "    }\n",
       "</style>\n",
       "<table border=\"1\" class=\"dataframe\">\n",
       "  <thead>\n",
       "    <tr style=\"text-align: right;\">\n",
       "      <th></th>\n",
       "      <th>0</th>\n",
       "      <th>1</th>\n",
       "      <th>2</th>\n",
       "      <th>3</th>\n",
       "      <th>title</th>\n",
       "      <th>author gender</th>\n",
       "      <th>year</th>\n",
       "      <th>text</th>\n",
       "    </tr>\n",
       "  </thead>\n",
       "  <tbody>\n",
       "    <tr>\n",
       "      <th>0</th>\n",
       "      <td>0.927994</td>\n",
       "      <td>0.014370</td>\n",
       "      <td>0.057603</td>\n",
       "      <td>0.000034</td>\n",
       "      <td>A Dog with a Bad Name</td>\n",
       "      <td>Male</td>\n",
       "      <td>1886.0</td>\n",
       "      <td>A DOG WITH A BAD NAME  BY TALBOT BAINES REED  ...</td>\n",
       "    </tr>\n",
       "    <tr>\n",
       "      <th>1</th>\n",
       "      <td>0.027338</td>\n",
       "      <td>0.070131</td>\n",
       "      <td>0.491328</td>\n",
       "      <td>0.411202</td>\n",
       "      <td>A Final Reckoning</td>\n",
       "      <td>Male</td>\n",
       "      <td>1887.0</td>\n",
       "      <td>A Final Reckoning: A Tale of Bush Life in Aust...</td>\n",
       "    </tr>\n",
       "    <tr>\n",
       "      <th>2</th>\n",
       "      <td>0.972302</td>\n",
       "      <td>0.000037</td>\n",
       "      <td>0.022598</td>\n",
       "      <td>0.005064</td>\n",
       "      <td>A House Party, Don Gesualdo, and A Rainy June</td>\n",
       "      <td>Female</td>\n",
       "      <td>1887.0</td>\n",
       "      <td>A HOUSE-PARTY  Don Gesualdo  and  A Rainy June...</td>\n",
       "    </tr>\n",
       "    <tr>\n",
       "      <th>3</th>\n",
       "      <td>0.999907</td>\n",
       "      <td>0.000031</td>\n",
       "      <td>0.000031</td>\n",
       "      <td>0.000031</td>\n",
       "      <td>A Houseful of Girls</td>\n",
       "      <td>Female</td>\n",
       "      <td>1889.0</td>\n",
       "      <td>A HOUSEFUL OF GIRLS. BY SARAH TYTLER,  AUTHOR ...</td>\n",
       "    </tr>\n",
       "    <tr>\n",
       "      <th>4</th>\n",
       "      <td>0.969292</td>\n",
       "      <td>0.028883</td>\n",
       "      <td>0.000061</td>\n",
       "      <td>0.001764</td>\n",
       "      <td>A Little Country Girl</td>\n",
       "      <td>Female</td>\n",
       "      <td>1885.0</td>\n",
       "      <td>LITTLE COUNTRY GIRL.  BY  SUSAN COOLIDGE,     ...</td>\n",
       "    </tr>\n",
       "    <tr>\n",
       "      <th>...</th>\n",
       "      <td>...</td>\n",
       "      <td>...</td>\n",
       "      <td>...</td>\n",
       "      <td>...</td>\n",
       "      <td>...</td>\n",
       "      <td>...</td>\n",
       "      <td>...</td>\n",
       "      <td>...</td>\n",
       "    </tr>\n",
       "    <tr>\n",
       "      <th>122</th>\n",
       "      <td>0.000047</td>\n",
       "      <td>0.000047</td>\n",
       "      <td>0.000048</td>\n",
       "      <td>0.999858</td>\n",
       "      <td>Treasure Island</td>\n",
       "      <td>Male</td>\n",
       "      <td>1883.0</td>\n",
       "      <td>TREASURE ISLAND  by Robert Louis Stevenson    ...</td>\n",
       "    </tr>\n",
       "    <tr>\n",
       "      <th>123</th>\n",
       "      <td>0.960205</td>\n",
       "      <td>0.000054</td>\n",
       "      <td>0.005191</td>\n",
       "      <td>0.034551</td>\n",
       "      <td>Twice Bought</td>\n",
       "      <td>Male</td>\n",
       "      <td>1885.0</td>\n",
       "      <td>The Project Gutenberg EBook of Twice Bought, b...</td>\n",
       "    </tr>\n",
       "    <tr>\n",
       "      <th>124</th>\n",
       "      <td>0.000026</td>\n",
       "      <td>0.000025</td>\n",
       "      <td>0.999923</td>\n",
       "      <td>0.000026</td>\n",
       "      <td>Two Arrows</td>\n",
       "      <td>Male</td>\n",
       "      <td>1886.0</td>\n",
       "      <td>TWO ARROWS      HARPER'S YOUNG PEOPLE'S SERIES...</td>\n",
       "    </tr>\n",
       "    <tr>\n",
       "      <th>125</th>\n",
       "      <td>0.000020</td>\n",
       "      <td>0.000020</td>\n",
       "      <td>0.999940</td>\n",
       "      <td>0.000020</td>\n",
       "      <td>Uncle Remus: His Songs and Sayings</td>\n",
       "      <td>Male</td>\n",
       "      <td>1880.0</td>\n",
       "      <td>Uncle Remus: His Songs and His Sayings  By Joe...</td>\n",
       "    </tr>\n",
       "    <tr>\n",
       "      <th>126</th>\n",
       "      <td>0.000022</td>\n",
       "      <td>0.000022</td>\n",
       "      <td>0.967390</td>\n",
       "      <td>0.032566</td>\n",
       "      <td>Under Drake's Flag</td>\n",
       "      <td>Male</td>\n",
       "      <td>1883.0</td>\n",
       "      <td>Under Drake's Flag:  A Tale of the Spanish Mai...</td>\n",
       "    </tr>\n",
       "  </tbody>\n",
       "</table>\n",
       "<p>127 rows × 8 columns</p>\n",
       "</div>"
      ],
      "text/plain": [
       "            0         1         2         3  \\\n",
       "0    0.927994  0.014370  0.057603  0.000034   \n",
       "1    0.027338  0.070131  0.491328  0.411202   \n",
       "2    0.972302  0.000037  0.022598  0.005064   \n",
       "3    0.999907  0.000031  0.000031  0.000031   \n",
       "4    0.969292  0.028883  0.000061  0.001764   \n",
       "..        ...       ...       ...       ...   \n",
       "122  0.000047  0.000047  0.000048  0.999858   \n",
       "123  0.960205  0.000054  0.005191  0.034551   \n",
       "124  0.000026  0.000025  0.999923  0.000026   \n",
       "125  0.000020  0.000020  0.999940  0.000020   \n",
       "126  0.000022  0.000022  0.967390  0.032566   \n",
       "\n",
       "                                             title author gender    year  \\\n",
       "0                            A Dog with a Bad Name          Male  1886.0   \n",
       "1                                A Final Reckoning          Male  1887.0   \n",
       "2    A House Party, Don Gesualdo, and A Rainy June        Female  1887.0   \n",
       "3                              A Houseful of Girls        Female  1889.0   \n",
       "4                            A Little Country Girl        Female  1885.0   \n",
       "..                                             ...           ...     ...   \n",
       "122                                Treasure Island          Male  1883.0   \n",
       "123                                   Twice Bought          Male  1885.0   \n",
       "124                                     Two Arrows          Male  1886.0   \n",
       "125             Uncle Remus: His Songs and Sayings          Male  1880.0   \n",
       "126                             Under Drake's Flag          Male  1883.0   \n",
       "\n",
       "                                                  text  \n",
       "0    A DOG WITH A BAD NAME  BY TALBOT BAINES REED  ...  \n",
       "1    A Final Reckoning: A Tale of Bush Life in Aust...  \n",
       "2    A HOUSE-PARTY  Don Gesualdo  and  A Rainy June...  \n",
       "3    A HOUSEFUL OF GIRLS. BY SARAH TYTLER,  AUTHOR ...  \n",
       "4    LITTLE COUNTRY GIRL.  BY  SUSAN COOLIDGE,     ...  \n",
       "..                                                 ...  \n",
       "122  TREASURE ISLAND  by Robert Louis Stevenson    ...  \n",
       "123  The Project Gutenberg EBook of Twice Bought, b...  \n",
       "124  TWO ARROWS      HARPER'S YOUNG PEOPLE'S SERIES...  \n",
       "125  Uncle Remus: His Songs and His Sayings  By Joe...  \n",
       "126  Under Drake's Flag:  A Tale of the Spanish Mai...  \n",
       "\n",
       "[127 rows x 8 columns]"
      ]
     },
     "execution_count": 26,
     "metadata": {},
     "output_type": "execute_result"
    }
   ],
   "source": [
    "topic_dist_df = pandas.DataFrame(topic_dist)\n",
    "df_w_topics = topic_dist_df.join(df_lit)\n",
    "df_w_topics"
   ]
  },
  {
   "cell_type": "code",
   "execution_count": 28,
   "metadata": {},
   "outputs": [
    {
     "data": {
      "text/plain": [
       "0      0\n",
       "1      2\n",
       "2      0\n",
       "3      0\n",
       "4      0\n",
       "      ..\n",
       "122    3\n",
       "123    0\n",
       "124    2\n",
       "125    2\n",
       "126    2\n",
       "Length: 127, dtype: int64"
      ]
     },
     "execution_count": 28,
     "metadata": {},
     "output_type": "execute_result"
    }
   ],
   "source": [
    "max_cols = df_w_topics.iloc[:, :4].idxmax(axis=1)\n",
    "max_cols"
   ]
  },
  {
   "cell_type": "code",
   "execution_count": 29,
   "metadata": {},
   "outputs": [
    {
     "data": {
      "text/plain": [
       "0    55\n",
       "2    36\n",
       "1    18\n",
       "3    18\n",
       "dtype: int64"
      ]
     },
     "execution_count": 29,
     "metadata": {},
     "output_type": "execute_result"
    }
   ],
   "source": [
    "col_counts = max_cols.value_counts()\n",
    "col_counts"
   ]
  },
  {
   "cell_type": "markdown",
   "metadata": {},
   "source": [
    "topic 0 is the most prevalent topic while topic 1 and 3 are the least prevalent topic"
   ]
  },
  {
   "cell_type": "code",
   "execution_count": null,
   "metadata": {},
   "outputs": [],
   "source": [
    "for e "
   ]
  },
  {
   "cell_type": "code",
   "execution_count": 30,
   "metadata": {},
   "outputs": [
    {
     "data": {
      "text/html": [
       "<div>\n",
       "<style scoped>\n",
       "    .dataframe tbody tr th:only-of-type {\n",
       "        vertical-align: middle;\n",
       "    }\n",
       "\n",
       "    .dataframe tbody tr th {\n",
       "        vertical-align: top;\n",
       "    }\n",
       "\n",
       "    .dataframe thead th {\n",
       "        text-align: right;\n",
       "    }\n",
       "</style>\n",
       "<table border=\"1\" class=\"dataframe\">\n",
       "  <thead>\n",
       "    <tr style=\"text-align: right;\">\n",
       "      <th></th>\n",
       "      <th>0</th>\n",
       "      <th>1</th>\n",
       "      <th>2</th>\n",
       "      <th>3</th>\n",
       "      <th>title</th>\n",
       "      <th>author gender</th>\n",
       "      <th>year</th>\n",
       "      <th>text</th>\n",
       "      <th>word_count</th>\n",
       "      <th>0_wc</th>\n",
       "      <th>1_wc</th>\n",
       "      <th>2_wc</th>\n",
       "      <th>3_wc</th>\n",
       "    </tr>\n",
       "  </thead>\n",
       "  <tbody>\n",
       "    <tr>\n",
       "      <th>0</th>\n",
       "      <td>0.927994</td>\n",
       "      <td>0.014370</td>\n",
       "      <td>0.057603</td>\n",
       "      <td>0.000034</td>\n",
       "      <td>A Dog with a Bad Name</td>\n",
       "      <td>Male</td>\n",
       "      <td>1886.0</td>\n",
       "      <td>A DOG WITH A BAD NAME  BY TALBOT BAINES REED  ...</td>\n",
       "      <td>96493</td>\n",
       "      <td>89544.893129</td>\n",
       "      <td>1386.608095</td>\n",
       "      <td>5558.264002</td>\n",
       "      <td>3.234773</td>\n",
       "    </tr>\n",
       "    <tr>\n",
       "      <th>1</th>\n",
       "      <td>0.027338</td>\n",
       "      <td>0.070131</td>\n",
       "      <td>0.491328</td>\n",
       "      <td>0.411202</td>\n",
       "      <td>A Final Reckoning</td>\n",
       "      <td>Male</td>\n",
       "      <td>1887.0</td>\n",
       "      <td>A Final Reckoning: A Tale of Bush Life in Aust...</td>\n",
       "      <td>100603</td>\n",
       "      <td>2750.319905</td>\n",
       "      <td>7055.421499</td>\n",
       "      <td>49429.084933</td>\n",
       "      <td>41368.173663</td>\n",
       "    </tr>\n",
       "    <tr>\n",
       "      <th>2</th>\n",
       "      <td>0.972302</td>\n",
       "      <td>0.000037</td>\n",
       "      <td>0.022598</td>\n",
       "      <td>0.005064</td>\n",
       "      <td>A House Party, Don Gesualdo, and A Rainy June</td>\n",
       "      <td>Female</td>\n",
       "      <td>1887.0</td>\n",
       "      <td>A HOUSE-PARTY  Don Gesualdo  and  A Rainy June...</td>\n",
       "      <td>85132</td>\n",
       "      <td>82773.973483</td>\n",
       "      <td>3.116905</td>\n",
       "      <td>1923.824216</td>\n",
       "      <td>431.085396</td>\n",
       "    </tr>\n",
       "    <tr>\n",
       "      <th>3</th>\n",
       "      <td>0.999907</td>\n",
       "      <td>0.000031</td>\n",
       "      <td>0.000031</td>\n",
       "      <td>0.000031</td>\n",
       "      <td>A Houseful of Girls</td>\n",
       "      <td>Female</td>\n",
       "      <td>1889.0</td>\n",
       "      <td>A HOUSEFUL OF GIRLS. BY SARAH TYTLER,  AUTHOR ...</td>\n",
       "      <td>92822</td>\n",
       "      <td>92813.400143</td>\n",
       "      <td>2.846490</td>\n",
       "      <td>2.882587</td>\n",
       "      <td>2.870780</td>\n",
       "    </tr>\n",
       "    <tr>\n",
       "      <th>4</th>\n",
       "      <td>0.969292</td>\n",
       "      <td>0.028883</td>\n",
       "      <td>0.000061</td>\n",
       "      <td>0.001764</td>\n",
       "      <td>A Little Country Girl</td>\n",
       "      <td>Female</td>\n",
       "      <td>1885.0</td>\n",
       "      <td>LITTLE COUNTRY GIRL.  BY  SUSAN COOLIDGE,     ...</td>\n",
       "      <td>48251</td>\n",
       "      <td>46769.319262</td>\n",
       "      <td>1393.626070</td>\n",
       "      <td>2.921490</td>\n",
       "      <td>85.133178</td>\n",
       "    </tr>\n",
       "  </tbody>\n",
       "</table>\n",
       "</div>"
      ],
      "text/plain": [
       "          0         1         2         3  \\\n",
       "0  0.927994  0.014370  0.057603  0.000034   \n",
       "1  0.027338  0.070131  0.491328  0.411202   \n",
       "2  0.972302  0.000037  0.022598  0.005064   \n",
       "3  0.999907  0.000031  0.000031  0.000031   \n",
       "4  0.969292  0.028883  0.000061  0.001764   \n",
       "\n",
       "                                           title author gender    year  \\\n",
       "0                          A Dog with a Bad Name          Male  1886.0   \n",
       "1                              A Final Reckoning          Male  1887.0   \n",
       "2  A House Party, Don Gesualdo, and A Rainy June        Female  1887.0   \n",
       "3                            A Houseful of Girls        Female  1889.0   \n",
       "4                          A Little Country Girl        Female  1885.0   \n",
       "\n",
       "                                                text  word_count  \\\n",
       "0  A DOG WITH A BAD NAME  BY TALBOT BAINES REED  ...       96493   \n",
       "1  A Final Reckoning: A Tale of Bush Life in Aust...      100603   \n",
       "2  A HOUSE-PARTY  Don Gesualdo  and  A Rainy June...       85132   \n",
       "3  A HOUSEFUL OF GIRLS. BY SARAH TYTLER,  AUTHOR ...       92822   \n",
       "4  LITTLE COUNTRY GIRL.  BY  SUSAN COOLIDGE,     ...       48251   \n",
       "\n",
       "           0_wc         1_wc          2_wc          3_wc  \n",
       "0  89544.893129  1386.608095   5558.264002      3.234773  \n",
       "1   2750.319905  7055.421499  49429.084933  41368.173663  \n",
       "2  82773.973483     3.116905   1923.824216    431.085396  \n",
       "3  92813.400143     2.846490      2.882587      2.870780  \n",
       "4  46769.319262  1393.626070      2.921490     85.133178  "
      ]
     },
     "execution_count": 30,
     "metadata": {},
     "output_type": "execute_result"
    }
   ],
   "source": [
    "df_w_topics['word_count'] = df_w_topics['text'].apply(lambda x: len(str(x).split()))\n",
    "df_w_topics['word_count']\n",
    "\n",
    "df_w_topics['0_wc'] = df_w_topics[0] * df_w_topics['word_count']\n",
    "df_w_topics['0_wc']\n",
    "\n",
    "topic_columns = range(0, n_topics)\n",
    "col_list = []\n",
    "for num in topic_columns:\n",
    "    col = \"%d_wc\" % num\n",
    "    col_list.append(col)\n",
    "    #Solution\n",
    "    df_w_topics[col] = df_w_topics[num] * df_w_topics['word_count']\n",
    "    \n",
    "df_w_topics.head()"
   ]
  },
  {
   "cell_type": "code",
   "execution_count": 31,
   "metadata": {},
   "outputs": [
    {
     "data": {
      "text/html": [
       "<div>\n",
       "<style scoped>\n",
       "    .dataframe tbody tr th:only-of-type {\n",
       "        vertical-align: middle;\n",
       "    }\n",
       "\n",
       "    .dataframe tbody tr th {\n",
       "        vertical-align: top;\n",
       "    }\n",
       "\n",
       "    .dataframe thead th {\n",
       "        text-align: right;\n",
       "    }\n",
       "</style>\n",
       "<table border=\"1\" class=\"dataframe\">\n",
       "  <thead>\n",
       "    <tr style=\"text-align: right;\">\n",
       "      <th></th>\n",
       "      <th>0_wc</th>\n",
       "      <th>1_wc</th>\n",
       "      <th>2_wc</th>\n",
       "      <th>3_wc</th>\n",
       "    </tr>\n",
       "    <tr>\n",
       "      <th>author gender</th>\n",
       "      <th></th>\n",
       "      <th></th>\n",
       "      <th></th>\n",
       "      <th></th>\n",
       "    </tr>\n",
       "  </thead>\n",
       "  <tbody>\n",
       "    <tr>\n",
       "      <th>Female</th>\n",
       "      <td>42620.449997</td>\n",
       "      <td>5499.302478</td>\n",
       "      <td>5158.395419</td>\n",
       "      <td>2476.555810</td>\n",
       "    </tr>\n",
       "    <tr>\n",
       "      <th>Male</th>\n",
       "      <td>25899.138502</td>\n",
       "      <td>18095.121734</td>\n",
       "      <td>27299.579545</td>\n",
       "      <td>11839.370745</td>\n",
       "    </tr>\n",
       "  </tbody>\n",
       "</table>\n",
       "</div>"
      ],
      "text/plain": [
       "                       0_wc          1_wc          2_wc          3_wc\n",
       "author gender                                                        \n",
       "Female         42620.449997   5499.302478   5158.395419   2476.555810\n",
       "Male           25899.138502  18095.121734  27299.579545  11839.370745"
      ]
     },
     "execution_count": 31,
     "metadata": {},
     "output_type": "execute_result"
    }
   ],
   "source": [
    "grouped_gender = df_w_topics[['0_wc', '1_wc', '2_wc', '3_wc', 'author gender']].groupby('author gender').mean()\n",
    "grouped_gender"
   ]
  },
  {
   "cell_type": "code",
   "execution_count": 32,
   "metadata": {},
   "outputs": [
    {
     "data": {
      "text/plain": [
       "author gender\n",
       "Female    55754.703704\n",
       "Male      83133.210526\n",
       "dtype: float64"
      ]
     },
     "execution_count": 32,
     "metadata": {},
     "output_type": "execute_result"
    }
   ],
   "source": [
    "row_sums = grouped_gender.sum(axis=1)\n",
    "row_sums"
   ]
  },
  {
   "cell_type": "code",
   "execution_count": null,
   "metadata": {},
   "outputs": [],
   "source": []
  }
 ],
 "metadata": {
  "kernelspec": {
   "display_name": "Python 3 (ipykernel)",
   "language": "python",
   "name": "python3"
  },
  "language_info": {
   "codemirror_mode": {
    "name": "ipython",
    "version": 3
   },
   "file_extension": ".py",
   "mimetype": "text/x-python",
   "name": "python",
   "nbconvert_exporter": "python",
   "pygments_lexer": "ipython3",
   "version": "3.9.13"
  }
 },
 "nbformat": 4,
 "nbformat_minor": 1
}
