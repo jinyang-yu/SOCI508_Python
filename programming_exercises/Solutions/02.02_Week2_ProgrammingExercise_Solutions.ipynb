{
 "cells": [
  {
   "cell_type": "markdown",
   "id": "dd820f1a",
   "metadata": {},
   "source": [
    "# Week 2 Programming Exercise Solutions\n",
    "\n",
    "Author: Laura K. Nelson\n",
    "\n",
    "January 23, 2023"
   ]
  },
  {
   "cell_type": "markdown",
   "id": "bf3d9e0d",
   "metadata": {},
   "source": [
    "## Exercise 1: Pay"
   ]
  },
  {
   "cell_type": "code",
   "execution_count": null,
   "id": "70b2cb43",
   "metadata": {},
   "outputs": [],
   "source": [
    "# Ask the user to input numbers of hours worked, and wage per hour\n",
    "# Output total pay\n",
    "\n",
    "inp1 = input(\"Please enter the number of hours you worked: \")\n",
    "inp2 = input(\"Please enter your hourly wage: \")\n",
    "\n",
    "try:\n",
    "    hours = float(inp1)\n",
    "    wage = float(inp2)\n",
    "    pay1 = str(hours*wage)\n",
    "    print(\"Your total pay is: $\" + pay1)    \n",
    "except:\n",
    "    print(\"Oops! One or more of the numbers you entered are invalid. Please enter valid numbers.\")\n"
   ]
  },
  {
   "cell_type": "markdown",
   "id": "c65abb90",
   "metadata": {},
   "source": [
    "## Exercise 2: Vowel or Consonant"
   ]
  },
  {
   "cell_type": "code",
   "execution_count": null,
   "id": "4263aad9",
   "metadata": {},
   "outputs": [],
   "source": [
    "# In this exercise you will create a program that reads a letter of the alphabet from the\n",
    "#user. If the user enters a, e, i, o or u then your program should display a message\n",
    "#indicating that the entered letter is a vowel. If the user enters y then your program\n",
    "#should display a message indicating that sometimes y is a vowel, and sometimes y is\n",
    "#a consonant. Otherwise your program should display a message indicating that the\n",
    "#letter is a consonant.\n",
    "\n",
    "inp = input(\"Please enter a letter of the alphabet: \")\n",
    "\n",
    "inp = inp.lower()\n",
    "\n",
    "if inp == \"a\":\n",
    "    print(\"The letter you entered is a vowel\")\n",
    "elif inp == \"e\":\n",
    "    print(\"The letter you entered is a vowel\")\n",
    "elif inp == \"i\":\n",
    "    print(\"The letter you entered is a vowel\")\n",
    "elif inp == \"o\":\n",
    "    print(\"The letter you entered is a vowel\")\n",
    "elif inp == \"u\":\n",
    "    print(\"The letter you entered is a vowel\")\n",
    "elif inp == \"y\":\n",
    "    print(\"Sometimes the letter y is a vowel and sometimes it's a consonant\")\n",
    "else:\n",
    "    print(\"The letter you entered is a consonant\")"
   ]
  },
  {
   "cell_type": "markdown",
   "id": "4c9527cd",
   "metadata": {},
   "source": [
    "## Exercise 3: Bigger Number"
   ]
  },
  {
   "cell_type": "code",
   "execution_count": null,
   "id": "27634260",
   "metadata": {
    "scrolled": true
   },
   "outputs": [],
   "source": [
    "# Write a program that:\n",
    "# Takes two user-entered numbers as input\n",
    "# Returns: the number that is larger\n",
    "\n",
    "inp1 = input(\"Please enter a number: \")\n",
    "inp2 = input(\"Please enter another number: \")\n",
    "num1 = float(inp1)\n",
    "num2 = float(inp2)\n",
    "if num1 > num2:\n",
    "    print(inp1 + \" is larger than \" + inp2 + \".\")\n",
    "elif num1 == num2:\n",
    "    print(inp1 + \" and \" + inp2 + \" are the same number.\")\n",
    "else:\n",
    "    print(inp2 + \" is larger than \" + inp1 + \".\")"
   ]
  }
 ],
 "metadata": {
  "kernelspec": {
   "display_name": "Python 3 (ipykernel)",
   "language": "python",
   "name": "python3"
  },
  "language_info": {
   "codemirror_mode": {
    "name": "ipython",
    "version": 3
   },
   "file_extension": ".py",
   "mimetype": "text/x-python",
   "name": "python",
   "nbconvert_exporter": "python",
   "pygments_lexer": "ipython3",
   "version": "3.9.12"
  }
 },
 "nbformat": 4,
 "nbformat_minor": 5
}
