{
 "cells": [
  {
   "cell_type": "markdown",
   "id": "5189be5a",
   "metadata": {},
   "source": [
    "# Radical Feminism and Gender Ideology in the NYT\n",
    "\n",
    "Date: February 28, 2023  \n",
    "Author: Laura K. Nelson\n",
    "\n",
    "I'm curious how often phrases such as *radical feminism* and *gender ideology* make it into *The New York Times*. I expect *gender ideology* has received increasing attention over time.\n",
    "\n",
    "I found that *gender ideology* is mentioned consistently more often than *radical feminism*, though this could be because I did include varient of *radical feminism*, such as *radical feminists*. Mentions of *gender ideology* came to a high peak in 2019, with over 250 articles mentioning the phrase. After some digging, I found that the Catholic Church published a position statement that included the phrase *gender ideology*, either causing or perhaps following the rapid rise in attention to this issue across the globe, largely from the increasingly radicalized right wing."
   ]
  },
  {
   "cell_type": "code",
   "execution_count": null,
   "id": "55118f2c",
   "metadata": {},
   "outputs": [],
   "source": [
    "# Import required libraries\n",
    "import requests #requests library, enables get requests\n",
    "import json #data structure, similar to dictionaries\n",
    "import time #pause between pings to server\n",
    "import pandas\n",
    "import seaborn as sns #visualization\n",
    "import matplotlib.pyplot as plt"
   ]
  },
  {
   "cell_type": "code",
   "execution_count": null,
   "id": "1e51aef5",
   "metadata": {},
   "outputs": [],
   "source": [
    "key = \"\" #put your key here\n",
    "\n",
    "base_url = \"https://api.nytimes.com/svc/search/v2/articlesearch.json\"\n",
    "\n",
    "start_root = \"0101\"\n",
    "end_root = \"1231\"\n",
    "q = ''\n",
    "radfem = {}\n",
    "genid  = {}\n",
    "\n",
    "for date in range(2000, 2024):\n",
    "    try:\n",
    "        start_date = str(date)+start_root\n",
    "        end_date = str(date)+end_root\n",
    "        print(start_date)\n",
    "        search_params_radfem = {\"q\": (\"radical feminism\"),\n",
    "                     \"api-key\": key,\n",
    "                    \"begin_date\": start_date,\n",
    "                    \"end_date\": end_date}\n",
    "\n",
    "        r_radfem = requests.get(base_url, params=search_params_radfem)\n",
    "        response_text_radfem = r_radfem.text\n",
    "        data_radfem = json.loads(response_text_radfem)\n",
    "        num_hits_radfem = data_radfem['response']['meta']['hits']\n",
    "        radfem[date] = num_hits_radfem\n",
    "        \n",
    "        \n",
    "        #now collect gender ideology\n",
    "        search_params_genid = {\"q\": (\"gender ideology\"),\n",
    "                     \"api-key\": key,\n",
    "                    \"begin_date\": start_date,\n",
    "                    \"end_date\": end_date}\n",
    "\n",
    "        r_genid = requests.get(base_url, params=search_params_genid)\n",
    "        response_text_genid  = r_genid .text\n",
    "        data_genid  = json.loads(response_text_genid )\n",
    "        num_hits_genid  = data_genid ['response']['meta']['hits']\n",
    "        genid [date] = num_hits_genid \n",
    "        \n",
    "        time.sleep(5)\n",
    "    except:\n",
    "        print(r_radfem.url)\n",
    "        print(\"Oh no, something went wrong.\")\n",
    "print(radfem)\n",
    "print(genid)"
   ]
  },
  {
   "cell_type": "code",
   "execution_count": null,
   "id": "efc5ad60",
   "metadata": {},
   "outputs": [],
   "source": [
    "#write the two dictionaries to primary memory so you don't have to run the API call again\n",
    "filename = '../data/nyt_output_radfem.json'\n",
    "with open(filename, 'w') as outfile:\n",
    "    json.dump(radfem, outfile)"
   ]
  },
  {
   "cell_type": "code",
   "execution_count": null,
   "id": "735b2827",
   "metadata": {},
   "outputs": [],
   "source": [
    "filename = '../data/nyt_output_genid.json'\n",
    "with open(filename, 'w') as outfile:\n",
    "    json.dump(genid, outfile)"
   ]
  },
  {
   "cell_type": "code",
   "execution_count": null,
   "id": "9c77e6bc",
   "metadata": {},
   "outputs": [],
   "source": [
    "#transform into two dataframes\n",
    "df_radfem = pandas.DataFrame(radfem, index = ['hits']).T\n",
    "df_genid = pandas.DataFrame(genid, index = ['hits']).T\n",
    "df_radfem.head()"
   ]
  },
  {
   "cell_type": "code",
   "execution_count": null,
   "id": "f5ff03cb",
   "metadata": {
    "scrolled": true
   },
   "outputs": [],
   "source": [
    "#take a peak\n",
    "df_genid.head()"
   ]
  },
  {
   "cell_type": "code",
   "execution_count": null,
   "id": "88ee40fa",
   "metadata": {},
   "outputs": [],
   "source": [
    "#Drop 2023 because we're only a few months in and it distorts the trend line\n",
    "df_radfem.drop(labels = '2023', axis = 0, inplace = True)\n",
    "df_genid.drop(labels = '2023', axis = 0, inplace = True)"
   ]
  },
  {
   "cell_type": "code",
   "execution_count": null,
   "id": "acca6499",
   "metadata": {},
   "outputs": [],
   "source": [
    "#visualize the trends!\n",
    "\n",
    "fig, ax = plt.subplots(figsize = [15,10])\n",
    "\n",
    "sns.lineplot(x = df_radfem.index, y = 'hits', \n",
    "             data=df_radfem, \n",
    "             color = 'maroon',\n",
    "             marker = 'o')\n",
    "sns.lineplot(x = df_genid.index, y = 'hits',\n",
    "             data=df_genid,\n",
    "             color = 'orange',\n",
    "             marker = 'o')\n",
    "\n",
    "plt.title('Radical Feminism and Gender Ideology in the NYT', fontsize=18, family='serif', weight ='bold')\n",
    "plt.xticks(fontsize=12, family='serif')\n",
    "plt.ylabel('Number of Articles', fontsize=14, family='serif')\n",
    "plt.yticks(fontsize=12, family='serif')\n",
    "\n",
    "ax.spines['top'].set_visible(False)\n",
    "ax.spines[\"bottom\"].set_visible(False)\n",
    "ax.spines[\"right\"].set_visible(False)\n",
    "ax.spines[\"left\"].set_visible(False)\n",
    "\n",
    "\n",
    "for line, name in zip(ax.lines, ['Radical Feminism', 'Gender Ideology']):\n",
    "    y = line.get_ydata()[-1]\n",
    "    ax.annotate(name, xy=(0.96,y), xytext=(6,0), \n",
    "                color=line.get_color(), \n",
    "                xycoords = ax.get_yaxis_transform(),\n",
    "                textcoords=\"offset points\",\n",
    "                size=12, \n",
    "                va=\"center\", \n",
    "                family='serif')\n",
    "\n",
    "plt.tick_params(left = False)"
   ]
  },
  {
   "cell_type": "code",
   "execution_count": null,
   "id": "0426f4b0",
   "metadata": {},
   "outputs": [],
   "source": [
    "#same visualization, but indicating the official stance taken by the Catholic Church\n",
    "fig, ax = plt.subplots(figsize = [15,10])\n",
    "\n",
    "sns.lineplot(x = df_radfem.index, y = 'hits', \n",
    "             data=df_radfem, \n",
    "             color = 'maroon',\n",
    "             marker = 'o')\n",
    "sns.lineplot(x = df_genid.index, y = 'hits',\n",
    "             data=df_genid,\n",
    "             color = 'orange',\n",
    "             marker = 'o')\n",
    "\n",
    "plt.title('Radical Feminism and Gender Ideology in the NYT', fontsize=18, family='serif', weight ='bold')\n",
    "plt.xticks(fontsize=12, family='serif')\n",
    "plt.ylabel('Number of Articles', fontsize=14, family='serif')\n",
    "plt.yticks(fontsize=12, family='serif')\n",
    "\n",
    "ax.spines['top'].set_visible(False)\n",
    "ax.spines[\"bottom\"].set_visible(False)\n",
    "ax.spines[\"right\"].set_visible(False)\n",
    "ax.spines[\"left\"].set_visible(False)\n",
    "\n",
    "\n",
    "for line, name in zip(ax.lines, ['Radical Feminism', 'Gender Ideology']):\n",
    "    y = line.get_ydata()[-1]\n",
    "    ax.annotate(name, xy=(0.96,y), xytext=(6,0), \n",
    "                color=line.get_color(), \n",
    "                xycoords = ax.get_yaxis_transform(),\n",
    "                textcoords=\"offset points\",\n",
    "                size=12, \n",
    "                va=\"center\", \n",
    "                family='serif')\n",
    "\n",
    "plt.tick_params(left = False)\n",
    "\n",
    "#Add line indicating the stance taken by the Catholic Church\n",
    "plt.axvline(x='2019', color='grey', linestyle='-')\n",
    "ax.annotate('Catholic Church Takes a Stance',\n",
    "           xy = ('2019', 270),\n",
    "           xytext=(\"2016\", 270),\n",
    "           va='center', \n",
    "           ha='center',\n",
    "           arrowprops={'arrowstyle': '-|>', 'lw': 1},\n",
    "           family = 'serif')\n",
    "\n"
   ]
  }
 ],
 "metadata": {
  "kernelspec": {
   "display_name": "Python 3 (ipykernel)",
   "language": "python",
   "name": "python3"
  },
  "language_info": {
   "codemirror_mode": {
    "name": "ipython",
    "version": 3
   },
   "file_extension": ".py",
   "mimetype": "text/x-python",
   "name": "python",
   "nbconvert_exporter": "python",
   "pygments_lexer": "ipython3",
   "version": "3.9.13"
  }
 },
 "nbformat": 4,
 "nbformat_minor": 5
}
