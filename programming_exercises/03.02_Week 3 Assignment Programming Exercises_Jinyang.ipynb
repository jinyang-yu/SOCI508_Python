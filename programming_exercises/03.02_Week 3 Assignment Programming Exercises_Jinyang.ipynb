{
 "cells": [
  {
   "cell_type": "markdown",
   "id": "15aeabe0",
   "metadata": {},
   "source": [
    "### Week 3 Assignment Programming Exercises\n",
    "**Name: Jinyang Yu**  \n",
    "**Date: Jan 24, 2023**"
   ]
  },
  {
   "cell_type": "markdown",
   "id": "b79de0da",
   "metadata": {},
   "source": [
    "#### Excercise 1: Counting pronouns\n",
    "\n",
    "Given the below list of personal pronouns, and a list of elements representing a text\n",
    "\n",
    "Return the number of personal pronouns in the text_list\n",
    "\n",
    "per_pronouns = ['i, 'you', 'he', 'she', 'it', 'we', 'they', 'what', 'who', 'me', 'him', 'her', 'us', 'them']\n",
    "\n",
    "text_list = ['I', 'love', 'kumquats', 'but', 'they', 'love', 'bananas']"
   ]
  },
  {
   "cell_type": "code",
   "execution_count": 30,
   "id": "b934315b",
   "metadata": {},
   "outputs": [
    {
     "data": {
      "text/plain": [
       "2"
      ]
     },
     "execution_count": 30,
     "metadata": {},
     "output_type": "execute_result"
    }
   ],
   "source": [
    "per_pronouns = ['i', 'you', 'he', 'she', 'it', 'we', 'they', 'what', 'who', 'me', 'him', 'her', 'us', 'them']\n",
    "text_list = ['I', 'love', 'kumquats', 'but', 'they', 'love', 'bananas']\n",
    "pronouns_list=[]\n",
    "#count=0\n",
    "for word in text_list:\n",
    "    word=word.lower()\n",
    "    if word in per_pronouns:\n",
    "        pronouns_list.append(word)\n",
    "        #or:\n",
    "        count += 1\n",
    "len(pronouns_list)"
   ]
  },
  {
   "cell_type": "markdown",
   "id": "739cf164",
   "metadata": {},
   "source": [
    "#### Excercise 2:  Highest wage calculation\n",
    "FOR THIS EXERCISE DO NOT USE THE MAX() FUNCTION. YOUR JOB IS TO WRITE THE MAX() FUNCTION FROM SCRATCH.  \n",
    "Given a list of hourly wages,\n",
    "write a loop to identify and print the maximum wage in the list\n",
    "List of wages\n",
    "mylist = [15, 45, 100, 200, 10, 7, 50, 500]"
   ]
  },
  {
   "cell_type": "code",
   "execution_count": 2,
   "id": "31c4b5f4",
   "metadata": {},
   "outputs": [
    {
     "name": "stdout",
     "output_type": "stream",
     "text": [
      "500\n"
     ]
    }
   ],
   "source": [
    "mylist = [15, 45, 100, 200, 10, 7, 50, 500]\n",
    "len(mylist)\n",
    "num_list=list(range(0,7,1))\n",
    "num_list\n",
    "largest=mylist[0]\n",
    "#for i in num_list:\n",
    "    #if largest < mylist[i+1]:\n",
    "        #largest=mylist[i+1]\n",
    "    #else: \n",
    "        #pass\n",
    "#or:\n",
    "for i in mylist:\n",
    "    if largest < i:\n",
    "        largest=i\n",
    "    else: \n",
    "        pass\n",
    "print(largest)"
   ]
  },
  {
   "cell_type": "code",
   "execution_count": null,
   "id": "2309ba63",
   "metadata": {},
   "outputs": [],
   "source": []
  }
 ],
 "metadata": {
  "kernelspec": {
   "display_name": "Python 3 (ipykernel)",
   "language": "python",
   "name": "python3"
  },
  "language_info": {
   "codemirror_mode": {
    "name": "ipython",
    "version": 3
   },
   "file_extension": ".py",
   "mimetype": "text/x-python",
   "name": "python",
   "nbconvert_exporter": "python",
   "pygments_lexer": "ipython3",
   "version": "3.9.13"
  }
 },
 "nbformat": 4,
 "nbformat_minor": 5
}
