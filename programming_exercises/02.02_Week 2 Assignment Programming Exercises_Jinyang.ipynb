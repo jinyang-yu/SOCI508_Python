{
 "cells": [
  {
   "cell_type": "markdown",
   "id": "15aeabe0",
   "metadata": {},
   "source": [
    "### Week 2 Assignment Programming Exercises\n",
    "**Name: Jinyang Yu**  \n",
    "**Date: Jan 17, 2022**"
   ]
  },
  {
   "cell_type": "markdown",
   "id": "b79de0da",
   "metadata": {},
   "source": [
    "#### Excercise 1: Pay\n",
    "1. Ask the user to input numbers of hours worked, and wage per hour\n",
    "2. Output total pay"
   ]
  },
  {
   "cell_type": "code",
   "execution_count": 11,
   "id": "b934315b",
   "metadata": {},
   "outputs": [
    {
     "name": "stdout",
     "output_type": "stream",
     "text": [
      "how many hours do you work? 2.5\n",
      "how much do you make per hour? 3\n",
      "total pay:7.5 dollars\n"
     ]
    }
   ],
   "source": [
    "hours=input(\"how many hours do you work? \")\n",
    "wages=input(\"how much do you make per hour? \")\n",
    "print(\"total pay: \" +str(float(hours)*float(wages))+\" dollars\")"
   ]
  },
  {
   "cell_type": "markdown",
   "id": "739cf164",
   "metadata": {},
   "source": [
    "#### Excercise 2: Vowel or consonant\n",
    "In this exercise you will create a program that reads a letter of the alphabet from the user. If the user enters a, e, i, o or u then your program should display a message indicating that the entered letter is a vowel. If the user enters y then your program should display a message indicating that sometimes y is a vowel, and sometimes y is a consonant. Otherwise your program should display a message indicating that the letter is a consonant."
   ]
  },
  {
   "cell_type": "code",
   "execution_count": 25,
   "id": "31c4b5f4",
   "metadata": {},
   "outputs": [
    {
     "name": "stdout",
     "output_type": "stream",
     "text": [
      "please input a letter of the alphabet: f\n",
      "f is a consonant\n"
     ]
    }
   ],
   "source": [
    "letter=input(\"please input a letter of the alphabet: \")\n",
    "if letter in [\"a\",\"e\",\"i\",\"o\",\"u\"]:\n",
    "    print(letter + \" is a vowel\")\n",
    "elif letter in [\"b\",\"c\",\"d\",\"f\",\"g\",\"h\",\"j\",\"k\",\"l\",\"m\",\"n\",\"p\",\"q\",\"r\",\"s\",\"t\",\"v\",\"w\",\"x\",\"y\",\"z\"]:\n",
    "    print(letter + \" is a consonant\")\n",
    "else:\n",
    "    print(\"invalid input\")"
   ]
  },
  {
   "cell_type": "markdown",
   "id": "63700cc5",
   "metadata": {},
   "source": [
    "#### Excercise 3: Bigger number\n",
    "Write a program that:\n",
    "1. Takes two user-entered numbers as input\n",
    "2. Returns: the number that is larger"
   ]
  },
  {
   "cell_type": "code",
   "execution_count": 26,
   "id": "3002ee93",
   "metadata": {},
   "outputs": [
    {
     "name": "stdout",
     "output_type": "stream",
     "text": [
      "please input the first number: 4.67\n",
      "please input the second number: 7.6\n",
      "7.6 is larger\n"
     ]
    }
   ],
   "source": [
    "number1=input(\"please input the first number: \")\n",
    "try: \n",
    "    n1=float(number1)  \n",
    "    number2=input(\"please input the second number: \")\n",
    "    try: \n",
    "        n2=float(number2)\n",
    "        if n1 > n2:\n",
    "            print(str(number1)+ \" is larger\")\n",
    "        elif number1 < number2:\n",
    "            print(str(number2)+ \" is larger\")\n",
    "        else:\n",
    "            print(\"the two numbers are equal\")\n",
    "    except:\n",
    "        print(\"invalid the second number input\")\n",
    "except:\n",
    "    print(\"invalid the first number input\")   "
   ]
  }
 ],
 "metadata": {
  "kernelspec": {
   "display_name": "Python 3 (ipykernel)",
   "language": "python",
   "name": "python3"
  },
  "language_info": {
   "codemirror_mode": {
    "name": "ipython",
    "version": 3
   },
   "file_extension": ".py",
   "mimetype": "text/x-python",
   "name": "python",
   "nbconvert_exporter": "python",
   "pygments_lexer": "ipython3",
   "version": "3.9.13"
  }
 },
 "nbformat": 4,
 "nbformat_minor": 5
}
