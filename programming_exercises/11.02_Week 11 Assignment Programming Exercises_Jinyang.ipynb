{
 "cells": [
  {
   "cell_type": "markdown",
   "id": "15aeabe0",
   "metadata": {},
   "source": [
    "### Week 11 Assignment Programming Exercises\n",
    "**Name: Jinyang Yu**  \n",
    "**Date: Mar 25, 2023**"
   ]
  },
  {
   "cell_type": "code",
   "execution_count": 22,
   "id": "253d87cf",
   "metadata": {},
   "outputs": [
    {
     "name": "stderr",
     "output_type": "stream",
     "text": [
      "[nltk_data] Downloading package stopwords to\n",
      "[nltk_data]     /Users/jinyang/nltk_data...\n",
      "[nltk_data]   Package stopwords is already up-to-date!\n"
     ]
    }
   ],
   "source": [
    "import glob \n",
    "import numpy\n",
    "import pandas as pd\n",
    "import nltk\n",
    "nltk.download('stopwords')\n",
    "from sklearn.feature_extraction.text import ENGLISH_STOP_WORDS\n",
    "from sklearn.feature_extraction.text import CountVectorizer\n",
    "from sklearn.decomposition import LatentDirichletAllocation"
   ]
  },
  {
   "cell_type": "markdown",
   "id": "5e23308c",
   "metadata": {},
   "source": [
    "## 1. Import Corpus"
   ]
  },
  {
   "cell_type": "code",
   "execution_count": 45,
   "id": "91b8cbef",
   "metadata": {},
   "outputs": [],
   "source": [
    "review_path = '../data/poems/reviewed/*.txt'\n",
    "random_path = '../data/poems/random/*.txt'\n",
    "review_files = glob.glob(review_path)\n",
    "random_files = glob.glob(random_path)\n",
    "review_texts = [open(file_name, encoding='utf-8').read() for file_name in review_files]\n",
    "random_texts = [open(file_name, encoding='utf-8').read() for file_name in random_files]"
   ]
  },
  {
   "cell_type": "code",
   "execution_count": 46,
   "id": "d56ad052",
   "metadata": {},
   "outputs": [],
   "source": [
    "df_review = pd.DataFrame({'filename': review_files, 'text': review_texts})\n",
    "df_random = pd.DataFrame({'filename': random_files, 'text': random_texts})\n",
    "df=pd.concat([df_review,df_random])"
   ]
  },
  {
   "cell_type": "code",
   "execution_count": 47,
   "id": "80e59439",
   "metadata": {},
   "outputs": [],
   "source": [
    "def parse_filename(filename):\n",
    "    filename_parts = filename.split('/')\n",
    "    author_title_year = filename_parts[-1].split(' ')\n",
    "    author = ' '.join(author_title_year[1:3])\n",
    "    title = ' '.join(author_title_year[3:-1])\n",
    "    year = author_title_year[-1].replace('.txt', '')\n",
    "    return author, title, year"
   ]
  },
  {
   "cell_type": "code",
   "execution_count": 48,
   "id": "91027893",
   "metadata": {},
   "outputs": [
    {
     "data": {
      "text/html": [
       "<div>\n",
       "<style scoped>\n",
       "    .dataframe tbody tr th:only-of-type {\n",
       "        vertical-align: middle;\n",
       "    }\n",
       "\n",
       "    .dataframe tbody tr th {\n",
       "        vertical-align: top;\n",
       "    }\n",
       "\n",
       "    .dataframe thead th {\n",
       "        text-align: right;\n",
       "    }\n",
       "</style>\n",
       "<table border=\"1\" class=\"dataframe\">\n",
       "  <thead>\n",
       "    <tr style=\"text-align: right;\">\n",
       "      <th></th>\n",
       "      <th>filename</th>\n",
       "      <th>text</th>\n",
       "      <th>author</th>\n",
       "      <th>title</th>\n",
       "      <th>year</th>\n",
       "    </tr>\n",
       "  </thead>\n",
       "  <tbody>\n",
       "    <tr>\n",
       "      <th>0</th>\n",
       "      <td>../data/poems/random/113 Eilshemius, Louis M. ...</td>\n",
       "      <td>the the the the the the the the the the the th...</td>\n",
       "      <td>Eilshemius, Louis</td>\n",
       "      <td>M. All about girls</td>\n",
       "      <td>1907</td>\n",
       "    </tr>\n",
       "    <tr>\n",
       "      <th>1</th>\n",
       "      <td>../data/poems/random/688 Kennedy, William, Fit...</td>\n",
       "      <td>the the the the the the the the the the the th...</td>\n",
       "      <td>Kennedy, William,</td>\n",
       "      <td>Fitful fancies</td>\n",
       "      <td>1827</td>\n",
       "    </tr>\n",
       "    <tr>\n",
       "      <th>2</th>\n",
       "      <td>../data/poems/random/606 Cooper, Thomas, The p...</td>\n",
       "      <td>the the the the the the the the the the the th...</td>\n",
       "      <td>Cooper, Thomas,</td>\n",
       "      <td>The purgatory of suicides</td>\n",
       "      <td>1845</td>\n",
       "    </tr>\n",
       "    <tr>\n",
       "      <th>3</th>\n",
       "      <td>../data/poems/random/161 Pickett, Anita Truema...</td>\n",
       "      <td>the the the the the the the the the the the th...</td>\n",
       "      <td>Pickett, Anita</td>\n",
       "      <td>Trueman, Philo-sophia;</td>\n",
       "      <td>1901</td>\n",
       "    </tr>\n",
       "    <tr>\n",
       "      <th>4</th>\n",
       "      <td>../data/poems/random/105 Hough, Alfred J. Egyp...</td>\n",
       "      <td>the the the the the the the the the the the th...</td>\n",
       "      <td>Hough, Alfred</td>\n",
       "      <td>J. Egyptian melodies</td>\n",
       "      <td>1911</td>\n",
       "    </tr>\n",
       "    <tr>\n",
       "      <th>...</th>\n",
       "      <td>...</td>\n",
       "      <td>...</td>\n",
       "      <td>...</td>\n",
       "      <td>...</td>\n",
       "      <td>...</td>\n",
       "    </tr>\n",
       "    <tr>\n",
       "      <th>347</th>\n",
       "      <td>../data/poems/random/89 Gladden, Washington, U...</td>\n",
       "      <td>the the the the the the the the the the the th...</td>\n",
       "      <td>Gladden, Washington,</td>\n",
       "      <td>Ultima veritas, and other verses</td>\n",
       "      <td>1912</td>\n",
       "    </tr>\n",
       "    <tr>\n",
       "      <th>348</th>\n",
       "      <td>../data/poems/random/102 Phipps, Sarah Metcalf...</td>\n",
       "      <td>the the the the the the the the the the the th...</td>\n",
       "      <td>Phipps, Sarah</td>\n",
       "      <td>Metcalf. Thoughts in rhyme</td>\n",
       "      <td>1911</td>\n",
       "    </tr>\n",
       "    <tr>\n",
       "      <th>349</th>\n",
       "      <td>../data/poems/random/129 Ehrmann, Max, Breakin...</td>\n",
       "      <td>and and and and and and and and and and and an...</td>\n",
       "      <td>Ehrmann, Max,</td>\n",
       "      <td>Breaking home ties</td>\n",
       "      <td>1904</td>\n",
       "    </tr>\n",
       "    <tr>\n",
       "      <th>350</th>\n",
       "      <td>../data/poems/random/241 Văcărescu, Elena, T...</td>\n",
       "      <td>the the the the the the the the the the the th...</td>\n",
       "      <td>Văcărescu, Elena,</td>\n",
       "      <td>The bard of the Dimbovitza</td>\n",
       "      <td>1891</td>\n",
       "    </tr>\n",
       "    <tr>\n",
       "      <th>351</th>\n",
       "      <td>../data/poems/random/497 Taylor, Henry, The po...</td>\n",
       "      <td>the the the the the the the the the the the th...</td>\n",
       "      <td>Taylor, Henry,</td>\n",
       "      <td>The poetical works</td>\n",
       "      <td>1864</td>\n",
       "    </tr>\n",
       "  </tbody>\n",
       "</table>\n",
       "<p>352 rows × 5 columns</p>\n",
       "</div>"
      ],
      "text/plain": [
       "                                              filename  \\\n",
       "0    ../data/poems/random/113 Eilshemius, Louis M. ...   \n",
       "1    ../data/poems/random/688 Kennedy, William, Fit...   \n",
       "2    ../data/poems/random/606 Cooper, Thomas, The p...   \n",
       "3    ../data/poems/random/161 Pickett, Anita Truema...   \n",
       "4    ../data/poems/random/105 Hough, Alfred J. Egyp...   \n",
       "..                                                 ...   \n",
       "347  ../data/poems/random/89 Gladden, Washington, U...   \n",
       "348  ../data/poems/random/102 Phipps, Sarah Metcalf...   \n",
       "349  ../data/poems/random/129 Ehrmann, Max, Breakin...   \n",
       "350  ../data/poems/random/241 Văcărescu, Elena, T...   \n",
       "351  ../data/poems/random/497 Taylor, Henry, The po...   \n",
       "\n",
       "                                                  text                author  \\\n",
       "0    the the the the the the the the the the the th...     Eilshemius, Louis   \n",
       "1    the the the the the the the the the the the th...     Kennedy, William,   \n",
       "2    the the the the the the the the the the the th...       Cooper, Thomas,   \n",
       "3    the the the the the the the the the the the th...        Pickett, Anita   \n",
       "4    the the the the the the the the the the the th...         Hough, Alfred   \n",
       "..                                                 ...                   ...   \n",
       "347  the the the the the the the the the the the th...  Gladden, Washington,   \n",
       "348  the the the the the the the the the the the th...         Phipps, Sarah   \n",
       "349  and and and and and and and and and and and an...         Ehrmann, Max,   \n",
       "350  the the the the the the the the the the the th...   Văcărescu, Elena,   \n",
       "351  the the the the the the the the the the the th...        Taylor, Henry,   \n",
       "\n",
       "                                title  year  \n",
       "0                  M. All about girls  1907  \n",
       "1                      Fitful fancies  1827  \n",
       "2           The purgatory of suicides  1845  \n",
       "3              Trueman, Philo-sophia;  1901  \n",
       "4                J. Egyptian melodies  1911  \n",
       "..                                ...   ...  \n",
       "347  Ultima veritas, and other verses  1912  \n",
       "348        Metcalf. Thoughts in rhyme  1911  \n",
       "349                Breaking home ties  1904  \n",
       "350        The bard of the Dimbovitza  1891  \n",
       "351                The poetical works  1864  \n",
       "\n",
       "[352 rows x 5 columns]"
      ]
     },
     "execution_count": 48,
     "metadata": {},
     "output_type": "execute_result"
    }
   ],
   "source": [
    "df[['author', 'title', 'year']] = pd.DataFrame(df['filename'].apply(parse_filename).tolist(), index=df.index)\n",
    "df_review[['author', 'title', 'year']] = pd.DataFrame(df_review['filename'].apply(parse_filename).tolist(), index=df_review.index)\n",
    "df_random[['author', 'title', 'year']] = pd.DataFrame(df_random['filename'].apply(parse_filename).tolist(), index=df_random.index)\n",
    "df_random"
   ]
  },
  {
   "cell_type": "markdown",
   "id": "56e4df6a",
   "metadata": {},
   "source": [
    "*The split between author and title is not perfect--for some articles, there are parts of author names in titles. The split only aims to give approximate idea about author names and titles."
   ]
  },
  {
   "cell_type": "markdown",
   "id": "1382e8c9",
   "metadata": {},
   "source": [
    "## 2. Fit a Topic Model, using LDA"
   ]
  },
  {
   "cell_type": "markdown",
   "id": "e8c5e501",
   "metadata": {},
   "source": [
    "### reviewed text"
   ]
  },
  {
   "cell_type": "code",
   "execution_count": 49,
   "id": "53125187",
   "metadata": {},
   "outputs": [],
   "source": [
    "def print_top_words(model, feature_names, n_top_words):\n",
    "    for topic_idx, topic in enumerate(model.components_):\n",
    "        print(\"\\nTopic #%d:\" % topic_idx)\n",
    "        print(\" \".join([feature_names[i]\n",
    "                        for i in topic.argsort()[:-n_top_words - 1:-1]]))\n",
    "    print()"
   ]
  },
  {
   "cell_type": "code",
   "execution_count": 58,
   "id": "d80ca205",
   "metadata": {},
   "outputs": [
    {
     "name": "stdout",
     "output_type": "stream",
     "text": [
      "Extracting tf features in review text for LDA...\n"
     ]
    }
   ],
   "source": [
    "# Vectorize our text using CountVectorizer\n",
    "print(\"Extracting tf features in review text for LDA...\")\n",
    "tf_vectorizer = CountVectorizer(max_df=0.80, min_df=0.20,\n",
    "                                max_features=None,\n",
    "                                stop_words='english'\n",
    "                                )\n",
    "\n",
    "tf_review = tf_vectorizer.fit_transform(df_review.text)"
   ]
  },
  {
   "cell_type": "code",
   "execution_count": 60,
   "id": "6f006827",
   "metadata": {},
   "outputs": [
    {
     "name": "stdout",
     "output_type": "stream",
     "text": [
      "Fitting LDA models with tf_review features, n_samples=357 and n_topics=4...\n"
     ]
    },
    {
     "data": {
      "text/plain": [
       "LatentDirichletAllocation(learning_method='online', learning_offset=80.0,\n",
       "                          max_iter=20, n_components=4, random_state=0,\n",
       "                          total_samples=357)"
      ]
     },
     "execution_count": 60,
     "metadata": {},
     "output_type": "execute_result"
    }
   ],
   "source": [
    "n_topics = 4\n",
    "n_top_words = 20\n",
    "\n",
    "print(\"Fitting LDA models with tf_review features, \"\n",
    "      \"n_samples=%d and n_topics=%d...\"\n",
    "      % (n_samples, n_topics))\n",
    "\n",
    "\n",
    "\n",
    "#define the lda function, with desired options\n",
    "#Check the documentation, linked above, to look through the options\n",
    "lda = LatentDirichletAllocation(n_components=n_topics, max_iter=20,\n",
    "                                learning_method='online',\n",
    "                                learning_offset=80.,\n",
    "                                total_samples=len(df_review),\n",
    "                                random_state=0)\n",
    "#fit the model\n",
    "lda.fit(tf_review)"
   ]
  },
  {
   "cell_type": "code",
   "execution_count": 61,
   "id": "cec60c00",
   "metadata": {},
   "outputs": [
    {
     "name": "stdout",
     "output_type": "stream",
     "text": [
      "\n",
      "Topics in reviewed text with LDA model:\n",
      "\n",
      "Topic #0:\n",
      "hath oft st twas scene hast doth fancy glorious bliss th tear dread mid fond fame mortal given view tomb\n",
      "\n",
      "Topic #1:\n",
      "hath spake gods hast sword queen battle war son kings nay doth hall shalt host brother wilt drew yea eve\n",
      "\n",
      "Topic #2:\n",
      "ll wife ve lady town quite sir law nay self women street does body book fine wish got girl says\n",
      "\n",
      "Topic #3:\n",
      "hath roses forest autumn sang sunset lady lover doth woods sunshine softly forever desire poet slowly ago mid afar mist\n",
      "\n"
     ]
    }
   ],
   "source": [
    "#print the top words per topic, using the function defined above.\n",
    "#Unlike R, which has a built-in function to print top words, we have to write our own for scikit-learn\n",
    "#I think this demonstrates the different aims of the two packages: R is for social scientists, Python for computer scientists\n",
    "\n",
    "print(\"\\nTopics in reviewed text with LDA model:\")\n",
    "tf_feature_names_review = tf_vectorizer.get_feature_names_out()\n",
    "print_top_words(lda, tf_feature_names_review, n_top_words)"
   ]
  },
  {
   "cell_type": "markdown",
   "id": "a39026f5",
   "metadata": {},
   "source": [
    "The first topic could be happiness and death (fancy, glorious, fame, bliss; mortal, tomb, dread, tear); the second topic could be kingdom and war (sword, queen, battle, war, kings); the third topic could be women (wife, lady, women, girl); the last topic could be nature (rose, forest, autumn, sunset, woods, sunshine)."
   ]
  },
  {
   "cell_type": "markdown",
   "id": "9f02b747",
   "metadata": {},
   "source": [
    "### random text"
   ]
  },
  {
   "cell_type": "code",
   "execution_count": 62,
   "id": "919ae75c",
   "metadata": {},
   "outputs": [
    {
     "name": "stdout",
     "output_type": "stream",
     "text": [
      "Extracting tf features in random text for LDA...\n"
     ]
    }
   ],
   "source": [
    "# Vectorize our text using CountVectorizer\n",
    "print(\"Extracting tf features in random text for LDA...\")\n",
    "tf_vectorizer = CountVectorizer(max_df=0.80, min_df=0.20,\n",
    "                                max_features=None,\n",
    "                                stop_words='english'\n",
    "                                )\n",
    "\n",
    "tf_random = tf_vectorizer.fit_transform(df_random.text)"
   ]
  },
  {
   "cell_type": "code",
   "execution_count": 63,
   "id": "3b442702",
   "metadata": {},
   "outputs": [
    {
     "name": "stdout",
     "output_type": "stream",
     "text": [
      "Fitting LDA models with tf_random features, n_samples=352 and n_topics=4...\n"
     ]
    },
    {
     "data": {
      "text/plain": [
       "LatentDirichletAllocation(learning_method='online', learning_offset=80.0,\n",
       "                          max_iter=20, n_components=4, random_state=0,\n",
       "                          total_samples=352)"
      ]
     },
     "execution_count": 63,
     "metadata": {},
     "output_type": "execute_result"
    }
   ],
   "source": [
    "n_topics = 4\n",
    "n_top_words = 20\n",
    "\n",
    "print(\"Fitting LDA models with tf_random features, \"\n",
    "      \"n_samples=%d and n_topics=%d...\"\n",
    "      % (len(df_random), n_topics))\n",
    "\n",
    "\n",
    "\n",
    "#define the lda function, with desired options\n",
    "#Check the documentation, linked above, to look through the options\n",
    "lda = LatentDirichletAllocation(n_components=n_topics, max_iter=20,\n",
    "                                learning_method='online',\n",
    "                                learning_offset=80.,\n",
    "                                total_samples=len(df_random),\n",
    "                                random_state=0)\n",
    "#fit the model\n",
    "lda.fit(tf_random)"
   ]
  },
  {
   "cell_type": "code",
   "execution_count": 64,
   "id": "14ff2073",
   "metadata": {},
   "outputs": [
    {
     "name": "stdout",
     "output_type": "stream",
     "text": [
      "\n",
      "Topics in random text with LDA model:\n",
      "\n",
      "Topic #0:\n",
      "teacher school teaching quite study taught teach answer ve read hath branches order minds quiet questions early anxious parents labour\n",
      "\n",
      "Topic #1:\n",
      "jesus hath sin saviour christ heavenly angels eternal throne glorious lo angel mid unto hast doth sacred bliss behold cross\n",
      "\n",
      "Topic #2:\n",
      "ve grey hair bird river woman today grew hath door silver kiss wood lady rain took black twas pale boy\n",
      "\n",
      "Topic #3:\n",
      "war proud country view hath th bosom scene foe state fame sons chief freedom noble spread son dread sacred twas\n",
      "\n"
     ]
    }
   ],
   "source": [
    "print(\"\\nTopics in random text with LDA model:\")\n",
    "tf_feature_names_random = tf_vectorizer.get_feature_names_out()\n",
    "print_top_words(lda, tf_feature_names_random, n_top_words)"
   ]
  },
  {
   "cell_type": "markdown",
   "id": "aa3ecc3e",
   "metadata": {},
   "source": [
    "The first topic could be study (teacher, school, study, taught, teach, answer, read, questions, parents); the second topic could be Christianity (jesus, sin, christ, heavenly, angel, eternal, sacred, cross); the third topic could be women and nature (bird, river, wood, rain; woman, lady); the last topic could be country, war and proud (war, proud, country, state, fame, sons, noble, sacred)."
   ]
  },
  {
   "cell_type": "markdown",
   "id": "b5031bbc",
   "metadata": {},
   "source": [
    "Comparing the results of reviewed text and random text, reviewed text focused more on happiness and death than random text, while random text were more about study and Christianity."
   ]
  },
  {
   "cell_type": "markdown",
   "id": "81545512",
   "metadata": {},
   "source": [
    "### 3. Document by Topic Distribution"
   ]
  },
  {
   "cell_type": "markdown",
   "id": "ab46a5df",
   "metadata": {},
   "source": [
    "### reviewed text"
   ]
  },
  {
   "cell_type": "code",
   "execution_count": 68,
   "id": "faaca6e9",
   "metadata": {},
   "outputs": [
    {
     "name": "stdout",
     "output_type": "stream",
     "text": [
      "Fitting LDA models with tf_review features, n_samples=357 and n_topics=4...\n"
     ]
    },
    {
     "data": {
      "text/plain": [
       "LatentDirichletAllocation(learning_method='online', learning_offset=80.0,\n",
       "                          max_iter=20, n_components=4, random_state=0,\n",
       "                          total_samples=357)"
      ]
     },
     "execution_count": 68,
     "metadata": {},
     "output_type": "execute_result"
    }
   ],
   "source": [
    "n_topics = 4\n",
    "n_top_words = 20\n",
    "\n",
    "print(\"Fitting LDA models with tf_review features, \"\n",
    "      \"n_samples=%d and n_topics=%d...\"\n",
    "      % (len(df_review), n_topics))\n",
    "\n",
    "\n",
    "\n",
    "#define the lda function, with desired options\n",
    "#Check the documentation, linked above, to look through the options\n",
    "lda = LatentDirichletAllocation(n_components=n_topics, max_iter=20,\n",
    "                                learning_method='online',\n",
    "                                learning_offset=80.,\n",
    "                                total_samples=len(df_review),\n",
    "                                random_state=0)\n",
    "#fit the model\n",
    "lda.fit(tf_review)"
   ]
  },
  {
   "cell_type": "code",
   "execution_count": 67,
   "id": "b2a6a0d4",
   "metadata": {},
   "outputs": [
    {
     "data": {
      "text/plain": [
       "array([[3.49682108e-01, 6.83702084e-03, 1.65233264e-01, 4.78247607e-01],\n",
       "       [4.38633673e-01, 1.03654735e-01, 3.16487116e-01, 1.41224475e-01],\n",
       "       [6.37705273e-01, 3.70936438e-04, 3.29706870e-02, 3.28953104e-01],\n",
       "       ...,\n",
       "       [8.46452517e-02, 4.90056578e-01, 8.07697066e-04, 4.24490473e-01],\n",
       "       [1.03016616e-01, 1.03166501e-04, 2.45056920e-01, 6.51823298e-01],\n",
       "       [8.82405053e-01, 3.54486185e-02, 8.17408480e-02, 4.05480139e-04]])"
      ]
     },
     "execution_count": 67,
     "metadata": {},
     "output_type": "execute_result"
    }
   ],
   "source": [
    "topic_dist_review = lda.transform(tf_review)\n",
    "topic_dist_review"
   ]
  },
  {
   "cell_type": "code",
   "execution_count": 69,
   "id": "e038b93d",
   "metadata": {},
   "outputs": [
    {
     "data": {
      "text/html": [
       "<div>\n",
       "<style scoped>\n",
       "    .dataframe tbody tr th:only-of-type {\n",
       "        vertical-align: middle;\n",
       "    }\n",
       "\n",
       "    .dataframe tbody tr th {\n",
       "        vertical-align: top;\n",
       "    }\n",
       "\n",
       "    .dataframe thead th {\n",
       "        text-align: right;\n",
       "    }\n",
       "</style>\n",
       "<table border=\"1\" class=\"dataframe\">\n",
       "  <thead>\n",
       "    <tr style=\"text-align: right;\">\n",
       "      <th></th>\n",
       "      <th>0</th>\n",
       "      <th>1</th>\n",
       "      <th>2</th>\n",
       "      <th>3</th>\n",
       "      <th>filename</th>\n",
       "      <th>text</th>\n",
       "      <th>author</th>\n",
       "      <th>title</th>\n",
       "      <th>year</th>\n",
       "    </tr>\n",
       "  </thead>\n",
       "  <tbody>\n",
       "    <tr>\n",
       "      <th>0</th>\n",
       "      <td>0.349682</td>\n",
       "      <td>0.006837</td>\n",
       "      <td>0.165233</td>\n",
       "      <td>0.478248</td>\n",
       "      <td>../data/poems/reviewed/689 Hood, Thomas, The p...</td>\n",
       "      <td>the the the the the the the the the the the th...</td>\n",
       "      <td>Hood, Thomas,</td>\n",
       "      <td>The plea of the midsummer fairies</td>\n",
       "      <td>1827</td>\n",
       "    </tr>\n",
       "    <tr>\n",
       "      <th>1</th>\n",
       "      <td>0.438634</td>\n",
       "      <td>0.103655</td>\n",
       "      <td>0.316487</td>\n",
       "      <td>0.141224</td>\n",
       "      <td>../data/poems/reviewed/524 Mackay, Charles, A ...</td>\n",
       "      <td>the the the the the the the the the the the th...</td>\n",
       "      <td>Mackay, Charles,</td>\n",
       "      <td>A man's heart</td>\n",
       "      <td>1860</td>\n",
       "    </tr>\n",
       "    <tr>\n",
       "      <th>2</th>\n",
       "      <td>0.637705</td>\n",
       "      <td>0.000371</td>\n",
       "      <td>0.032971</td>\n",
       "      <td>0.328953</td>\n",
       "      <td>../data/poems/reviewed/383 Colman, James F. Th...</td>\n",
       "      <td>the the the the the the the the the the the th...</td>\n",
       "      <td>Colman, James</td>\n",
       "      <td>F. The knightly heart, and other poems</td>\n",
       "      <td>1873</td>\n",
       "    </tr>\n",
       "    <tr>\n",
       "      <th>3</th>\n",
       "      <td>0.006718</td>\n",
       "      <td>0.276516</td>\n",
       "      <td>0.232636</td>\n",
       "      <td>0.484130</td>\n",
       "      <td>../data/poems/reviewed/580 Browning, Elizabeth...</td>\n",
       "      <td>the the the the the the the the the the the th...</td>\n",
       "      <td>Browning, Elizabeth</td>\n",
       "      <td>Barrett, Poems</td>\n",
       "      <td>1853</td>\n",
       "    </tr>\n",
       "    <tr>\n",
       "      <th>4</th>\n",
       "      <td>0.000109</td>\n",
       "      <td>0.423846</td>\n",
       "      <td>0.041953</td>\n",
       "      <td>0.534092</td>\n",
       "      <td>../data/poems/reviewed/431 Myers, F. W. H. Poe...</td>\n",
       "      <td>the the the the the the the the the the the th...</td>\n",
       "      <td>Myers, F.</td>\n",
       "      <td>W. H. Poems</td>\n",
       "      <td>1870</td>\n",
       "    </tr>\n",
       "    <tr>\n",
       "      <th>...</th>\n",
       "      <td>...</td>\n",
       "      <td>...</td>\n",
       "      <td>...</td>\n",
       "      <td>...</td>\n",
       "      <td>...</td>\n",
       "      <td>...</td>\n",
       "      <td>...</td>\n",
       "      <td>...</td>\n",
       "      <td>...</td>\n",
       "    </tr>\n",
       "    <tr>\n",
       "      <th>352</th>\n",
       "      <td>0.349532</td>\n",
       "      <td>0.414648</td>\n",
       "      <td>0.081246</td>\n",
       "      <td>0.154574</td>\n",
       "      <td>../data/poems/reviewed/307 Palgrave, Francis T...</td>\n",
       "      <td>the the the the the the the the the the the th...</td>\n",
       "      <td>Palgrave, Francis</td>\n",
       "      <td>Turner, The visions of England</td>\n",
       "      <td>1881</td>\n",
       "    </tr>\n",
       "    <tr>\n",
       "      <th>353</th>\n",
       "      <td>0.126024</td>\n",
       "      <td>0.311665</td>\n",
       "      <td>0.042112</td>\n",
       "      <td>0.520198</td>\n",
       "      <td>../data/poems/reviewed/578 Arnold, Edwin, Poem...</td>\n",
       "      <td>the the the the the the the the the the the th...</td>\n",
       "      <td>Arnold, Edwin,</td>\n",
       "      <td>Poems, narrative and lyrical</td>\n",
       "      <td>1853</td>\n",
       "    </tr>\n",
       "    <tr>\n",
       "      <th>354</th>\n",
       "      <td>0.084645</td>\n",
       "      <td>0.490057</td>\n",
       "      <td>0.000808</td>\n",
       "      <td>0.424490</td>\n",
       "      <td>../data/poems/reviewed/217 McCulloch, Hugh, Th...</td>\n",
       "      <td>the the the the the the the the the the the th...</td>\n",
       "      <td>McCulloch, Hugh,</td>\n",
       "      <td>The quest of Heracles and other poems</td>\n",
       "      <td>1893</td>\n",
       "    </tr>\n",
       "    <tr>\n",
       "      <th>355</th>\n",
       "      <td>0.103017</td>\n",
       "      <td>0.000103</td>\n",
       "      <td>0.245057</td>\n",
       "      <td>0.651823</td>\n",
       "      <td>../data/poems/reviewed/391 Turner, Eliza (Spro...</td>\n",
       "      <td>the the the the the the the the the the the th...</td>\n",
       "      <td>Turner, Eliza</td>\n",
       "      <td>(Sproat) Out-of-door rhymes</td>\n",
       "      <td>1872</td>\n",
       "    </tr>\n",
       "    <tr>\n",
       "      <th>356</th>\n",
       "      <td>0.882405</td>\n",
       "      <td>0.035449</td>\n",
       "      <td>0.081741</td>\n",
       "      <td>0.000405</td>\n",
       "      <td>../data/poems/reviewed/651 Elliott, Ebenezer, ...</td>\n",
       "      <td>the the the the the the the the the the the th...</td>\n",
       "      <td>Elliott, Ebenezer,</td>\n",
       "      <td>[Elliott's poems]</td>\n",
       "      <td>1834</td>\n",
       "    </tr>\n",
       "  </tbody>\n",
       "</table>\n",
       "<p>357 rows × 9 columns</p>\n",
       "</div>"
      ],
      "text/plain": [
       "            0         1         2         3  \\\n",
       "0    0.349682  0.006837  0.165233  0.478248   \n",
       "1    0.438634  0.103655  0.316487  0.141224   \n",
       "2    0.637705  0.000371  0.032971  0.328953   \n",
       "3    0.006718  0.276516  0.232636  0.484130   \n",
       "4    0.000109  0.423846  0.041953  0.534092   \n",
       "..        ...       ...       ...       ...   \n",
       "352  0.349532  0.414648  0.081246  0.154574   \n",
       "353  0.126024  0.311665  0.042112  0.520198   \n",
       "354  0.084645  0.490057  0.000808  0.424490   \n",
       "355  0.103017  0.000103  0.245057  0.651823   \n",
       "356  0.882405  0.035449  0.081741  0.000405   \n",
       "\n",
       "                                              filename  \\\n",
       "0    ../data/poems/reviewed/689 Hood, Thomas, The p...   \n",
       "1    ../data/poems/reviewed/524 Mackay, Charles, A ...   \n",
       "2    ../data/poems/reviewed/383 Colman, James F. Th...   \n",
       "3    ../data/poems/reviewed/580 Browning, Elizabeth...   \n",
       "4    ../data/poems/reviewed/431 Myers, F. W. H. Poe...   \n",
       "..                                                 ...   \n",
       "352  ../data/poems/reviewed/307 Palgrave, Francis T...   \n",
       "353  ../data/poems/reviewed/578 Arnold, Edwin, Poem...   \n",
       "354  ../data/poems/reviewed/217 McCulloch, Hugh, Th...   \n",
       "355  ../data/poems/reviewed/391 Turner, Eliza (Spro...   \n",
       "356  ../data/poems/reviewed/651 Elliott, Ebenezer, ...   \n",
       "\n",
       "                                                  text               author  \\\n",
       "0    the the the the the the the the the the the th...        Hood, Thomas,   \n",
       "1    the the the the the the the the the the the th...     Mackay, Charles,   \n",
       "2    the the the the the the the the the the the th...        Colman, James   \n",
       "3    the the the the the the the the the the the th...  Browning, Elizabeth   \n",
       "4    the the the the the the the the the the the th...            Myers, F.   \n",
       "..                                                 ...                  ...   \n",
       "352  the the the the the the the the the the the th...    Palgrave, Francis   \n",
       "353  the the the the the the the the the the the th...       Arnold, Edwin,   \n",
       "354  the the the the the the the the the the the th...     McCulloch, Hugh,   \n",
       "355  the the the the the the the the the the the th...        Turner, Eliza   \n",
       "356  the the the the the the the the the the the th...   Elliott, Ebenezer,   \n",
       "\n",
       "                                      title  year  \n",
       "0         The plea of the midsummer fairies  1827  \n",
       "1                             A man's heart  1860  \n",
       "2    F. The knightly heart, and other poems  1873  \n",
       "3                            Barrett, Poems  1853  \n",
       "4                               W. H. Poems  1870  \n",
       "..                                      ...   ...  \n",
       "352          Turner, The visions of England  1881  \n",
       "353            Poems, narrative and lyrical  1853  \n",
       "354   The quest of Heracles and other poems  1893  \n",
       "355             (Sproat) Out-of-door rhymes  1872  \n",
       "356                       [Elliott's poems]  1834  \n",
       "\n",
       "[357 rows x 9 columns]"
      ]
     },
     "execution_count": 69,
     "metadata": {},
     "output_type": "execute_result"
    }
   ],
   "source": [
    "topic_dist_df_review = pd.DataFrame(topic_dist_review)\n",
    "df_w_topics_review = topic_dist_df_review.join(df_review)\n",
    "df_w_topics_review"
   ]
  },
  {
   "cell_type": "code",
   "execution_count": 73,
   "id": "68d27da3",
   "metadata": {},
   "outputs": [
    {
     "name": "stdout",
     "output_type": "stream",
     "text": [
      "                                title               author  year         0\n",
      "24                          sceptic ;          Hemans, The  1820  0.999952\n",
      "29                      Satan, a poem  Montgomery, Robert,  1830  0.999897\n",
      "276                             Poems     Barton, Bernard,  1820  0.999886\n",
      "290      and historic scenes in verse        Hemans, Tales  1819  0.999875\n",
      "257  A New Year's Eve and Other Poems     Barton, Bernard,  1828  0.999836\n"
     ]
    }
   ],
   "source": [
    "print(df_w_topics_review[['title', 'author','year', 0]].sort_values(by=[0], ascending=False).head(5))"
   ]
  },
  {
   "cell_type": "code",
   "execution_count": 74,
   "id": "e92e930a",
   "metadata": {},
   "outputs": [
    {
     "name": "stdout",
     "output_type": "stream",
     "text": [
      "                                                 title              author  \\\n",
      "136  The story of Sigurd the Volsung and the fall o...    Morris, William,   \n",
      "137                               The fall of Nineveh;  Atherstone, Edwin,   \n",
      "318                               The fall of Nineveh;  Atherstone, Edwin,   \n",
      "247                                    Israel in Egypt  Atherstone, Edwin,   \n",
      "326        Love is enough, or The freeing of Pharamond    Morris, William,   \n",
      "\n",
      "     year         1  \n",
      "136  1881  0.999964  \n",
      "137  1828  0.999932  \n",
      "318  1828  0.999916  \n",
      "247  1861  0.999141  \n",
      "326  1873  0.883265  \n"
     ]
    }
   ],
   "source": [
    "print(df_w_topics_review[['title', 'author','year', 1]].sort_values(by=[1], ascending=False).head(5))"
   ]
  },
  {
   "cell_type": "code",
   "execution_count": 75,
   "id": "0319bafc",
   "metadata": {},
   "outputs": [
    {
     "name": "stdout",
     "output_type": "stream",
     "text": [
      "                                  title             author  year         2\n",
      "192               The ring and the book  Browning, Robert,  1869  0.999936\n",
      "91                         E. Betsy Lee          Brown, T.  1873  0.999516\n",
      "320       Wetmore, Grimm tales made gay        Carryl, Guy  1902  0.999466\n",
      "323                       Wilson, Fires    Gibson, Wilfrid  1912  0.999385\n",
      "313  S. Prufrock and other observations          Eliot, T.  1917  0.998753\n"
     ]
    }
   ],
   "source": [
    "print(df_w_topics_review[['title', 'author','year', 2]].sort_values(by=[2], ascending=False).head(5))"
   ]
  },
  {
   "cell_type": "code",
   "execution_count": 76,
   "id": "ecd701a6",
   "metadata": {},
   "outputs": [
    {
     "name": "stdout",
     "output_type": "stream",
     "text": [
      "                                          title             author  year  \\\n",
      "87                    Elizabeth Prescott, Poems  Spofford, Harriet  1882   \n",
      "217                  Hall, Love and liberation;     Wheelock, John  1913   \n",
      "106  The cruise of the Mystery, and other poems    Thaxter, Celia,  1886   \n",
      "131                 Julius, A voice on the wind    Cawein, Madison  1902   \n",
      "44                                        Poems    Thaxter, Celia,  1872   \n",
      "\n",
      "            3  \n",
      "87   0.999802  \n",
      "217  0.999788  \n",
      "106  0.999633  \n",
      "131  0.999580  \n",
      "44   0.999576  \n"
     ]
    }
   ],
   "source": [
    "print(df_w_topics_review[['title', 'author','year', 3]].sort_values(by=[3], ascending=False).head(5))"
   ]
  },
  {
   "cell_type": "markdown",
   "id": "cb1d2cc7",
   "metadata": {},
   "source": [
    "Above showing the representative texts for each topic of reviewed texts, which enables researchers to engage with the full texts. Also, we can observe that certain topic was more prevalent in certain time period. For example, representative texts for the first topic were all written between 1820 and 1830."
   ]
  },
  {
   "cell_type": "code",
   "execution_count": 72,
   "id": "70ab8858",
   "metadata": {},
   "outputs": [
    {
     "name": "stdout",
     "output_type": "stream",
     "text": [
      "Fitting LDA models with tf_random features, n_samples=352 and n_topics=4...\n"
     ]
    },
    {
     "data": {
      "text/plain": [
       "LatentDirichletAllocation(learning_method='online', learning_offset=80.0,\n",
       "                          max_iter=20, n_components=4, random_state=0,\n",
       "                          total_samples=352)"
      ]
     },
     "execution_count": 72,
     "metadata": {},
     "output_type": "execute_result"
    }
   ],
   "source": [
    "n_topics = 4\n",
    "n_top_words = 20\n",
    "\n",
    "print(\"Fitting LDA models with tf_random features, \"\n",
    "      \"n_samples=%d and n_topics=%d...\"\n",
    "      % (len(df_random), n_topics))\n",
    "\n",
    "\n",
    "\n",
    "#define the lda function, with desired options\n",
    "#Check the documentation, linked above, to look through the options\n",
    "lda = LatentDirichletAllocation(n_components=n_topics, max_iter=20,\n",
    "                                learning_method='online',\n",
    "                                learning_offset=80.,\n",
    "                                total_samples=len(df_random),\n",
    "                                random_state=0)\n",
    "#fit the model\n",
    "lda.fit(tf_random)"
   ]
  },
  {
   "cell_type": "code",
   "execution_count": 77,
   "id": "8597ff42",
   "metadata": {},
   "outputs": [
    {
     "data": {
      "text/html": [
       "<div>\n",
       "<style scoped>\n",
       "    .dataframe tbody tr th:only-of-type {\n",
       "        vertical-align: middle;\n",
       "    }\n",
       "\n",
       "    .dataframe tbody tr th {\n",
       "        vertical-align: top;\n",
       "    }\n",
       "\n",
       "    .dataframe thead th {\n",
       "        text-align: right;\n",
       "    }\n",
       "</style>\n",
       "<table border=\"1\" class=\"dataframe\">\n",
       "  <thead>\n",
       "    <tr style=\"text-align: right;\">\n",
       "      <th></th>\n",
       "      <th>0</th>\n",
       "      <th>1</th>\n",
       "      <th>2</th>\n",
       "      <th>3</th>\n",
       "      <th>filename</th>\n",
       "      <th>text</th>\n",
       "      <th>author</th>\n",
       "      <th>title</th>\n",
       "      <th>year</th>\n",
       "    </tr>\n",
       "  </thead>\n",
       "  <tbody>\n",
       "    <tr>\n",
       "      <th>0</th>\n",
       "      <td>0.000047</td>\n",
       "      <td>0.107716</td>\n",
       "      <td>0.870881</td>\n",
       "      <td>0.021356</td>\n",
       "      <td>../data/poems/random/113 Eilshemius, Louis M. ...</td>\n",
       "      <td>the the the the the the the the the the the th...</td>\n",
       "      <td>Eilshemius, Louis</td>\n",
       "      <td>M. All about girls</td>\n",
       "      <td>1907</td>\n",
       "    </tr>\n",
       "    <tr>\n",
       "      <th>1</th>\n",
       "      <td>0.000058</td>\n",
       "      <td>0.111478</td>\n",
       "      <td>0.353293</td>\n",
       "      <td>0.535171</td>\n",
       "      <td>../data/poems/random/688 Kennedy, William, Fit...</td>\n",
       "      <td>the the the the the the the the the the the th...</td>\n",
       "      <td>Kennedy, William,</td>\n",
       "      <td>Fitful fancies</td>\n",
       "      <td>1827</td>\n",
       "    </tr>\n",
       "    <tr>\n",
       "      <th>2</th>\n",
       "      <td>0.000015</td>\n",
       "      <td>0.229360</td>\n",
       "      <td>0.013657</td>\n",
       "      <td>0.756968</td>\n",
       "      <td>../data/poems/random/606 Cooper, Thomas, The p...</td>\n",
       "      <td>the the the the the the the the the the the th...</td>\n",
       "      <td>Cooper, Thomas,</td>\n",
       "      <td>The purgatory of suicides</td>\n",
       "      <td>1845</td>\n",
       "    </tr>\n",
       "    <tr>\n",
       "      <th>3</th>\n",
       "      <td>0.000083</td>\n",
       "      <td>0.729054</td>\n",
       "      <td>0.145397</td>\n",
       "      <td>0.125465</td>\n",
       "      <td>../data/poems/random/161 Pickett, Anita Truema...</td>\n",
       "      <td>the the the the the the the the the the the th...</td>\n",
       "      <td>Pickett, Anita</td>\n",
       "      <td>Trueman, Philo-sophia;</td>\n",
       "      <td>1901</td>\n",
       "    </tr>\n",
       "    <tr>\n",
       "      <th>4</th>\n",
       "      <td>0.000067</td>\n",
       "      <td>0.280134</td>\n",
       "      <td>0.713144</td>\n",
       "      <td>0.006656</td>\n",
       "      <td>../data/poems/random/105 Hough, Alfred J. Egyp...</td>\n",
       "      <td>the the the the the the the the the the the th...</td>\n",
       "      <td>Hough, Alfred</td>\n",
       "      <td>J. Egyptian melodies</td>\n",
       "      <td>1911</td>\n",
       "    </tr>\n",
       "    <tr>\n",
       "      <th>...</th>\n",
       "      <td>...</td>\n",
       "      <td>...</td>\n",
       "      <td>...</td>\n",
       "      <td>...</td>\n",
       "      <td>...</td>\n",
       "      <td>...</td>\n",
       "      <td>...</td>\n",
       "      <td>...</td>\n",
       "      <td>...</td>\n",
       "    </tr>\n",
       "    <tr>\n",
       "      <th>347</th>\n",
       "      <td>0.000078</td>\n",
       "      <td>0.390976</td>\n",
       "      <td>0.597749</td>\n",
       "      <td>0.011197</td>\n",
       "      <td>../data/poems/random/89 Gladden, Washington, U...</td>\n",
       "      <td>the the the the the the the the the the the th...</td>\n",
       "      <td>Gladden, Washington,</td>\n",
       "      <td>Ultima veritas, and other verses</td>\n",
       "      <td>1912</td>\n",
       "    </tr>\n",
       "    <tr>\n",
       "      <th>348</th>\n",
       "      <td>0.000251</td>\n",
       "      <td>0.268230</td>\n",
       "      <td>0.731262</td>\n",
       "      <td>0.000257</td>\n",
       "      <td>../data/poems/random/102 Phipps, Sarah Metcalf...</td>\n",
       "      <td>the the the the the the the the the the the th...</td>\n",
       "      <td>Phipps, Sarah</td>\n",
       "      <td>Metcalf. Thoughts in rhyme</td>\n",
       "      <td>1911</td>\n",
       "    </tr>\n",
       "    <tr>\n",
       "      <th>349</th>\n",
       "      <td>0.000357</td>\n",
       "      <td>0.035610</td>\n",
       "      <td>0.877118</td>\n",
       "      <td>0.086915</td>\n",
       "      <td>../data/poems/random/129 Ehrmann, Max, Breakin...</td>\n",
       "      <td>and and and and and and and and and and and an...</td>\n",
       "      <td>Ehrmann, Max,</td>\n",
       "      <td>Breaking home ties</td>\n",
       "      <td>1904</td>\n",
       "    </tr>\n",
       "    <tr>\n",
       "      <th>350</th>\n",
       "      <td>0.000082</td>\n",
       "      <td>0.000085</td>\n",
       "      <td>0.999750</td>\n",
       "      <td>0.000083</td>\n",
       "      <td>../data/poems/random/241 Văcărescu, Elena, T...</td>\n",
       "      <td>the the the the the the the the the the the th...</td>\n",
       "      <td>Văcărescu, Elena,</td>\n",
       "      <td>The bard of the Dimbovitza</td>\n",
       "      <td>1891</td>\n",
       "    </tr>\n",
       "    <tr>\n",
       "      <th>351</th>\n",
       "      <td>0.000097</td>\n",
       "      <td>0.025870</td>\n",
       "      <td>0.452254</td>\n",
       "      <td>0.521779</td>\n",
       "      <td>../data/poems/random/497 Taylor, Henry, The po...</td>\n",
       "      <td>the the the the the the the the the the the th...</td>\n",
       "      <td>Taylor, Henry,</td>\n",
       "      <td>The poetical works</td>\n",
       "      <td>1864</td>\n",
       "    </tr>\n",
       "  </tbody>\n",
       "</table>\n",
       "<p>352 rows × 9 columns</p>\n",
       "</div>"
      ],
      "text/plain": [
       "            0         1         2         3  \\\n",
       "0    0.000047  0.107716  0.870881  0.021356   \n",
       "1    0.000058  0.111478  0.353293  0.535171   \n",
       "2    0.000015  0.229360  0.013657  0.756968   \n",
       "3    0.000083  0.729054  0.145397  0.125465   \n",
       "4    0.000067  0.280134  0.713144  0.006656   \n",
       "..        ...       ...       ...       ...   \n",
       "347  0.000078  0.390976  0.597749  0.011197   \n",
       "348  0.000251  0.268230  0.731262  0.000257   \n",
       "349  0.000357  0.035610  0.877118  0.086915   \n",
       "350  0.000082  0.000085  0.999750  0.000083   \n",
       "351  0.000097  0.025870  0.452254  0.521779   \n",
       "\n",
       "                                              filename  \\\n",
       "0    ../data/poems/random/113 Eilshemius, Louis M. ...   \n",
       "1    ../data/poems/random/688 Kennedy, William, Fit...   \n",
       "2    ../data/poems/random/606 Cooper, Thomas, The p...   \n",
       "3    ../data/poems/random/161 Pickett, Anita Truema...   \n",
       "4    ../data/poems/random/105 Hough, Alfred J. Egyp...   \n",
       "..                                                 ...   \n",
       "347  ../data/poems/random/89 Gladden, Washington, U...   \n",
       "348  ../data/poems/random/102 Phipps, Sarah Metcalf...   \n",
       "349  ../data/poems/random/129 Ehrmann, Max, Breakin...   \n",
       "350  ../data/poems/random/241 Văcărescu, Elena, T...   \n",
       "351  ../data/poems/random/497 Taylor, Henry, The po...   \n",
       "\n",
       "                                                  text                author  \\\n",
       "0    the the the the the the the the the the the th...     Eilshemius, Louis   \n",
       "1    the the the the the the the the the the the th...     Kennedy, William,   \n",
       "2    the the the the the the the the the the the th...       Cooper, Thomas,   \n",
       "3    the the the the the the the the the the the th...        Pickett, Anita   \n",
       "4    the the the the the the the the the the the th...         Hough, Alfred   \n",
       "..                                                 ...                   ...   \n",
       "347  the the the the the the the the the the the th...  Gladden, Washington,   \n",
       "348  the the the the the the the the the the the th...         Phipps, Sarah   \n",
       "349  and and and and and and and and and and and an...         Ehrmann, Max,   \n",
       "350  the the the the the the the the the the the th...   Văcărescu, Elena,   \n",
       "351  the the the the the the the the the the the th...        Taylor, Henry,   \n",
       "\n",
       "                                title  year  \n",
       "0                  M. All about girls  1907  \n",
       "1                      Fitful fancies  1827  \n",
       "2           The purgatory of suicides  1845  \n",
       "3              Trueman, Philo-sophia;  1901  \n",
       "4                J. Egyptian melodies  1911  \n",
       "..                                ...   ...  \n",
       "347  Ultima veritas, and other verses  1912  \n",
       "348        Metcalf. Thoughts in rhyme  1911  \n",
       "349                Breaking home ties  1904  \n",
       "350        The bard of the Dimbovitza  1891  \n",
       "351                The poetical works  1864  \n",
       "\n",
       "[352 rows x 9 columns]"
      ]
     },
     "execution_count": 77,
     "metadata": {},
     "output_type": "execute_result"
    }
   ],
   "source": [
    "topic_dist_random = lda.transform(tf_random)\n",
    "topic_dist_df_random = pd.DataFrame(topic_dist_random)\n",
    "df_w_topics_random = topic_dist_df_random.join(df_random)\n",
    "df_w_topics_random"
   ]
  },
  {
   "cell_type": "code",
   "execution_count": 78,
   "id": "afa8bbc9",
   "metadata": {},
   "outputs": [
    {
     "name": "stdout",
     "output_type": "stream",
     "text": [
      "                                                 title           author  year  \\\n",
      "19                                      M., Pedagogics    Crider, Henry  1866   \n",
      "327  Jay. [from old catalog] The veteran's qualific...    Stone, Jasper  1890   \n",
      "119                            The hermit of Moss Pond  Pitcher, James,  1896   \n",
      "142                   Edward, Poems of school and life   White, Charles  1916   \n",
      "26                             D. England's last queen      Wallace, E.  1871   \n",
      "\n",
      "            0  \n",
      "19   0.999456  \n",
      "327  0.058048  \n",
      "119  0.033253  \n",
      "142  0.009287  \n",
      "26   0.001262  \n"
     ]
    }
   ],
   "source": [
    "print(df_w_topics_random[['title', 'author','year', 0]].sort_values(by=[0], ascending=False).head(5))"
   ]
  },
  {
   "cell_type": "code",
   "execution_count": 79,
   "id": "8a18d43f",
   "metadata": {},
   "outputs": [
    {
     "name": "stdout",
     "output_type": "stream",
     "text": [
      "                                   title           author  year         1\n",
      "316          E. Songs for the new life ;    Jones, Darius  1869  0.999965\n",
      "101                        Under a cloud   Sawers, Eliza.  1867  0.999929\n",
      "59                     Lyra eucharistica   Shipley, Orby,  1863  0.999885\n",
      "313                     The morning star   Seibert, John.  1882  0.999560\n",
      "257  [from old catalog] Leisure moments;  Elder, William.  1862  0.999060\n"
     ]
    }
   ],
   "source": [
    "print(df_w_topics_random[['title', 'author','year', 1]].sort_values(by=[1], ascending=False).head(5))"
   ]
  },
  {
   "cell_type": "code",
   "execution_count": 80,
   "id": "a4189bde",
   "metadata": {},
   "outputs": [
    {
     "name": "stdout",
     "output_type": "stream",
     "text": [
      "                                    title               author  year         2\n",
      "304  The collected poems of Rupert Brooke      Brooke, Rupert,  1915  0.999800\n",
      "281                    Songs of Cy Warman          Warman, Cy,  1911  0.999800\n",
      "60                           Summer songs   Collins, Mortimer,  1860  0.999795\n",
      "44                The flower of old Japan       Noyes, Alfred,  1903  0.999787\n",
      "350            The bard of the Dimbovitza  Văcărescu, Elena,  1891  0.999750\n"
     ]
    }
   ],
   "source": [
    "print(df_w_topics_random[['title', 'author','year', 2]].sort_values(by=[2], ascending=False).head(5))"
   ]
  },
  {
   "cell_type": "code",
   "execution_count": 81,
   "id": "c62ca7d1",
   "metadata": {},
   "outputs": [
    {
     "name": "stdout",
     "output_type": "stream",
     "text": [
      "                                                 title            author  \\\n",
      "85                                         King Alfred   Fitchett, John,   \n",
      "124  Sylvius. The wrongs of Ireland historically re...        Law, James   \n",
      "95                                            Slavery;  Woodward, David.   \n",
      "336                                           Cornubia  Woodley, George,   \n",
      "314                                     Gay. Lynmouth;   Copleston, John   \n",
      "\n",
      "     year         3  \n",
      "85   1841  0.999981  \n",
      "124  1831  0.999941  \n",
      "95   1856  0.999878  \n",
      "336  1819  0.999869  \n",
      "314  1835  0.999191  \n"
     ]
    }
   ],
   "source": [
    "print(df_w_topics_random[['title', 'author','year', 3]].sort_values(by=[3], ascending=False).head(5))"
   ]
  },
  {
   "cell_type": "markdown",
   "id": "89c7b950",
   "metadata": {},
   "source": [
    "### 4. Words Aligned with each Topic"
   ]
  },
  {
   "cell_type": "markdown",
   "id": "afc72f32",
   "metadata": {},
   "source": [
    "### reviewed text"
   ]
  },
  {
   "cell_type": "code",
   "execution_count": 85,
   "id": "c5c872b0",
   "metadata": {},
   "outputs": [],
   "source": [
    "#first create word count column\n",
    "\n",
    "df_w_topics_review['word_count'] = df_w_topics_review['text'].apply(lambda x: len(str(x).split()))\n",
    "\n",
    "#multiple topic weight by word count\n",
    "\n",
    "df_w_topics_review['0_wc'] = df_w_topics_review[0] * df_w_topics_review['word_count']"
   ]
  },
  {
   "cell_type": "code",
   "execution_count": 84,
   "id": "6a9a8aa5",
   "metadata": {},
   "outputs": [
    {
     "data": {
      "text/html": [
       "<div>\n",
       "<style scoped>\n",
       "    .dataframe tbody tr th:only-of-type {\n",
       "        vertical-align: middle;\n",
       "    }\n",
       "\n",
       "    .dataframe tbody tr th {\n",
       "        vertical-align: top;\n",
       "    }\n",
       "\n",
       "    .dataframe thead th {\n",
       "        text-align: right;\n",
       "    }\n",
       "</style>\n",
       "<table border=\"1\" class=\"dataframe\">\n",
       "  <thead>\n",
       "    <tr style=\"text-align: right;\">\n",
       "      <th></th>\n",
       "      <th>0</th>\n",
       "      <th>1</th>\n",
       "      <th>2</th>\n",
       "      <th>3</th>\n",
       "      <th>filename</th>\n",
       "      <th>text</th>\n",
       "      <th>author</th>\n",
       "      <th>title</th>\n",
       "      <th>year</th>\n",
       "      <th>word_count</th>\n",
       "      <th>0_wc</th>\n",
       "      <th>1_wc</th>\n",
       "      <th>2_wc</th>\n",
       "      <th>3_wc</th>\n",
       "    </tr>\n",
       "  </thead>\n",
       "  <tbody>\n",
       "    <tr>\n",
       "      <th>0</th>\n",
       "      <td>0.349682</td>\n",
       "      <td>0.006837</td>\n",
       "      <td>0.165233</td>\n",
       "      <td>0.478248</td>\n",
       "      <td>../data/poems/reviewed/689 Hood, Thomas, The p...</td>\n",
       "      <td>the the the the the the the the the the the th...</td>\n",
       "      <td>Hood, Thomas,</td>\n",
       "      <td>The plea of the midsummer fairies</td>\n",
       "      <td>1827</td>\n",
       "      <td>28193</td>\n",
       "      <td>9858.587672</td>\n",
       "      <td>192.756129</td>\n",
       "      <td>4658.421421</td>\n",
       "      <td>13483.234778</td>\n",
       "    </tr>\n",
       "    <tr>\n",
       "      <th>1</th>\n",
       "      <td>0.438634</td>\n",
       "      <td>0.103655</td>\n",
       "      <td>0.316487</td>\n",
       "      <td>0.141224</td>\n",
       "      <td>../data/poems/reviewed/524 Mackay, Charles, A ...</td>\n",
       "      <td>the the the the the the the the the the the th...</td>\n",
       "      <td>Mackay, Charles,</td>\n",
       "      <td>A man's heart</td>\n",
       "      <td>1860</td>\n",
       "      <td>18356</td>\n",
       "      <td>8051.559710</td>\n",
       "      <td>1902.686320</td>\n",
       "      <td>5809.437505</td>\n",
       "      <td>2592.316466</td>\n",
       "    </tr>\n",
       "    <tr>\n",
       "      <th>2</th>\n",
       "      <td>0.637705</td>\n",
       "      <td>0.000371</td>\n",
       "      <td>0.032971</td>\n",
       "      <td>0.328953</td>\n",
       "      <td>../data/poems/reviewed/383 Colman, James F. Th...</td>\n",
       "      <td>the the the the the the the the the the the th...</td>\n",
       "      <td>Colman, James</td>\n",
       "      <td>F. The knightly heart, and other poems</td>\n",
       "      <td>1873</td>\n",
       "      <td>35631</td>\n",
       "      <td>22722.076574</td>\n",
       "      <td>13.216836</td>\n",
       "      <td>1174.778549</td>\n",
       "      <td>11720.928041</td>\n",
       "    </tr>\n",
       "    <tr>\n",
       "      <th>3</th>\n",
       "      <td>0.006718</td>\n",
       "      <td>0.276516</td>\n",
       "      <td>0.232636</td>\n",
       "      <td>0.484130</td>\n",
       "      <td>../data/poems/reviewed/580 Browning, Elizabeth...</td>\n",
       "      <td>the the the the the the the the the the the th...</td>\n",
       "      <td>Browning, Elizabeth</td>\n",
       "      <td>Barrett, Poems</td>\n",
       "      <td>1853</td>\n",
       "      <td>62551</td>\n",
       "      <td>420.248604</td>\n",
       "      <td>17296.349042</td>\n",
       "      <td>14551.586093</td>\n",
       "      <td>30282.816261</td>\n",
       "    </tr>\n",
       "    <tr>\n",
       "      <th>4</th>\n",
       "      <td>0.000109</td>\n",
       "      <td>0.423846</td>\n",
       "      <td>0.041953</td>\n",
       "      <td>0.534092</td>\n",
       "      <td>../data/poems/reviewed/431 Myers, F. W. H. Poe...</td>\n",
       "      <td>the the the the the the the the the the the th...</td>\n",
       "      <td>Myers, F.</td>\n",
       "      <td>W. H. Poems</td>\n",
       "      <td>1870</td>\n",
       "      <td>13866</td>\n",
       "      <td>1.509465</td>\n",
       "      <td>5877.048104</td>\n",
       "      <td>581.725116</td>\n",
       "      <td>7405.717316</td>\n",
       "    </tr>\n",
       "  </tbody>\n",
       "</table>\n",
       "</div>"
      ],
      "text/plain": [
       "          0         1         2         3  \\\n",
       "0  0.349682  0.006837  0.165233  0.478248   \n",
       "1  0.438634  0.103655  0.316487  0.141224   \n",
       "2  0.637705  0.000371  0.032971  0.328953   \n",
       "3  0.006718  0.276516  0.232636  0.484130   \n",
       "4  0.000109  0.423846  0.041953  0.534092   \n",
       "\n",
       "                                            filename  \\\n",
       "0  ../data/poems/reviewed/689 Hood, Thomas, The p...   \n",
       "1  ../data/poems/reviewed/524 Mackay, Charles, A ...   \n",
       "2  ../data/poems/reviewed/383 Colman, James F. Th...   \n",
       "3  ../data/poems/reviewed/580 Browning, Elizabeth...   \n",
       "4  ../data/poems/reviewed/431 Myers, F. W. H. Poe...   \n",
       "\n",
       "                                                text               author  \\\n",
       "0  the the the the the the the the the the the th...        Hood, Thomas,   \n",
       "1  the the the the the the the the the the the th...     Mackay, Charles,   \n",
       "2  the the the the the the the the the the the th...        Colman, James   \n",
       "3  the the the the the the the the the the the th...  Browning, Elizabeth   \n",
       "4  the the the the the the the the the the the th...            Myers, F.   \n",
       "\n",
       "                                    title  year  word_count          0_wc  \\\n",
       "0       The plea of the midsummer fairies  1827       28193   9858.587672   \n",
       "1                           A man's heart  1860       18356   8051.559710   \n",
       "2  F. The knightly heart, and other poems  1873       35631  22722.076574   \n",
       "3                          Barrett, Poems  1853       62551    420.248604   \n",
       "4                             W. H. Poems  1870       13866      1.509465   \n",
       "\n",
       "           1_wc          2_wc          3_wc  \n",
       "0    192.756129   4658.421421  13483.234778  \n",
       "1   1902.686320   5809.437505   2592.316466  \n",
       "2     13.216836   1174.778549  11720.928041  \n",
       "3  17296.349042  14551.586093  30282.816261  \n",
       "4   5877.048104    581.725116   7405.717316  "
      ]
     },
     "execution_count": 84,
     "metadata": {},
     "output_type": "execute_result"
    }
   ],
   "source": [
    "#create a for loop to do this for every topic\n",
    "topic_columns = range(0, n_topics)\n",
    "col_list = []\n",
    "for num in topic_columns:\n",
    "    col = \"%d_wc\" % num\n",
    "    col_list.append(col)\n",
    "    #Solution\n",
    "    df_w_topics_review[col] = df_w_topics_review[num] * df_w_topics_review['word_count']\n",
    "    \n",
    "df_w_topics_review.head()"
   ]
  },
  {
   "cell_type": "markdown",
   "id": "d10471ae",
   "metadata": {},
   "source": [
    "### random text"
   ]
  },
  {
   "cell_type": "code",
   "execution_count": 87,
   "id": "c3592596",
   "metadata": {},
   "outputs": [
    {
     "data": {
      "text/html": [
       "<div>\n",
       "<style scoped>\n",
       "    .dataframe tbody tr th:only-of-type {\n",
       "        vertical-align: middle;\n",
       "    }\n",
       "\n",
       "    .dataframe tbody tr th {\n",
       "        vertical-align: top;\n",
       "    }\n",
       "\n",
       "    .dataframe thead th {\n",
       "        text-align: right;\n",
       "    }\n",
       "</style>\n",
       "<table border=\"1\" class=\"dataframe\">\n",
       "  <thead>\n",
       "    <tr style=\"text-align: right;\">\n",
       "      <th></th>\n",
       "      <th>0</th>\n",
       "      <th>1</th>\n",
       "      <th>2</th>\n",
       "      <th>3</th>\n",
       "      <th>filename</th>\n",
       "      <th>text</th>\n",
       "      <th>author</th>\n",
       "      <th>title</th>\n",
       "      <th>year</th>\n",
       "      <th>word_count</th>\n",
       "      <th>0_wc</th>\n",
       "      <th>1_wc</th>\n",
       "      <th>2_wc</th>\n",
       "      <th>3_wc</th>\n",
       "    </tr>\n",
       "  </thead>\n",
       "  <tbody>\n",
       "    <tr>\n",
       "      <th>0</th>\n",
       "      <td>0.000047</td>\n",
       "      <td>0.107716</td>\n",
       "      <td>0.870881</td>\n",
       "      <td>0.021356</td>\n",
       "      <td>../data/poems/random/113 Eilshemius, Louis M. ...</td>\n",
       "      <td>the the the the the the the the the the the th...</td>\n",
       "      <td>Eilshemius, Louis</td>\n",
       "      <td>M. All about girls</td>\n",
       "      <td>1907</td>\n",
       "      <td>25708</td>\n",
       "      <td>1.204825</td>\n",
       "      <td>2769.157249</td>\n",
       "      <td>22388.606324</td>\n",
       "      <td>549.031602</td>\n",
       "    </tr>\n",
       "    <tr>\n",
       "      <th>1</th>\n",
       "      <td>0.000058</td>\n",
       "      <td>0.111478</td>\n",
       "      <td>0.353293</td>\n",
       "      <td>0.535171</td>\n",
       "      <td>../data/poems/random/688 Kennedy, William, Fit...</td>\n",
       "      <td>the the the the the the the the the the the th...</td>\n",
       "      <td>Kennedy, William,</td>\n",
       "      <td>Fitful fancies</td>\n",
       "      <td>1827</td>\n",
       "      <td>19129</td>\n",
       "      <td>1.114229</td>\n",
       "      <td>2132.465825</td>\n",
       "      <td>6758.136855</td>\n",
       "      <td>10237.283091</td>\n",
       "    </tr>\n",
       "    <tr>\n",
       "      <th>2</th>\n",
       "      <td>0.000015</td>\n",
       "      <td>0.229360</td>\n",
       "      <td>0.013657</td>\n",
       "      <td>0.756968</td>\n",
       "      <td>../data/poems/random/606 Cooper, Thomas, The p...</td>\n",
       "      <td>the the the the the the the the the the the th...</td>\n",
       "      <td>Cooper, Thomas,</td>\n",
       "      <td>The purgatory of suicides</td>\n",
       "      <td>1845</td>\n",
       "      <td>65812</td>\n",
       "      <td>0.998033</td>\n",
       "      <td>15094.614914</td>\n",
       "      <td>898.776528</td>\n",
       "      <td>49817.610525</td>\n",
       "    </tr>\n",
       "    <tr>\n",
       "      <th>3</th>\n",
       "      <td>0.000083</td>\n",
       "      <td>0.729054</td>\n",
       "      <td>0.145397</td>\n",
       "      <td>0.125465</td>\n",
       "      <td>../data/poems/random/161 Pickett, Anita Truema...</td>\n",
       "      <td>the the the the the the the the the the the th...</td>\n",
       "      <td>Pickett, Anita</td>\n",
       "      <td>Trueman, Philo-sophia;</td>\n",
       "      <td>1901</td>\n",
       "      <td>14873</td>\n",
       "      <td>1.237257</td>\n",
       "      <td>10843.227234</td>\n",
       "      <td>2162.491883</td>\n",
       "      <td>1866.043626</td>\n",
       "    </tr>\n",
       "    <tr>\n",
       "      <th>4</th>\n",
       "      <td>0.000067</td>\n",
       "      <td>0.280134</td>\n",
       "      <td>0.713144</td>\n",
       "      <td>0.006656</td>\n",
       "      <td>../data/poems/random/105 Hough, Alfred J. Egyp...</td>\n",
       "      <td>the the the the the the the the the the the th...</td>\n",
       "      <td>Hough, Alfred</td>\n",
       "      <td>J. Egyptian melodies</td>\n",
       "      <td>1911</td>\n",
       "      <td>17838</td>\n",
       "      <td>1.186694</td>\n",
       "      <td>4997.022003</td>\n",
       "      <td>12721.067460</td>\n",
       "      <td>118.723843</td>\n",
       "    </tr>\n",
       "  </tbody>\n",
       "</table>\n",
       "</div>"
      ],
      "text/plain": [
       "          0         1         2         3  \\\n",
       "0  0.000047  0.107716  0.870881  0.021356   \n",
       "1  0.000058  0.111478  0.353293  0.535171   \n",
       "2  0.000015  0.229360  0.013657  0.756968   \n",
       "3  0.000083  0.729054  0.145397  0.125465   \n",
       "4  0.000067  0.280134  0.713144  0.006656   \n",
       "\n",
       "                                            filename  \\\n",
       "0  ../data/poems/random/113 Eilshemius, Louis M. ...   \n",
       "1  ../data/poems/random/688 Kennedy, William, Fit...   \n",
       "2  ../data/poems/random/606 Cooper, Thomas, The p...   \n",
       "3  ../data/poems/random/161 Pickett, Anita Truema...   \n",
       "4  ../data/poems/random/105 Hough, Alfred J. Egyp...   \n",
       "\n",
       "                                                text             author  \\\n",
       "0  the the the the the the the the the the the th...  Eilshemius, Louis   \n",
       "1  the the the the the the the the the the the th...  Kennedy, William,   \n",
       "2  the the the the the the the the the the the th...    Cooper, Thomas,   \n",
       "3  the the the the the the the the the the the th...     Pickett, Anita   \n",
       "4  the the the the the the the the the the the th...      Hough, Alfred   \n",
       "\n",
       "                       title  year  word_count      0_wc          1_wc  \\\n",
       "0         M. All about girls  1907       25708  1.204825   2769.157249   \n",
       "1             Fitful fancies  1827       19129  1.114229   2132.465825   \n",
       "2  The purgatory of suicides  1845       65812  0.998033  15094.614914   \n",
       "3     Trueman, Philo-sophia;  1901       14873  1.237257  10843.227234   \n",
       "4       J. Egyptian melodies  1911       17838  1.186694   4997.022003   \n",
       "\n",
       "           2_wc          3_wc  \n",
       "0  22388.606324    549.031602  \n",
       "1   6758.136855  10237.283091  \n",
       "2    898.776528  49817.610525  \n",
       "3   2162.491883   1866.043626  \n",
       "4  12721.067460    118.723843  "
      ]
     },
     "execution_count": 87,
     "metadata": {},
     "output_type": "execute_result"
    }
   ],
   "source": [
    "df_w_topics_random['word_count'] = df_w_topics_random['text'].apply(lambda x: len(str(x).split()))\n",
    "\n",
    "topic_columns = range(0, n_topics)\n",
    "col_list = []\n",
    "for num in topic_columns:\n",
    "    col = \"%d_wc\" % num\n",
    "    col_list.append(col)\n",
    "    #Solution\n",
    "    df_w_topics_random[col] = df_w_topics_random[num] * df_w_topics_random['word_count']\n",
    "    \n",
    "df_w_topics_random.head()"
   ]
  },
  {
   "cell_type": "markdown",
   "id": "26189a24",
   "metadata": {},
   "source": [
    "## 5. Topic Prevalence over time"
   ]
  },
  {
   "cell_type": "markdown",
   "id": "41a29940",
   "metadata": {},
   "source": [
    "### reviewed text"
   ]
  },
  {
   "cell_type": "code",
   "execution_count": 88,
   "id": "64a62bfc",
   "metadata": {},
   "outputs": [
    {
     "data": {
      "text/html": [
       "<div>\n",
       "<style scoped>\n",
       "    .dataframe tbody tr th:only-of-type {\n",
       "        vertical-align: middle;\n",
       "    }\n",
       "\n",
       "    .dataframe tbody tr th {\n",
       "        vertical-align: top;\n",
       "    }\n",
       "\n",
       "    .dataframe thead th {\n",
       "        text-align: right;\n",
       "    }\n",
       "</style>\n",
       "<table border=\"1\" class=\"dataframe\">\n",
       "  <thead>\n",
       "    <tr style=\"text-align: right;\">\n",
       "      <th></th>\n",
       "      <th>0_wc</th>\n",
       "      <th>1_wc</th>\n",
       "      <th>2_wc</th>\n",
       "      <th>3_wc</th>\n",
       "    </tr>\n",
       "    <tr>\n",
       "      <th>year</th>\n",
       "      <th></th>\n",
       "      <th></th>\n",
       "      <th></th>\n",
       "      <th></th>\n",
       "    </tr>\n",
       "  </thead>\n",
       "  <tbody>\n",
       "    <tr>\n",
       "      <th>1816</th>\n",
       "      <td>2025.398932</td>\n",
       "      <td>0.870167</td>\n",
       "      <td>0.857129</td>\n",
       "      <td>0.873772</td>\n",
       "    </tr>\n",
       "    <tr>\n",
       "      <th>1819</th>\n",
       "      <td>11032.186696</td>\n",
       "      <td>394.068502</td>\n",
       "      <td>459.238031</td>\n",
       "      <td>1.173437</td>\n",
       "    </tr>\n",
       "    <tr>\n",
       "      <th>1820</th>\n",
       "      <td>26491.489349</td>\n",
       "      <td>1245.122402</td>\n",
       "      <td>3624.357635</td>\n",
       "      <td>2414.030614</td>\n",
       "    </tr>\n",
       "    <tr>\n",
       "      <th>1823</th>\n",
       "      <td>15602.271157</td>\n",
       "      <td>5560.286387</td>\n",
       "      <td>2972.747382</td>\n",
       "      <td>759.195075</td>\n",
       "    </tr>\n",
       "    <tr>\n",
       "      <th>1824</th>\n",
       "      <td>13598.867275</td>\n",
       "      <td>671.592965</td>\n",
       "      <td>716.914766</td>\n",
       "      <td>479.624994</td>\n",
       "    </tr>\n",
       "    <tr>\n",
       "      <th>...</th>\n",
       "      <td>...</td>\n",
       "      <td>...</td>\n",
       "      <td>...</td>\n",
       "      <td>...</td>\n",
       "    </tr>\n",
       "    <tr>\n",
       "      <th>1914</th>\n",
       "      <td>536.688649</td>\n",
       "      <td>576.990589</td>\n",
       "      <td>5822.771291</td>\n",
       "      <td>6234.318701</td>\n",
       "    </tr>\n",
       "    <tr>\n",
       "      <th>1915</th>\n",
       "      <td>1.514467</td>\n",
       "      <td>390.382032</td>\n",
       "      <td>2057.741788</td>\n",
       "      <td>3387.561713</td>\n",
       "    </tr>\n",
       "    <tr>\n",
       "      <th>1916</th>\n",
       "      <td>1010.079009</td>\n",
       "      <td>591.614647</td>\n",
       "      <td>7617.920940</td>\n",
       "      <td>6219.185404</td>\n",
       "    </tr>\n",
       "    <tr>\n",
       "      <th>1917</th>\n",
       "      <td>1.492042</td>\n",
       "      <td>186.320099</td>\n",
       "      <td>3137.924506</td>\n",
       "      <td>4818.930020</td>\n",
       "    </tr>\n",
       "    <tr>\n",
       "      <th>1918</th>\n",
       "      <td>20.952335</td>\n",
       "      <td>1106.792764</td>\n",
       "      <td>3244.532683</td>\n",
       "      <td>3659.522219</td>\n",
       "    </tr>\n",
       "  </tbody>\n",
       "</table>\n",
       "<p>94 rows × 4 columns</p>\n",
       "</div>"
      ],
      "text/plain": [
       "              0_wc         1_wc         2_wc         3_wc\n",
       "year                                                     \n",
       "1816   2025.398932     0.870167     0.857129     0.873772\n",
       "1819  11032.186696   394.068502   459.238031     1.173437\n",
       "1820  26491.489349  1245.122402  3624.357635  2414.030614\n",
       "1823  15602.271157  5560.286387  2972.747382   759.195075\n",
       "1824  13598.867275   671.592965   716.914766   479.624994\n",
       "...            ...          ...          ...          ...\n",
       "1914    536.688649   576.990589  5822.771291  6234.318701\n",
       "1915      1.514467   390.382032  2057.741788  3387.561713\n",
       "1916   1010.079009   591.614647  7617.920940  6219.185404\n",
       "1917      1.492042   186.320099  3137.924506  4818.930020\n",
       "1918     20.952335  1106.792764  3244.532683  3659.522219\n",
       "\n",
       "[94 rows x 4 columns]"
      ]
     },
     "execution_count": 88,
     "metadata": {},
     "output_type": "execute_result"
    }
   ],
   "source": [
    "grouped_year_review = df_w_topics_review[['0_wc', '1_wc', '2_wc', '3_wc', 'year']].groupby('year').mean()\n",
    "grouped_year_review"
   ]
  },
  {
   "cell_type": "code",
   "execution_count": 98,
   "id": "f6f96a1a",
   "metadata": {},
   "outputs": [
    {
     "data": {
      "image/png": "[encoded data removed]",
      "text/plain": [
       "<Figure size 1200x800 with 4 Axes>"
      ]
     },
     "metadata": {},
     "output_type": "display_data"
    }
   ],
   "source": [
    "grouped_year_review.index = grouped_year_review.index.astype(int) \n",
    "\n",
    "import seaborn as sns\n",
    "import matplotlib.pyplot as plt\n",
    "\n",
    "# Create the 2x2 grid of subplots\n",
    "fig, axs = plt.subplots(nrows=2, ncols=2, figsize=(12, 8))\n",
    "\n",
    "sns.regplot(x=grouped_year_review.index, y = '0_wc', data = grouped_year_review, ax=axs[0, 0])\n",
    "sns.regplot(x=grouped_year_review.index, y = '1_wc', data = grouped_year_review,ax=axs[0, 1])\n",
    "sns.regplot(x=grouped_year_review.index, y = '2_wc', data = grouped_year_review,ax=axs[1, 0])\n",
    "sns.regplot(x=grouped_year_review.index, y = '3_wc', data = grouped_year_review,ax=axs[1, 1])\n",
    "plt.show()"
   ]
  },
  {
   "cell_type": "markdown",
   "id": "eba90f19",
   "metadata": {},
   "source": [
    "From the plots we can see that poems that were related to the first topic(happiness and death) and the second topic(kingdom and war) reduced over year, poems that were related to the third topic(women) kept consistent, while poems that were related to the fourth topic(nature) increased over year."
   ]
  },
  {
   "cell_type": "markdown",
   "id": "c2ce36cc",
   "metadata": {},
   "source": [
    "### random text"
   ]
  },
  {
   "cell_type": "code",
   "execution_count": 102,
   "id": "d5af0b60",
   "metadata": {},
   "outputs": [
    {
     "data": {
      "image/png": "[encoded data removed]",
      "text/plain": [
       "<Figure size 1200x800 with 4 Axes>"
      ]
     },
     "metadata": {},
     "output_type": "display_data"
    }
   ],
   "source": [
    "grouped_year_random = df_w_topics_random[['0_wc', '1_wc', '2_wc', '3_wc', 'year']].groupby('year').mean()\n",
    "grouped_year_random.index = grouped_year_random.index.astype(int) \n",
    "\n",
    "# Create the 2x2 grid of subplots\n",
    "fig, axs = plt.subplots(nrows=2, ncols=2, figsize=(12, 8))\n",
    "\n",
    "sns.regplot(x=grouped_year_random.index, y = '0_wc', data = grouped_year_random,ax=axs[0, 0])\n",
    "sns.regplot(x=grouped_year_random.index, y = '1_wc', data = grouped_year_random,ax=axs[0, 1])\n",
    "sns.regplot(x=grouped_year_random.index, y = '2_wc', data = grouped_year_random,ax=axs[1, 0])\n",
    "sns.regplot(x=grouped_year_random.index, y = '3_wc', data = grouped_year_random,ax=axs[1, 1])\n",
    "plt.show()"
   ]
  },
  {
   "cell_type": "markdown",
   "id": "3e1b916e",
   "metadata": {},
   "source": [
    "From the plots we can see that there were only four poems that were related to the first topic (study), which indeed is a weird topic to be put into poems. Poems that were related to the second topic(Christanity) and the fourth topic(country, war and proud) reduced over year, while poems that were mostly related to the third topic(women and nature) increased over year. The result is consistent with the changing trend of topics in reviewed text, where the word counts of poems with topics for women and nature increased and the word counts of poems with the topic for kingdom and war decreased."
   ]
  }
 ],
 "metadata": {
  "kernelspec": {
   "display_name": "Python 3 (ipykernel)",
   "language": "python",
   "name": "python3"
  },
  "language_info": {
   "codemirror_mode": {
    "name": "ipython",
    "version": 3
   },
   "file_extension": ".py",
   "mimetype": "text/x-python",
   "name": "python",
   "nbconvert_exporter": "python",
   "pygments_lexer": "ipython3",
   "version": "3.9.13"
  }
 },
 "nbformat": 4,
 "nbformat_minor": 5
}
