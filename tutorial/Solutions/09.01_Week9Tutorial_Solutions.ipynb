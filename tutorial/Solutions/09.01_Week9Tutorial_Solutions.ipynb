{
 "cells": [
  {
   "cell_type": "markdown",
   "metadata": {},
   "source": [
    "# Introduction to Natural Language Processing using NLTK\n",
    "\n",
    "There are many features of natural languages that are remarkably difficult to get a computer to identify. Much early NLP work was around structuring text according to how it functions as a natural language, not a series of characters as computers read text. Python's NLTK (Natural Language Tool Kit) bundles a bunch of these early tools together for us on text.\n",
    "\n",
    "## Reminder of where we are\n",
    "\n",
    "* values (e.g. `1.2`, `100`, `'Hello, Boston!'`)\n",
    "* value types (e.g., `float`, `int`, `string`)\n",
    "* variables, or objects (for storing and referencing values)\n",
    "* operators (e.g., `=`, `+`, `-`)\n",
    "* logical operators (e.g., `==`, `>`, `<`, `>=`)\n",
    "* statements and expressions (e.g. `10 + 500`)\n",
    "* built-in functions (e.g. `print()`, `type()`)\n",
    "* string functions and string methods (e.g., `string.lower()`, `string.islower()`)\n",
    "* list functions and list metods (e.g., `len(mylist)`, `mylist.append()`)\n",
    "* conditionals (e.g., `if`, `else`, `elif`)\n",
    "* loops (e.g., `for` loops)\n",
    "* user-defined functions (using `def`)\n",
    "* tuples (e.g., ('education', 'high school'))\n",
    "* dictionaries, or key:value pairs\n",
    "* list comprehension - a way to filter lists (and do other things)\n",
    "* Pandas, the dataframe library\n",
    "* Matplotlib, the visualization library\n",
    "* Seaborn, another visualization library that makes everything easier\n",
    "* Today: NLTK, the natural language processing library\n",
    "\n",
    "\n",
    "\n",
    "## Natural Language Processing\n",
    "* *pre-processing*\n",
    "    * Transforming a human lanugage text into computer-manipulable format. A typical pre-processing workflow includes <i>stop-word</i> removal, setting text in lower case, and <i>term frequency</i> counting.\n",
    "* *token*\n",
    "    * An individual word unit within a sentence.\n",
    "* *stop words*\n",
    "    * The function words in a natural langauge, such as <i>the</i>, <i>of</i>, <i>it</i>, etc. These are typically the most common words.\n",
    "* *term frequency*\n",
    "    * The number of times a term appears in a given text. This is either reported as a raw tally or it is <i>normalized</i> by dividing by the total number of words in a text.    \n",
    "* *POS tagging*\n",
    "    * One common task in NLP is the determination of a word's part-of-speech (POS). The label that describes a word's POS is called its <i>tag</i>. Specialized functions that make these determinations are called <i>POS Taggers</i>.\n",
    "* *dependency parsing*\n",
    "    * THe grammatical relationships between words and the type of relationships.\n",
    "* *NLTK (Natural Language Tool Kit)*\n",
    "    * A common Python package that contains many NLP-related functions\n",
    "\n",
    "## Further Resources:\n",
    "\n",
    "Check out the full range of techniques included in Python's nltk package here: http://www.nltk.org/book/\n",
    "\n",
    "As with all of the sections this semester, we could spend an entire semester on NLP alone. This is just meant to give you a taste of what's possible, and equip you with enough knowledge to learn more on your own if you're interested!"
   ]
  },
  {
   "cell_type": "code",
   "execution_count": 15,
   "metadata": {},
   "outputs": [
    {
     "name": "stderr",
     "output_type": "stream",
     "text": [
      "[nltk_data] Downloading package punkt to /Users/jinyang/nltk_data...\n",
      "[nltk_data]   Package punkt is already up-to-date!\n",
      "[nltk_data] Downloading package words to /Users/jinyang/nltk_data...\n",
      "[nltk_data]   Package words is already up-to-date!\n",
      "[nltk_data] Downloading package stopwords to\n",
      "[nltk_data]     /Users/jinyang/nltk_data...\n",
      "[nltk_data]   Package stopwords is already up-to-date!\n",
      "[nltk_data] Downloading package averaged_perceptron_tagger to\n",
      "[nltk_data]     /Users/jinyang/nltk_data...\n",
      "[nltk_data]   Package averaged_perceptron_tagger is already up-to-\n",
      "[nltk_data]       date!\n",
      "[nltk_data] Downloading package maxent_ne_chunker to\n",
      "[nltk_data]     /Users/jinyang/nltk_data...\n",
      "[nltk_data]   Package maxent_ne_chunker is already up-to-date!\n",
      "[nltk_data] Downloading package wordnet to /Users/jinyang/nltk_data...\n",
      "[nltk_data]   Package wordnet is already up-to-date!\n",
      "[nltk_data] Downloading package vader_lexicon to\n",
      "[nltk_data]     /Users/jinyang/nltk_data...\n",
      "[nltk_data]   Package vader_lexicon is already up-to-date!\n"
     ]
    }
   ],
   "source": [
    "#import string, which is where we get a list of punctuation\n",
    "import string\n",
    "#First import the Python package nltk (Natural Language Tool Kit)\n",
    "import nltk\n",
    "\n",
    "#NLTK is huge and relies on a bunch of data. These data need to be downloaded. \n",
    "# The two lines download the needed NLTK data to your computer\n",
    "\n",
    "nltk_data = [\"punkt\", \"words\", \"stopwords\", \"averaged_perceptron_tagger\", \n",
    "             \"maxent_ne_chunker\", 'wordnet', 'vader_lexicon']\n",
    "nltk.download(nltk_data)\n",
    "\n",
    "#import the function to split the text into separate words from the NLTK package\n",
    "from nltk import word_tokenize\n",
    "#import the stopwords list\n",
    "from nltk.corpus import stopwords\n",
    "#dependency parser\n",
    "from nltk.parse.stanford import StanfordDependencyParser\n"
   ]
  },
  {
   "cell_type": "code",
   "execution_count": null,
   "metadata": {},
   "outputs": [],
   "source": [
    "#Let's go back to our sentence from last week\n",
    "\n",
    "sentence = \"For me it has to do with the work that gets done at the crossroads of \\\n",
    "digital media and traditional humanistic study. And that happens in two different ways. \\\n",
    "On the one hand, it's bringing the tools and techniques of digital media to bear \\\n",
    "on traditional humanistic questions; on the other, it's also bringing humanistic modes \\\n",
    "of inquiry to bear on digital media.\"\n",
    "\n",
    "#print the content\n",
    "print(sentence)"
   ]
  },
  {
   "cell_type": "code",
   "execution_count": null,
   "metadata": {},
   "outputs": [],
   "source": [
    "#We tokenized the sentence last week by splitting on the white space.\n",
    "#NLTK has a much more sophisticated approach to tokenizing text\n",
    "#note the difference\n",
    "\n",
    "#create new variable that applies the word_tokenize function to our sentence.\n",
    "sentence_tokens = word_tokenize(sentence)\n",
    "\n",
    "#This new variable contains the tokenized text, and is now a list\n",
    "print(type(sentence_tokens))\n",
    "print(sentence_tokens)"
   ]
  },
  {
   "cell_type": "markdown",
   "metadata": {},
   "source": [
    "Notice each token is either a word *or* punctuation - different than splitting on the white space. Careful, does the length indicate word count anymore?"
   ]
  },
  {
   "cell_type": "code",
   "execution_count": null,
   "metadata": {},
   "outputs": [],
   "source": [
    "#The number of tokens is the length of the list, or the number of elements in the list\n",
    "print(len(sentence_tokens))"
   ]
  },
  {
   "cell_type": "markdown",
   "metadata": {},
   "source": [
    "Last week we used dictionaries and tuples to produce word counts. NLTK has its own function to do the same."
   ]
  },
  {
   "cell_type": "code",
   "execution_count": null,
   "metadata": {},
   "outputs": [],
   "source": [
    "#apply the nltk function FreqDist to count the number of times each token occurs.\n",
    "word_frequency = nltk.FreqDist(sentence_tokens)\n",
    "\n",
    "print(word_frequency)\n",
    "\n",
    "#print out the 10 most frequent words using the function most_common\n",
    "print(word_frequency.most_common(10))"
   ]
  },
  {
   "cell_type": "markdown",
   "metadata": {},
   "source": [
    "Of course, we still need to do pre-processing.\n",
    "\n",
    "## Pre-Processing: Lower Case, Removing Stop Words and Punctuation\n",
    "\n",
    "\n",
    "To convert to lower case we use the function lower() and list comprehension. \n",
    "\n"
   ]
  },
  {
   "cell_type": "code",
   "execution_count": null,
   "metadata": {},
   "outputs": [],
   "source": [
    "sentence_tokens_lc = [word.lower() for word in sentence_tokens]\n",
    "\n",
    "#see the result\n",
    "print(sentence_tokens_lc)"
   ]
  },
  {
   "cell_type": "markdown",
   "metadata": {},
   "source": [
    "Words like \"the\", \"to\", and \"and\" are what text analysis call \"stop words.\" Stop words are the most common words in a language, and while necessary and useful for some analysis purposes, do not tell us much about the *substance* of a text. Another common pre-processing steps is to simply remove punctuation and stop words. NLTK contains a built-in stop words list, which we use to remove stop words from our list of tokens."
   ]
  },
  {
   "cell_type": "code",
   "execution_count": null,
   "metadata": {},
   "outputs": [],
   "source": [
    "#take a look at what stop words are included:\n",
    "print(stopwords.words('english'))"
   ]
  },
  {
   "cell_type": "code",
   "execution_count": null,
   "metadata": {},
   "outputs": [],
   "source": [
    "#create a new variable that contains the sentence tokens without the stopwords\n",
    "sentence_tokens_clean = [word for word in sentence_tokens_lc if word not in stopwords.words('english')]\n",
    "\n",
    "#see what words we're left with\n",
    "print(sentence_tokens_clean)"
   ]
  },
  {
   "cell_type": "markdown",
   "metadata": {},
   "source": [
    "Punctuation also does not help us understand the substance of a text, so we'll remove punctuation in a similar fashion. [Again, think about tasks where me may not want to remove punctuation.] There are many many ways to do this. For now, we'll create a list of punctuation tokens, similar to the list of stop words, and remove them from our list of tokens."
   ]
  },
  {
   "cell_type": "code",
   "execution_count": null,
   "metadata": {},
   "outputs": [],
   "source": [
    "#creat list of punctuation symbols\n",
    "punctuation = list(string.punctuation)\n",
    "\n",
    "#see what punctuation is included\n",
    "print(punctuation)"
   ]
  },
  {
   "cell_type": "code",
   "execution_count": null,
   "metadata": {},
   "outputs": [],
   "source": [
    "#remove punctuation from our tokens\n",
    "sentence_tokens_clean = [w for w in sentence_tokens_clean if w not in punctuation]\n",
    "\n",
    "#see what's left\n",
    "print(sentence_tokens_clean)\n"
   ]
  },
  {
   "cell_type": "markdown",
   "metadata": {},
   "source": [
    "Now, after our pre-processing steps, let's re-count the most frequent words in the sentence."
   ]
  },
  {
   "cell_type": "code",
   "execution_count": null,
   "metadata": {},
   "outputs": [],
   "source": [
    "word_frequency_clean = nltk.FreqDist(sentence_tokens_clean)\n",
    "\n",
    "print(word_frequency_clean.most_common(10))"
   ]
  },
  {
   "cell_type": "markdown",
   "metadata": {},
   "source": [
    "Ok, we replicated what we did last week! In slightly fewer steps, but in a more sophisticated way.\n",
    "\n",
    "NLTK can do so much more.\n",
    "\n",
    "\n",
    "## Part-of-Speech Tagging\n",
    "\n",
    "You may have noticed that stop words are typically short function words. Intuitively, if we could identify the part of speech of a word, we would have another way of identifying words of substance. NLTK can do that too!\n",
    "\n",
    "NLTK has a function that will tag the part of speech of every token in a text. For this, we go back to our original tokenized text, with the stop words and punctuation.\n",
    "\n",
    "NLTK uses the Penn Treebank Project to tag the part-of-speech of the words. You can find a list of all the part-of-speech tags here:\n",
    "\n",
    "https://www.ling.upenn.edu/courses/Fall_2003/ling001/penn_treebank_pos.html"
   ]
  },
  {
   "cell_type": "code",
   "execution_count": null,
   "metadata": {},
   "outputs": [],
   "source": [
    "#use the nltk pos function to tag the tokens\n",
    "tagged_sentence_tokens = nltk.pos_tag(sentence_tokens)\n",
    "\n",
    "#view new variable\n",
    "print(tagged_sentence_tokens)\n",
    "\n"
   ]
  },
  {
   "cell_type": "code",
   "execution_count": null,
   "metadata": {},
   "outputs": [],
   "source": [
    "#check your variable type!\n",
    "\n",
    "type(tagged_sentence_tokens)"
   ]
  },
  {
   "cell_type": "code",
   "execution_count": null,
   "metadata": {},
   "outputs": [],
   "source": [
    "#It's, of course, a list of tuples\n",
    "\n",
    "type(tagged_sentence_tokens[0])"
   ]
  },
  {
   "cell_type": "markdown",
   "metadata": {},
   "source": [
    "We can count the part-of-speech tags in a similar way we counted words, to output the most frequent types of words in our text."
   ]
  },
  {
   "cell_type": "code",
   "execution_count": null,
   "metadata": {},
   "outputs": [],
   "source": [
    "#Check your understanding of the line below, \n",
    "# it's a form of list comprehension to translate a list of tuples into a list\n",
    "print([tag for (word, tag) in tagged_sentence_tokens])\n"
   ]
  },
  {
   "cell_type": "code",
   "execution_count": null,
   "metadata": {},
   "outputs": [],
   "source": [
    "#we can do a frequency distribution on a list of strings\n",
    "tagged_frequency = nltk.FreqDist([tag for (word, tag) in tagged_sentence_tokens])\n",
    "\n",
    "tagged_frequency.most_common(10)"
   ]
  },
  {
   "cell_type": "markdown",
   "metadata": {},
   "source": [
    "This sentence contains a lot of adjectives. So let's first look at the most frequent adjectives"
   ]
  },
  {
   "cell_type": "code",
   "execution_count": null,
   "metadata": {},
   "outputs": [],
   "source": [
    "adjectives = [word for word,pos in tagged_sentence_tokens if pos == 'JJ' or pos=='JJR' or pos=='JJS']\n",
    "\n",
    "#print all of the adjectives\n",
    "print(adjectives)"
   ]
  },
  {
   "cell_type": "code",
   "execution_count": null,
   "metadata": {},
   "outputs": [],
   "source": [
    "#calculate the frequency of the adjectives\n",
    "freq_adjectives=nltk.FreqDist(adjectives)\n",
    "\n",
    "#print the most frequent adjectives\n",
    "print(freq_adjectives.most_common(5))"
   ]
  },
  {
   "cell_type": "markdown",
   "metadata": {},
   "source": [
    "Let's do the same for nouns."
   ]
  },
  {
   "cell_type": "code",
   "execution_count": null,
   "metadata": {},
   "outputs": [],
   "source": [
    "nouns = [word for (word,pos) in tagged_sentence_tokens if pos=='NN' or pos=='NNS']\n",
    "\n",
    "#print all of the nouns\n",
    "print(nouns)"
   ]
  },
  {
   "cell_type": "code",
   "execution_count": null,
   "metadata": {},
   "outputs": [],
   "source": [
    "#calculate the frequency of the nouns\n",
    "freq_nouns=nltk.FreqDist(nouns)\n",
    "\n",
    "#print the most frequent nouns\n",
    "print(freq_nouns.most_common(10))"
   ]
  },
  {
   "cell_type": "markdown",
   "metadata": {},
   "source": [
    "And now verbs."
   ]
  },
  {
   "cell_type": "code",
   "execution_count": null,
   "metadata": {},
   "outputs": [],
   "source": [
    "verbs = [word for word,pos in tagged_sentence_tokens if pos == 'VB' or pos=='VBD' or pos=='VBG' or pos=='VBN' or pos=='VBP' or pos=='VBZ']\n",
    "\n",
    "#print all of the verbs\n",
    "print(verbs)\n",
    "\n"
   ]
  },
  {
   "cell_type": "code",
   "execution_count": null,
   "metadata": {},
   "outputs": [],
   "source": [
    "#calculate the frequency of the verbs\n",
    "freq_verbs=nltk.FreqDist(verbs)\n",
    "\n",
    "#print the most frequent verbs\n",
    "print(freq_verbs.most_common(10))"
   ]
  },
  {
   "cell_type": "markdown",
   "metadata": {},
   "source": [
    "If we bring all of this together we get a pretty good summary of the sentence:"
   ]
  },
  {
   "cell_type": "code",
   "execution_count": null,
   "metadata": {},
   "outputs": [],
   "source": [
    "print(freq_adjectives.most_common(3))\n",
    "print(freq_nouns.most_common(3))\n",
    "print(freq_verbs.most_common(3))"
   ]
  },
  {
   "cell_type": "markdown",
   "metadata": {},
   "source": [
    "## Illustration: Compare Melville to Austen\n"
   ]
  },
  {
   "cell_type": "code",
   "execution_count": 2,
   "metadata": {},
   "outputs": [],
   "source": [
    "#Define a function to output the most frequent words based on a part of speech\n",
    "import string\n",
    "\n",
    "def read_file(filename):\n",
    "        \n",
    "    with open(filename, 'r', encoding='utf-8') as myfile:\n",
    "        mytext = myfile.read()\n",
    "    return(mytext)\n",
    "\n",
    "def freq_words_pos(filename, pos_tag_list):\n",
    "    \"\"\"\n",
    "    This is called a docstring. It defines and explains what the function is doing.\n",
    "    Any function more than a few lines should include a docstring\n",
    "    \n",
    "    This function takes a filename containing text and a list of part of speeches,\n",
    "    and outputs the most frequent words for that part of speech\n",
    "    \n",
    "    Input: filename and path, list of penn treebank part of speech tags\n",
    "    Output: List of tuples words and counts for the pos, in descending order\n",
    "    \"\"\"\n",
    "    \n",
    "    mytext = read_file(filename) #calling a function inside a function!\n",
    "    \n",
    "    punctuation = list(string.punctuation)\n",
    "        \n",
    "    tokens = word_tokenize(mytext)\n",
    "    tagged = nltk.pos_tag(tokens)\n",
    "    \n",
    "    freq_words = [word for word,pos in tagged if pos in pos_tag_list]\n",
    "    \n",
    "    return(nltk.FreqDist(freq_words))"
   ]
  },
  {
   "cell_type": "code",
   "execution_count": null,
   "metadata": {},
   "outputs": [],
   "source": [
    "freq_words_pos('../data/Melville_MobyDick.txt', ['NN', 'NNS']).most_common(20)"
   ]
  },
  {
   "cell_type": "code",
   "execution_count": null,
   "metadata": {},
   "outputs": [],
   "source": [
    "freq_words_pos('../data/Austen_SenseAndSensibility.txt', ['NN', 'NNS']).most_common(20)"
   ]
  },
  {
   "cell_type": "markdown",
   "metadata": {},
   "source": [
    "## Named Entity Recognition\n",
    "\n",
    "We can also tag named entities - person, places, organizations, etc. Similar syntax, just using the `ne_chunk` function"
   ]
  },
  {
   "cell_type": "code",
   "execution_count": null,
   "metadata": {},
   "outputs": [],
   "source": [
    "#tokenize our text\n",
    "ner_tokens = word_tokenize('Google moved their headquarters from San Jose to Seattle, per spokesperson Sudhir')\n",
    "\n",
    "#tag it with part-of-speech\n",
    "ner_tokens_tagged = nltk.pos_tag(ner_tokens)\n",
    "\n",
    "#add a named entity tage\n",
    "namedEnt = nltk.ne_chunk(ner_tokens_tagged)\n",
    "print(namedEnt)"
   ]
  },
  {
   "cell_type": "markdown",
   "metadata": {},
   "source": [
    "## Dependency Parsing\n",
    "\n",
    "Dependency parsing finds grammatical relationships between words and the type of relationships. In the social sciences, this is typically focused on subject-verb-object relationships (who does what to whom).\n",
    "\n",
    "You can train your own model here, but we will be using [Stanford's CoreNLP dependency parser](https://nlp.stanford.edu/software/stanford-dependencies.html). It's fast relative to other dependency parsers, but as you might learn if you try to do this on a longer text, it's also quite slow. \n",
    "\n",
    "Because depdency parser parse relationships among words, it can produce a lot of output. We'll try it on a simple sentence.\n",
    "\n",
    "Stanford dependencies are triplets: name of the relation, governor and dependent.You can find a pdf that includes the definition of the Stanford typed relationships [here](https://downloads.cs.stanford.edu/nlp/software/dependencies_manual.pdf)."
   ]
  },
  {
   "cell_type": "code",
   "execution_count": 16,
   "metadata": {},
   "outputs": [
    {
     "name": "stderr",
     "output_type": "stream",
     "text": [
      "/var/folders/zj/0n68ddwj13s62557809lw1200000gn/T/ipykernel_43060/1929504786.py:7: DeprecationWarning: The StanfordDependencyParser will be deprecated\n",
      "Please use \u001b[91mnltk.parse.corenlp.CoreNLPDependencyParser\u001b[0m instead.\n",
      "  dependency_parser = StanfordDependencyParser(path_to_jar=path_to_jar, path_to_models_jar=path_to_models_jar)\n"
     ]
    },
    {
     "data": {
      "text/plain": [
       "[(('shot', 'VBD'), 'nsubj', ('I', 'PRP')),\n",
       " (('shot', 'VBD'), 'obj', ('elephant', 'NN')),\n",
       " (('elephant', 'NN'), 'det', ('an', 'DT')),\n",
       " (('shot', 'VBD'), 'obl', ('sleep', 'NN')),\n",
       " (('sleep', 'NN'), 'case', ('in', 'IN')),\n",
       " (('sleep', 'NN'), 'nmod:poss', ('my', 'PRP$'))]"
      ]
     },
     "execution_count": 16,
     "metadata": {},
     "output_type": "execute_result"
    }
   ],
   "source": [
    "#point to the Stanford model and software\n",
    "\n",
    "path_to_jar = '../stanford_parser/stanford-corenlp-4.2.2/stanford-corenlp-4.2.2.jar'\n",
    "path_to_models_jar = '../stanford_parser/stanford-corenlp-4.2.2-models-english.jar'\n",
    "\n",
    "#use the Python NLTK wrapper to implement it\n",
    "dependency_parser = StanfordDependencyParser(path_to_jar=path_to_jar, path_to_models_jar=path_to_models_jar)\n",
    "\n",
    "#parse a simple sentence\n",
    "result = dependency_parser.raw_parse('I shot an elephant in my sleep')\n",
    "\n",
    "#access the output\n",
    "dep = result.__next__()\n",
    "\n",
    "#print the relationships\n",
    "list(dep.triples())"
   ]
  },
  {
   "cell_type": "code",
   "execution_count": null,
   "metadata": {},
   "outputs": [],
   "source": [
    "#check your variable types!\n",
    "print(type(dep.triples()))\n",
    "type(list(dep.triples()))"
   ]
  },
  {
   "cell_type": "code",
   "execution_count": null,
   "metadata": {},
   "outputs": [],
   "source": [
    "#look at the first element\n",
    "list(dep.triples())[0]"
   ]
  },
  {
   "cell_type": "code",
   "execution_count": null,
   "metadata": {},
   "outputs": [],
   "source": [
    "#Check your variale type!\n",
    "type(list(dep.triples())[0])"
   ]
  },
  {
   "cell_type": "code",
   "execution_count": null,
   "metadata": {},
   "outputs": [],
   "source": [
    "#ah, the tuple. Let's find all the 'nsubj' dependencies (there's only one, but imagine with me)\n",
    "\n",
    "nsubj = []\n",
    "\n",
    "for gov, rel, depend in list(dep.triples()):\n",
    "    print(\"Govenor:\")\n",
    "    print(gov)\n",
    "    print(\"Relationship\")\n",
    "    print(rel)\n",
    "    print(\"Dependent\")\n",
    "    print(depend)\n",
    "    if rel == 'nsubj':\n",
    "        nsubj.append((gov, rel, depend))\n",
    "\n",
    "print()\n",
    "print(\"All nsubj relationships:\")\n",
    "nsubj"
   ]
  },
  {
   "cell_type": "markdown",
   "metadata": {},
   "source": [
    "## Sentiment Analysis!\n",
    "\n",
    "NLTK has a sentiment analyzer took called Vader. Vader is not great, no sentiment tools is, but it's OK, and works well on more contemporary text. "
   ]
  },
  {
   "cell_type": "markdown",
   "metadata": {},
   "source": [
    "## Sentiment analysis using Vader\n",
    "\n",
    "You can find more information on Vader and what it can do [here](https://towardsdatascience.com/sentimental-analysis-using-vader-a3415fef7664).\n",
    "\n",
    "VADER’s SentimentIntensityAnalyzer() takes in a string and returns a `dictionary` of scores in each of four categories:\n",
    "\n",
    "* negative\n",
    "* neutral\n",
    "* positive\n",
    "* compound (computed by normalizing the scores above)\n"
   ]
  },
  {
   "cell_type": "code",
   "execution_count": 6,
   "metadata": {},
   "outputs": [],
   "source": [
    "from nltk.sentiment.vader import SentimentIntensityAnalyzer\n",
    "\n",
    "#assign the analyzer function to its own object (yes, an object can be a function!)\n",
    "sid = SentimentIntensityAnalyzer()\n",
    "\n",
    "#Let's run it on our original sentence variable\n",
    "#sid.polarity_scores(sentence)"
   ]
  },
  {
   "cell_type": "code",
   "execution_count": null,
   "metadata": {},
   "outputs": [],
   "source": [
    "#It's a dictionary, so we can pull out the values separately\n",
    "\n",
    "sid.polarity_scores(sentence)['pos']"
   ]
  },
  {
   "cell_type": "markdown",
   "metadata": {},
   "source": [
    "# Exercises!\n",
    "\n",
    "Whew, that was a lot, but take a few moments to practice. Then practice more over the week!\n",
    "\n",
    "1. Print the most frequent adjective in Moby Dick and Sense and Sensibility. Does anything intrigue you?\n",
    "    * Hint, remind yourself of the tags [here](https://www.ling.upenn.edu/courses/Fall_2003/ling001/penn_treebank_pos.html)\n",
    "2. Print the most frequent verbs in Moby Dick and Sense and Sensibility. Does anything intrigue you?\n",
    "3. Who is more negative? Melville or Austen? Who is more positive? Before you calculate, think through a hypothesis (if you know these authors).\n",
    "    * Hint: Vader works better on short texts. You probaby want to calculate the sentiment for each sentence separately, and then take the average. NLTK has a sentence tokenizer! See if you can use the documentation to get it to work.\n",
    "4. Parse a few sentences from either Melville or Austen:\n",
    "    * Identify all nsubj or obj relationships. Anything interesting?\n",
    "    * Extract named entities. Anything interesting?\n",
    "        * Hint: don't try the full novel, it'll take too long and be far too much output."
   ]
  },
  {
   "cell_type": "code",
   "execution_count": null,
   "metadata": {},
   "outputs": [],
   "source": [
    "#1. Print the most frequent adjective in Moby Dick and Sense and Sensibility. \n",
    "#Does anything intrigue you?\n",
    "\n",
    "freq_words_pos('../data/Melville_MobyDick.txt', ['JJ', 'JJR', 'JJS'])"
   ]
  },
  {
   "cell_type": "code",
   "execution_count": null,
   "metadata": {},
   "outputs": [],
   "source": [
    "freq_words_pos('../data/Austen_SenseAndSensibility.txt', ['JJ', 'JJR', 'JJS'])"
   ]
  },
  {
   "cell_type": "code",
   "execution_count": null,
   "metadata": {},
   "outputs": [],
   "source": [
    "#2. Print the most frequent verbs in Moby Dick and Sense and Sensibility. Does anything intrigue you?\n",
    "\n",
    "freq_words_pos('../data/Austen_SenseAndSensibility.txt', ['VB'])\n"
   ]
  },
  {
   "cell_type": "code",
   "execution_count": null,
   "metadata": {},
   "outputs": [],
   "source": [
    "freq_words_pos('../data/Melville_MobyDick.txt', ['VB'])"
   ]
  },
  {
   "cell_type": "code",
   "execution_count": 3,
   "metadata": {},
   "outputs": [],
   "source": [
    "#3. Who is more negative? Melville or Austen? Who is more positive?\n",
    "\n",
    "from nltk.tokenize import sent_tokenize\n",
    "\n",
    "austen = read_file('../data/Austen_SenseAndSensibility.txt')\n",
    "melville = read_file('../data/Melville_MobyDick.txt')\n",
    "\n",
    "austen_sent = sent_tokenize(austen)\n",
    "meville_sent = sent_tokenize(melville)"
   ]
  },
  {
   "cell_type": "code",
   "execution_count": 7,
   "metadata": {},
   "outputs": [
    {
     "data": {
      "text/plain": [
       "4834"
      ]
     },
     "execution_count": 7,
     "metadata": {},
     "output_type": "execute_result"
    }
   ],
   "source": [
    "austen_pos = [sid.polarity_scores(sent)['pos'] for sent in austen_sent]\n",
    "meville_pos = [sid.polarity_scores(sent)['pos'] for sent in meville_sent]\n",
    "\n",
    "\n",
    "austen_neg = [sid.polarity_scores(sent)['neg'] for sent in austen_sent]\n",
    "meville_neg = [sid.polarity_scores(sent)['neg'] for sent in meville_sent]\n",
    "\n",
    "#How many sentences in Austen?\n",
    "len(austen_pos)"
   ]
  },
  {
   "cell_type": "code",
   "execution_count": 8,
   "metadata": {},
   "outputs": [
    {
     "data": {
      "text/plain": [
       "[0.0, 0.201, 0.071, 0.114, 0.141, 0.518, 0.259, 0.0, 0.086, 0.198]"
      ]
     },
     "execution_count": 8,
     "metadata": {},
     "output_type": "execute_result"
    }
   ],
   "source": [
    "#take a peek\n",
    "austen_pos[:10]"
   ]
  },
  {
   "cell_type": "code",
   "execution_count": 9,
   "metadata": {},
   "outputs": [
    {
     "data": {
      "text/plain": [
       "0.1225659908978071"
      ]
     },
     "execution_count": 9,
     "metadata": {},
     "output_type": "execute_result"
    }
   ],
   "source": [
    "#Average postive sentiment\n",
    "sum(austen_pos) / len(austen_pos)"
   ]
  },
  {
   "cell_type": "code",
   "execution_count": 10,
   "metadata": {},
   "outputs": [
    {
     "data": {
      "text/plain": [
       "0.06945533747246174"
      ]
     },
     "execution_count": 10,
     "metadata": {},
     "output_type": "execute_result"
    }
   ],
   "source": [
    "sum(meville_pos) / len(meville_pos)"
   ]
  },
  {
   "cell_type": "code",
   "execution_count": 11,
   "metadata": {},
   "outputs": [
    {
     "data": {
      "text/plain": [
       "0.07191042614811746"
      ]
     },
     "execution_count": 11,
     "metadata": {},
     "output_type": "execute_result"
    }
   ],
   "source": [
    "#Average negative sentiment\n",
    "sum(austen_neg) / len(austen_neg)"
   ]
  },
  {
   "cell_type": "code",
   "execution_count": 12,
   "metadata": {},
   "outputs": [
    {
     "data": {
      "text/plain": [
       "0.06275035049068692"
      ]
     },
     "execution_count": 12,
     "metadata": {},
     "output_type": "execute_result"
    }
   ],
   "source": [
    "sum(meville_neg) / len(meville_neg)"
   ]
  },
  {
   "cell_type": "code",
   "execution_count": null,
   "metadata": {},
   "outputs": [],
   "source": [
    "#Austen is much more positive than Meville, and very slightly more negative as well\n",
    "#Often, positivity and negativity are not orthogonoal - texts can be both positive and negative"
   ]
  },
  {
   "cell_type": "code",
   "execution_count": 27,
   "metadata": {},
   "outputs": [
    {
     "name": "stdout",
     "output_type": "stream",
     "text": [
      "['He received the kindest welcome from her; and shyness, coldness, reserve could not stand against such a reception.', 'They had begun to fail him before he entered the house, and they were quite overcome by the captivating manners of Mrs. Dashwood.', 'Indeed a man could not very well be in love with either of her daughters, without extending the passion to her; and Elinor had the satisfaction of seeing him soon become more like himself.', 'His affections seemed to reanimate towards them all, and his interest in their welfare again became perceptible.', 'He was not in spirits, however; he praised their house, admired its prospect, was attentive, and kind; but still he was not in spirits.', 'The whole family perceived it, and Mrs. Dashwood, attributing it to some want of liberality in his mother, sat down to table indignant against all selfish parents.']\n"
     ]
    },
    {
     "data": {
      "text/plain": [
       "[(('received', 'VBD'), 'nsubj', ('He', 'PRP')),\n",
       " (('received', 'VBD'), 'obj', ('welcome', 'NN')),\n",
       " (('welcome', 'NN'), 'det', ('the', 'DT')),\n",
       " (('welcome', 'NN'), 'amod', ('kindest', 'JJ')),\n",
       " (('received', 'VBD'), 'obl', ('her', 'PRP')),\n",
       " (('her', 'PRP'), 'case', ('from', 'IN')),\n",
       " (('received', 'VBD'), 'conj', ('stand', 'VB')),\n",
       " (('stand', 'VB'), 'cc', ('and', 'CC')),\n",
       " (('stand', 'VB'), 'nsubj', ('shyness', 'NN')),\n",
       " (('shyness', 'NN'), 'appos', ('coldness', 'NN')),\n",
       " (('coldness', 'NN'), 'appos', ('reserve', 'NN')),\n",
       " (('stand', 'VB'), 'aux', ('could', 'MD')),\n",
       " (('stand', 'VB'), 'advmod', ('not', 'RB')),\n",
       " (('stand', 'VB'), 'obl', ('reception', 'NN')),\n",
       " (('reception', 'NN'), 'case', ('against', 'IN')),\n",
       " (('reception', 'NN'), 'det:predet', ('such', 'PDT')),\n",
       " (('reception', 'NN'), 'det', ('a', 'DT')),\n",
       " (('received', 'VBD'), 'ccomp', ('begun', 'VBN')),\n",
       " (('begun', 'VBN'), 'nsubj', ('They', 'PRP')),\n",
       " (('begun', 'VBN'), 'aux', ('had', 'VBD')),\n",
       " (('begun', 'VBN'), 'xcomp', ('fail', 'VB')),\n",
       " (('fail', 'VB'), 'mark', ('to', 'TO')),\n",
       " (('fail', 'VB'), 'obj', ('him', 'PRP')),\n",
       " (('fail', 'VB'), 'advcl', ('entered', 'VBD')),\n",
       " (('entered', 'VBD'), 'mark', ('before', 'IN')),\n",
       " (('entered', 'VBD'), 'nsubj', ('he', 'PRP')),\n",
       " (('entered', 'VBD'), 'obj', ('house', 'NN')),\n",
       " (('house', 'NN'), 'det', ('the', 'DT')),\n",
       " (('received', 'VBD'), 'conj', ('overcome', 'VBN')),\n",
       " (('overcome', 'VBN'), 'cc', ('and', 'CC')),\n",
       " (('overcome', 'VBN'), 'nsubj:pass', ('they', 'PRP')),\n",
       " (('overcome', 'VBN'), 'aux:pass', ('were', 'VBD')),\n",
       " (('overcome', 'VBN'), 'advmod', ('quite', 'RB')),\n",
       " (('overcome', 'VBN'), 'obl', ('manners', 'NNS')),\n",
       " (('manners', 'NNS'), 'case', ('by', 'IN')),\n",
       " (('manners', 'NNS'), 'det', ('the', 'DT')),\n",
       " (('manners', 'NNS'), 'amod', ('captivating', 'JJ')),\n",
       " (('manners', 'NNS'), 'nmod', ('Dashwood', 'NNP')),\n",
       " (('Dashwood', 'NNP'), 'case', ('of', 'IN')),\n",
       " (('Dashwood', 'NNP'), 'compound', ('Mrs.', 'NNP')),\n",
       " (('received', 'VBD'), 'conj', ('love', 'NN')),\n",
       " (('love', 'NN'), 'advmod', ('Indeed', 'RB')),\n",
       " (('love', 'NN'), 'nsubj', ('man', 'NN')),\n",
       " (('man', 'NN'), 'det', ('a', 'DT')),\n",
       " (('love', 'NN'), 'aux', ('could', 'MD')),\n",
       " (('love', 'NN'), 'advmod', ('not', 'RB')),\n",
       " (('love', 'NN'), 'advmod', ('well', 'RB')),\n",
       " (('well', 'RB'), 'advmod', ('very', 'RB')),\n",
       " (('love', 'NN'), 'cop', ('be', 'VB')),\n",
       " (('love', 'NN'), 'case', ('in', 'IN')),\n",
       " (('love', 'NN'), 'nmod', ('either', 'DT')),\n",
       " (('either', 'DT'), 'case', ('with', 'IN')),\n",
       " (('either', 'DT'), 'nmod', ('daughters', 'NNS')),\n",
       " (('daughters', 'NNS'), 'case', ('of', 'IN')),\n",
       " (('daughters', 'NNS'), 'nmod:poss', ('her', 'PRP$')),\n",
       " (('love', 'NN'), 'advcl', ('extending', 'VBG')),\n",
       " (('extending', 'VBG'), 'mark', ('without', 'IN')),\n",
       " (('extending', 'VBG'), 'obj', ('passion', 'NN')),\n",
       " (('passion', 'NN'), 'det', ('the', 'DT')),\n",
       " (('extending', 'VBG'), 'obl', ('her', 'PRP')),\n",
       " (('her', 'PRP'), 'case', ('to', 'IN')),\n",
       " (('received', 'VBD'), 'conj', ('had', 'VBD')),\n",
       " (('had', 'VBD'), 'cc', ('and', 'CC')),\n",
       " (('had', 'VBD'), 'nsubj', ('Elinor', 'NNP')),\n",
       " (('had', 'VBD'), 'obj', ('satisfaction', 'NN')),\n",
       " (('satisfaction', 'NN'), 'det', ('the', 'DT')),\n",
       " (('satisfaction', 'NN'), 'acl', ('seeing', 'VBG')),\n",
       " (('seeing', 'VBG'), 'mark', ('of', 'IN')),\n",
       " (('seeing', 'VBG'), 'ccomp', ('become', 'VB')),\n",
       " (('become', 'VB'), 'nsubj', ('him', 'PRP')),\n",
       " (('become', 'VB'), 'advmod', ('soon', 'RB')),\n",
       " (('become', 'VB'), 'xcomp', ('more', 'JJR')),\n",
       " (('become', 'VB'), 'obl', ('himself', 'PRP')),\n",
       " (('himself', 'PRP'), 'case', ('like', 'IN')),\n",
       " (('received', 'VBD'), 'ccomp', ('seemed', 'VBD')),\n",
       " (('seemed', 'VBD'), 'nsubj', ('affections', 'NNS')),\n",
       " (('affections', 'NNS'), 'nmod:poss', ('His', 'PRP$')),\n",
       " (('seemed', 'VBD'), 'xcomp', ('reanimate', 'VB')),\n",
       " (('reanimate', 'VB'), 'mark', ('to', 'TO')),\n",
       " (('reanimate', 'VB'), 'obl', ('them', 'PRP')),\n",
       " (('them', 'PRP'), 'case', ('towards', 'IN')),\n",
       " (('reanimate', 'VB'), 'advmod', ('all', 'RB')),\n",
       " (('received', 'VBD'), 'conj', ('became', 'VBD')),\n",
       " (('became', 'VBD'), 'cc', ('and', 'CC')),\n",
       " (('became', 'VBD'), 'nsubj', ('interest', 'NN')),\n",
       " (('interest', 'NN'), 'nmod:poss', ('his', 'PRP$')),\n",
       " (('interest', 'NN'), 'nmod', ('welfare', 'NN')),\n",
       " (('welfare', 'NN'), 'case', ('in', 'IN')),\n",
       " (('welfare', 'NN'), 'nmod:poss', ('their', 'PRP$')),\n",
       " (('became', 'VBD'), 'advmod', ('again', 'RB')),\n",
       " (('became', 'VBD'), 'xcomp', ('perceptible', 'NN')),\n",
       " (('received', 'VBD'), 'conj', ('spirits', 'NNS')),\n",
       " (('spirits', 'NNS'), 'nsubj', ('He', 'PRP')),\n",
       " (('spirits', 'NNS'), 'cop', ('was', 'VBD')),\n",
       " (('spirits', 'NNS'), 'advmod', ('not', 'RB')),\n",
       " (('spirits', 'NNS'), 'case', ('in', 'IN')),\n",
       " (('spirits', 'NNS'), 'advmod', ('however', 'RB')),\n",
       " (('received', 'VBD'), 'conj', ('praised', 'VBD')),\n",
       " (('praised', 'VBD'), 'nsubj', ('he', 'PRP')),\n",
       " (('praised', 'VBD'), 'ccomp', ('attentive', 'JJ')),\n",
       " (('attentive', 'JJ'), 'nsubj', ('house', 'NN')),\n",
       " (('house', 'NN'), 'nmod:poss', ('their', 'PRP$')),\n",
       " (('house', 'NN'), 'acl', ('admired', 'VBN')),\n",
       " (('admired', 'VBN'), 'obj', ('prospect', 'NN')),\n",
       " (('prospect', 'NN'), 'nmod:poss', ('its', 'PRP$')),\n",
       " (('attentive', 'JJ'), 'cop', ('was', 'VBD')),\n",
       " (('attentive', 'JJ'), 'conj', ('kind', 'JJ')),\n",
       " (('kind', 'JJ'), 'cc', ('and', 'CC')),\n",
       " (('received', 'VBD'), 'conj', ('spirits', 'NNS')),\n",
       " (('spirits', 'NNS'), 'cc', ('but', 'CC')),\n",
       " (('spirits', 'NNS'), 'advmod', ('still', 'RB')),\n",
       " (('spirits', 'NNS'), 'nsubj', ('he', 'PRP')),\n",
       " (('spirits', 'NNS'), 'cop', ('was', 'VBD')),\n",
       " (('spirits', 'NNS'), 'advmod', ('not', 'RB')),\n",
       " (('spirits', 'NNS'), 'case', ('in', 'IN')),\n",
       " (('received', 'VBD'), 'ccomp', ('perceived', 'VBD')),\n",
       " (('perceived', 'VBD'), 'nsubj', ('family', 'NN')),\n",
       " (('family', 'NN'), 'det', ('The', 'DT')),\n",
       " (('family', 'NN'), 'amod', ('whole', 'JJ')),\n",
       " (('perceived', 'VBD'), 'obj', ('it', 'PRP')),\n",
       " (('received', 'VBD'), 'conj', ('sat', 'VBD')),\n",
       " (('sat', 'VBD'), 'cc', ('and', 'CC')),\n",
       " (('sat', 'VBD'), 'nsubj', ('Dashwood', 'NNP')),\n",
       " (('Dashwood', 'NNP'), 'compound', ('Mrs.', 'NNP')),\n",
       " (('Dashwood', 'NNP'), 'acl', ('attributing', 'VBG')),\n",
       " (('attributing', 'VBG'), 'obj', ('it', 'PRP')),\n",
       " (('attributing', 'VBG'), 'obl', ('want', 'NN')),\n",
       " (('want', 'NN'), 'case', ('to', 'IN')),\n",
       " (('want', 'NN'), 'det', ('some', 'DT')),\n",
       " (('want', 'NN'), 'nmod', ('liberality', 'NN')),\n",
       " (('liberality', 'NN'), 'case', ('of', 'IN')),\n",
       " (('liberality', 'NN'), 'nmod', ('mother', 'NN')),\n",
       " (('mother', 'NN'), 'case', ('in', 'IN')),\n",
       " (('mother', 'NN'), 'nmod:poss', ('his', 'PRP$')),\n",
       " (('sat', 'VBD'), 'compound:prt', ('down', 'RP')),\n",
       " (('sat', 'VBD'), 'obl', ('indignant', 'NNS')),\n",
       " (('indignant', 'NNS'), 'case', ('to', 'IN')),\n",
       " (('indignant', 'NNS'), 'compound', ('table', 'NN')),\n",
       " (('sat', 'VBD'), 'obl', ('parents', 'NNS')),\n",
       " (('parents', 'NNS'), 'case', ('against', 'IN')),\n",
       " (('parents', 'NNS'), 'det', ('all', 'DT')),\n",
       " (('parents', 'NNS'), 'amod', ('selfish', 'JJ'))]"
      ]
     },
     "execution_count": 27,
     "metadata": {},
     "output_type": "execute_result"
    }
   ],
   "source": [
    "#parse a few sentences from Austen\n",
    "print(austen_sent[1234:1240])\n",
    "austen_sample = ' '.join(austen_sent[1234:1240])\n",
    "result_austen = dependency_parser.raw_parse(austen_sample)\n",
    "\n",
    "#access the output\n",
    "dep_austen = result_austen.__next__()\n",
    "\n",
    "#print the relationships\n",
    "list(dep_austen.triples())"
   ]
  },
  {
   "cell_type": "code",
   "execution_count": 18,
   "metadata": {},
   "outputs": [
    {
     "data": {
      "text/plain": [
       "[(('received', 'VBD'), 'nsubj', ('He', 'PRP')),\n",
       " (('begun', 'VBN'), 'nsubj', ('They', 'PRP')),\n",
       " (('entered', 'VBD'), 'nsubj', ('he', 'PRP')),\n",
       " (('become', 'VB'), 'nsubj', ('him', 'PRP')),\n",
       " (('praised', 'VBD'), 'nsubj', ('he', 'PRP'))]"
      ]
     },
     "execution_count": 18,
     "metadata": {},
     "output_type": "execute_result"
    }
   ],
   "source": [
    "#Whoa that's a lot!\n",
    "#Let's see all the subject-verb relationships - one of the main relationships we might seek\n",
    "nsubj_austen = []\n",
    "\n",
    "for gov, rel, depend in list(dep_austen.triples()):\n",
    "    #we want people (personal pronouns) that are the subject (nsubj) doing an action (verb):\n",
    "    if (rel == 'nsubj') & (gov[1].find('V')>=0) & (depend[1].find('P')==0):\n",
    "        nsubj_austen.append((gov, rel, depend))\n",
    "\n",
    "\n",
    "nsubj_austen"
   ]
  },
  {
   "cell_type": "code",
   "execution_count": null,
   "metadata": {},
   "outputs": [],
   "source": []
  }
 ],
 "metadata": {
  "kernelspec": {
   "display_name": "Python 3 (ipykernel)",
   "language": "python",
   "name": "python3"
  },
  "language_info": {
   "codemirror_mode": {
    "name": "ipython",
    "version": 3
   },
   "file_extension": ".py",
   "mimetype": "text/x-python",
   "name": "python",
   "nbconvert_exporter": "python",
   "pygments_lexer": "ipython3",
   "version": "3.9.13"
  }
 },
 "nbformat": 4,
 "nbformat_minor": 2
}
