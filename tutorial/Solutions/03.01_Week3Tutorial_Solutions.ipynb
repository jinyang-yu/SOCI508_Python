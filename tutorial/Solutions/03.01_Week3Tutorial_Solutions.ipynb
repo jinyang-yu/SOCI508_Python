{
 "cells": [
  {
   "cell_type": "markdown",
   "metadata": {},
   "source": [
    "# Python for Everybody: Functions, Strings, Lists, and Iteration\n",
    "\n",
    "In this notebook we will together walk through the examples and exercises in [*Python for Everybody* Chapter 5](https://www.py4e.com/html3/05-iterations), [*Python for Everybody* Chapter 6](https://www.py4e.com/html3/06-strings), and [*Python for Everybody* Chapter 8](https://www.py4e.com/html3/08-lists).\n",
    "\n",
    "## Learning Goals\n",
    "* Get comfortable with in-built functions in Python\n",
    "* Build up our Python tool-kit by learning string methods and functions, and list methods and functions\n",
    "    * string funcitons\n",
    "    * change a string\n",
    "    * loop through a string\n",
    "    * build new strings using the format operator\n",
    "    * Add list functions to our tool-kit\n",
    "* Understand iteration in Python, and how the `for` loop works.\n",
    "* Work through exercises to get more comfortable writing `for` loops.\n",
    "* Start to put together logical operations, conditionals, functions, and for loops to write more sophisticated code.\n"
   ]
  },
  {
   "cell_type": "markdown",
   "metadata": {},
   "source": [
    "# Part 1: Functions\n",
    "\n",
    "## Function Calls\n",
    "\n",
    "In the context of programming, a *function* is a named sequence of statements that performs a computation. When you define a function, you specify the name and the sequence of statements. Later, you can \"call\" the function by name. We have already seen a few examples of a function call:"
   ]
  },
  {
   "cell_type": "code",
   "execution_count": null,
   "metadata": {},
   "outputs": [],
   "source": [
    "type(32)"
   ]
  },
  {
   "cell_type": "code",
   "execution_count": null,
   "metadata": {},
   "outputs": [],
   "source": [
    "print(\"Hello, World!\")"
   ]
  },
  {
   "cell_type": "markdown",
   "metadata": {},
   "source": [
    "The name of the first function is `type`. The expression in parentheses is called the argument of the function. The argument is a value or variable that we are passing into the function as input to the function. The result, for the type function, is the type of the argument.\n",
    "\n",
    "It is common to say that a function \"takes\" an argument and \"returns\" a result. The result is called the return value.\n",
    "\n",
    "Similar for the `print` function."
   ]
  },
  {
   "cell_type": "markdown",
   "metadata": {},
   "source": [
    "### Built-In Functions\n",
    "\n",
    "The creators of Python wrote a set of functions to solve common problems and included them in Python for us to use without needing to provide the function definition.\n",
    "\n",
    "[Here's a long list of built-in functions in Python](http://archive.oreilly.com/oreillyschool/courses/Python1/Python1-10.html). We won't use all of these. \n",
    "\n",
    "For example, the max and min functions give us the largest and smallest values in a list, respectively:"
   ]
  },
  {
   "cell_type": "code",
   "execution_count": null,
   "metadata": {},
   "outputs": [],
   "source": [
    "max(0,3,6,2999,90)"
   ]
  },
  {
   "cell_type": "code",
   "execution_count": null,
   "metadata": {},
   "outputs": [],
   "source": [
    "min(0,3,6,2999,90)"
   ]
  },
  {
   "cell_type": "markdown",
   "metadata": {},
   "source": [
    "Another very common built-in function is the `len` function which tells us how many items are in its argument. If the argument to `len` is a string, it returns the number of characters in the string. This will be an important function for us as we move to analyzing real data."
   ]
  },
  {
   "cell_type": "code",
   "execution_count": null,
   "metadata": {},
   "outputs": [],
   "source": [
    "len(\"Hello, world!\")"
   ]
  },
  {
   "cell_type": "markdown",
   "metadata": {},
   "source": [
    "## Type conversion functions\n",
    "\n",
    "Python also provides built-in functions that convert values from one type to another. The `int` function takes any value and converts it to an integer, if it can, or complains otherwise:"
   ]
  },
  {
   "cell_type": "code",
   "execution_count": null,
   "metadata": {},
   "outputs": [],
   "source": [
    "int(32)"
   ]
  },
  {
   "cell_type": "code",
   "execution_count": null,
   "metadata": {},
   "outputs": [],
   "source": [
    "int('Hello!')"
   ]
  },
  {
   "cell_type": "code",
   "execution_count": null,
   "metadata": {},
   "outputs": [],
   "source": [
    "int(3.9999)"
   ]
  },
  {
   "cell_type": "code",
   "execution_count": null,
   "metadata": {},
   "outputs": [],
   "source": [
    "int(-2.3)"
   ]
  },
  {
   "cell_type": "code",
   "execution_count": null,
   "metadata": {},
   "outputs": [],
   "source": [
    "float(32)"
   ]
  },
  {
   "cell_type": "code",
   "execution_count": null,
   "metadata": {},
   "outputs": [],
   "source": [
    "float('3.14159') "
   ]
  },
  {
   "cell_type": "code",
   "execution_count": null,
   "metadata": {},
   "outputs": [],
   "source": [
    "str(32)"
   ]
  },
  {
   "cell_type": "code",
   "execution_count": null,
   "metadata": {},
   "outputs": [],
   "source": [
    "str(3.14159)"
   ]
  },
  {
   "cell_type": "markdown",
   "metadata": {},
   "source": [
    "## String Methods\n",
    "\n",
    "The creators of Python recognize that human language has many important yet idiosyncratic features, so they have tried to make it easy for us to identify and manipulate them. \n",
    "\n",
    "We can analyze or manipulate certain features of a string using string methods. These are basically internal functions that every string automatically possesses. Note that even though the methods may transform the string at hand, they don't change it permanently!"
   ]
  },
  {
   "cell_type": "code",
   "execution_count": null,
   "metadata": {},
   "outputs": [],
   "source": [
    "# Let's assign a variable to perform methods upon\n",
    "\n",
    "greeting = \"Hello, World!\""
   ]
  },
  {
   "cell_type": "code",
   "execution_count": null,
   "metadata": {},
   "outputs": [],
   "source": [
    "# We saw the 'endswith' method at the very beginning\n",
    "# Note the type of output that gets printed\n",
    "\n",
    "greeting.startswith('H'), greeting.endswith('d')"
   ]
  },
  {
   "cell_type": "code",
   "execution_count": null,
   "metadata": {},
   "outputs": [],
   "source": [
    "# We can check whether the string is a letter or a number\n",
    "\n",
    "this_string = 'f'\n",
    "\n",
    "this_string.isalpha()"
   ]
  },
  {
   "cell_type": "code",
   "execution_count": null,
   "metadata": {},
   "outputs": [],
   "source": [
    "# When there are multiple characters, it checks whether *all*\n",
    "# of the characters belong to that category\n",
    "\n",
    "greeting.isalpha(), greeting.isdigit()"
   ]
  },
  {
   "cell_type": "code",
   "execution_count": null,
   "metadata": {},
   "outputs": [],
   "source": [
    "# Similarly, we can check whether the string is lower or upper case\n",
    "\n",
    "greeting.islower(), greeting.isupper(), greeting.istitle()"
   ]
  },
  {
   "cell_type": "code",
   "execution_count": null,
   "metadata": {},
   "outputs": [],
   "source": [
    "# Sometimes we want not just to check, but to change the string\n",
    "\n",
    "greeting.lower(), greeting.upper()"
   ]
  },
  {
   "cell_type": "code",
   "execution_count": null,
   "metadata": {},
   "outputs": [],
   "source": [
    "# The case of the string hasn't changed!\n",
    "\n",
    "greeting"
   ]
  },
  {
   "cell_type": "code",
   "execution_count": null,
   "metadata": {},
   "outputs": [],
   "source": [
    "# But if we want to permanently make it lower case we re-assign it\n",
    "\n",
    "greeting_lc = greeting.lower()\n",
    "\n",
    "greeting_lc"
   ]
  },
  {
   "cell_type": "markdown",
   "metadata": {},
   "source": [
    "## Iterable variables\n",
    "\n",
    "Strings are an example of iterables, or any sequence that can be iterated over (for example, using a for loop). Strings are a series of characters (including digits), and this series of characters can be iterated over. Another interable in Python is the list.\n",
    "\n",
    "Like a `string`, a `list` is a sequence of values. In a string, the values are characters; in a list, they can be any type. The values in list are called elements or sometimes items."
   ]
  },
  {
   "cell_type": "code",
   "execution_count": null,
   "metadata": {},
   "outputs": [],
   "source": [
    "#Notice the brackets around the sequence of values - this indicates the variable is a list\n",
    "list1 = ['Call', 'me', 'Ishmael']\n",
    "list2 = ['In', 'the', 'beginning']\n",
    "list3 = ['I', 'like', 'pie', 'but', 3.14159, 'is', 'not', 'pie.']"
   ]
  },
  {
   "cell_type": "code",
   "execution_count": null,
   "metadata": {},
   "outputs": [],
   "source": [
    "list1"
   ]
  },
  {
   "cell_type": "code",
   "execution_count": null,
   "metadata": {},
   "outputs": [],
   "source": [
    "list2"
   ]
  },
  {
   "cell_type": "code",
   "execution_count": null,
   "metadata": {},
   "outputs": [],
   "source": [
    "list3"
   ]
  },
  {
   "cell_type": "markdown",
   "metadata": {},
   "source": [
    "Like strings, the creators of Python knew that we humans would likely do common things with lists. There a string functions, and there are also list functions. A few of the common ones:"
   ]
  },
  {
   "cell_type": "code",
   "execution_count": null,
   "metadata": {},
   "outputs": [],
   "source": [
    "num_list = [6, 5, 4, 3, 2, 1]"
   ]
  },
  {
   "cell_type": "code",
   "execution_count": null,
   "metadata": {},
   "outputs": [],
   "source": [
    "max(num_list)"
   ]
  },
  {
   "cell_type": "code",
   "execution_count": null,
   "metadata": {},
   "outputs": [],
   "source": [
    "min(num_list)"
   ]
  },
  {
   "cell_type": "code",
   "execution_count": null,
   "metadata": {},
   "outputs": [],
   "source": [
    "sum(num_list)"
   ]
  },
  {
   "cell_type": "markdown",
   "metadata": {},
   "source": [
    "## Slicing\n",
    "\n",
    "Sometimes we want to pull out portions of a string or list. We do this by *slicing*. We can do this by pulling out just one character of a string or one value of a list, or multiple characters or values. We do this by indicating the index of the character in the string or list. Remember from the reading, Python's indexes start at 0!"
   ]
  },
  {
   "cell_type": "code",
   "execution_count": null,
   "metadata": {},
   "outputs": [],
   "source": [
    "#remind ourselves of our string\n",
    "greeting"
   ]
  },
  {
   "cell_type": "code",
   "execution_count": null,
   "metadata": {},
   "outputs": [],
   "source": [
    "greeting[0]"
   ]
  },
  {
   "cell_type": "code",
   "execution_count": null,
   "metadata": {},
   "outputs": [],
   "source": [
    "greeting[3]"
   ]
  },
  {
   "cell_type": "code",
   "execution_count": null,
   "metadata": {},
   "outputs": [],
   "source": [
    "#get the last index by using negative numbers\n",
    "greeting[-1]"
   ]
  },
  {
   "cell_type": "code",
   "execution_count": null,
   "metadata": {},
   "outputs": [],
   "source": [
    "# We can slice strings to pull out portions of them (we can do this with lists too)\n",
    "\n",
    "greeting[0:3]"
   ]
  },
  {
   "cell_type": "code",
   "execution_count": null,
   "metadata": {},
   "outputs": [],
   "source": [
    "#same with a list\n",
    "list1"
   ]
  },
  {
   "cell_type": "code",
   "execution_count": null,
   "metadata": {},
   "outputs": [],
   "source": [
    "list1[0]"
   ]
  },
  {
   "cell_type": "code",
   "execution_count": null,
   "metadata": {},
   "outputs": [],
   "source": [
    "list1[-1]"
   ]
  },
  {
   "cell_type": "code",
   "execution_count": null,
   "metadata": {},
   "outputs": [],
   "source": [
    "list1[:2]"
   ]
  },
  {
   "cell_type": "markdown",
   "metadata": {},
   "source": [
    "### Getting the length of an iterable"
   ]
  },
  {
   "cell_type": "code",
   "execution_count": null,
   "metadata": {},
   "outputs": [],
   "source": [
    "len(greeting)"
   ]
  },
  {
   "cell_type": "code",
   "execution_count": null,
   "metadata": {},
   "outputs": [],
   "source": [
    "len(list1)"
   ]
  },
  {
   "cell_type": "markdown",
   "metadata": {},
   "source": [
    "Describe in words the difference between what len() is doing in the above two lines, and *why* the same operator does something different in the two lines."
   ]
  },
  {
   "cell_type": "markdown",
   "metadata": {},
   "source": [
    "## The `in` operator\n",
    "\n",
    "The `in` operator is another boolean operator, asking whether one string is in another. We will also use the `in` operator on lists."
   ]
  },
  {
   "cell_type": "code",
   "execution_count": null,
   "metadata": {},
   "outputs": [],
   "source": [
    "'o' in greeting"
   ]
  },
  {
   "cell_type": "code",
   "execution_count": null,
   "metadata": {},
   "outputs": [],
   "source": [
    "'a' in greeting"
   ]
  },
  {
   "cell_type": "code",
   "execution_count": null,
   "metadata": {},
   "outputs": [],
   "source": [
    "#we can also us `not in` for the opposite:\n",
    "\n",
    "'o' not in greeting"
   ]
  },
  {
   "cell_type": "code",
   "execution_count": null,
   "metadata": {},
   "outputs": [],
   "source": [
    "'a' not in greeting"
   ]
  },
  {
   "cell_type": "code",
   "execution_count": null,
   "metadata": {},
   "outputs": [],
   "source": [
    "#same with lists\n",
    "\n",
    "'Call' in list1"
   ]
  },
  {
   "cell_type": "code",
   "execution_count": null,
   "metadata": {},
   "outputs": [],
   "source": [
    "'call' in list1"
   ]
  },
  {
   "cell_type": "code",
   "execution_count": null,
   "metadata": {},
   "outputs": [],
   "source": [
    "'a' in list1"
   ]
  },
  {
   "cell_type": "markdown",
   "metadata": {},
   "source": [
    "Why did the last two lines return `False`?"
   ]
  },
  {
   "cell_type": "markdown",
   "metadata": {},
   "source": [
    "## Splitting strings, joining lists"
   ]
  },
  {
   "cell_type": "code",
   "execution_count": null,
   "metadata": {},
   "outputs": [],
   "source": [
    "# Strings may be like lists of characters, but as humans we often treat them as\n",
    "# lists of words. We tell the computer to can perform that conversion.\n",
    "\n",
    "greeting.split()"
   ]
  },
  {
   "cell_type": "markdown",
   "metadata": {},
   "source": [
    "The `join()` function does the opposite: it takes a list and makes a string.\n",
    "\n",
    "`join` is a string method, so you have to invoke it on the delimiter and pass the list as a parameter:"
   ]
  },
  {
   "cell_type": "code",
   "execution_count": null,
   "metadata": {},
   "outputs": [],
   "source": [
    "' '.join(list1)"
   ]
  },
  {
   "cell_type": "markdown",
   "metadata": {},
   "source": [
    "## List Methods\n",
    "\n",
    "Similar to strings, there are a number of list methods that can be used to change a list. We can use `append`, `extend`, and `sort`."
   ]
  },
  {
   "cell_type": "code",
   "execution_count": null,
   "metadata": {},
   "outputs": [],
   "source": [
    "#append adds an element to a list\n",
    "num_list.append(7)\n",
    "num_list"
   ]
  },
  {
   "cell_type": "code",
   "execution_count": null,
   "metadata": {},
   "outputs": [],
   "source": [
    "#extend takes a list as an argument and appends all elements to the list\n",
    "list1.extend(list2)\n",
    "list1"
   ]
  },
  {
   "cell_type": "code",
   "execution_count": null,
   "metadata": {},
   "outputs": [],
   "source": [
    "#sort() sorts the elements of a list \n",
    "num_list.sort()\n",
    "num_list"
   ]
  },
  {
   "cell_type": "code",
   "execution_count": null,
   "metadata": {},
   "outputs": [],
   "source": [
    "#sort it in reverse order by adding an option to the sort function\n",
    "num_list.sort(reverse=True)\n",
    "num_list"
   ]
  },
  {
   "cell_type": "markdown",
   "metadata": {},
   "source": [
    "# Part 2: Iteration\n",
    "\n",
    "Nex, we will learn about the `for` loop, and how iteration can help us do the same calculation over and over, quickly. The `for` loop will come in really handy as we learn abou text analysis in particular.\n"
   ]
  },
  {
   "cell_type": "markdown",
   "metadata": {},
   "source": [
    "## For Loops\n",
    "\n",
    "What is a for loop? It is simply a series of instructions, or things to do, that you want to do on multiple elements. It's a way to do the same thing over and over, with different inputs.\n",
    "\n",
    "For example, on Halloween, if you live in a house, you probably have a bowl of candy sitting near your front door. During the evening, for every child that comes to your door you do the following:\n",
    "\n",
    "* Say \"Happy Halloween\"\n",
    "* Ask them what they are dressed as\n",
    "* Give them a piece of candy\n",
    "* Cackle wildly\n",
    "\n",
    "That's a for loop! We use similar sytax in Python. In our example for every child that comes to your door, do the following. In Python, we say for every element in a list, do the following.\n",
    "\n",
    "To write a for loop, we have to assign each element of the list to the same variable name (decided by us), and then we use that variable name in our set of instructions.\n",
    "\n",
    "The form of a for loop is similar to the way we defined a function. We have a line that start with for, followed by a colon, then the next lines within the for loop are indented. When we are done writing the instructions for the for loop, we no longer indent the lines.\n",
    "\n",
    "For example: let's assign a list of strings to the variable `trickotreaters`. We will then carry out our above list of instructions for each child. Note the syntax here."
   ]
  },
  {
   "cell_type": "code",
   "execution_count": null,
   "metadata": {},
   "outputs": [],
   "source": [
    "trickotreaters = ['pumpkin', 'ghost', 'witch', 'wonder woman']\n",
    "\n",
    "for child in trickotreaters:\n",
    "    print(\"Me: Happy Halloween!\")\n",
    "    print(\"Me: What are you dressed as?\")\n",
    "    print(\"Trick o' treater: I am a \"+child+\"!\")\n",
    "    print(\"Me: Here is your piece of candy, small child.\")\n",
    "    print(\"Me: Yuk yuk yuk yuk!\")\n",
    "    print(\"Trick o' treater: Thank you Prof. Nelson!\")\n",
    "    print(\"Me: Next!\\n\\n\")"
   ]
  },
  {
   "cell_type": "markdown",
   "metadata": {},
   "source": [
    "## Combining loops and conditionals\n",
    "\n",
    "We might also want to do different things to each element in a list depending on the value of that element. We can do so by putting if statements inside our list.\n",
    "\n",
    "For example, we want to print whether each element in our list is a negative number or a positive number. Notice the structure of the following program, and the indentation. Also notice I'm implemnting the `str()` function. Why am I doing that?"
   ]
  },
  {
   "cell_type": "code",
   "execution_count": null,
   "metadata": {},
   "outputs": [],
   "source": [
    "num_list = [9, 500, 20, -10, -.5]\n",
    "for e in num_list:\n",
    "    if e > 0:\n",
    "        print(str(e)+\" is a positive number.\")\n",
    "    else:\n",
    "        print(str(e)+\" is a negative number.\")"
   ]
  },
  {
   "cell_type": "markdown",
   "metadata": {},
   "source": [
    "We can also pass over elements if we wish to ignore them. For example, I'll add a '0' to our num_list, and skip over that number in my for loop."
   ]
  },
  {
   "cell_type": "code",
   "execution_count": null,
   "metadata": {},
   "outputs": [],
   "source": [
    "num_list = [9, 500, 20, 0, -10, -.5]\n",
    "for e in num_list:\n",
    "    if e == 0:\n",
    "        pass\n",
    "    elif e > 0:\n",
    "        print(str(e)+\" is a positive number.\")\n",
    "    else:\n",
    "        print(str(e)+\" is a negative number.\")"
   ]
  },
  {
   "cell_type": "markdown",
   "metadata": {},
   "source": [
    "# Exercises!\n",
    "\n",
    "That was a lot today. Complete the following exercises to the best of your ability. Add your name to this notebook, and then upload it as a PDF or HTML file to Canvas. Whatever you have by the end of the time upload to Canvas (this helps me judge how much is sinking in, and whether I should speed up or slow down the material I'm presenting.)"
   ]
  },
  {
   "cell_type": "markdown",
   "metadata": {},
   "source": [
    "### Exericse 1: How many characters are in the phrase:\n",
    "\n",
    ">How much wood could a woodchuck chuck \n",
    ">If a woodchuck could chuck wood?   \n",
    ">As much wood as a woodchuck could chuck, \n",
    ">If a woodchuck could chuck wood.\n",
    "\n",
    "### Exercise 1a: How many words are in that phrase?"
   ]
  },
  {
   "cell_type": "code",
   "execution_count": null,
   "metadata": {},
   "outputs": [],
   "source": [
    "#Exercise 1 and 1a code here\n",
    "\n",
    "woodchuck = \"How much wood could a woodchuck chuck \\\n",
    "If a woodchuck could chuck wood? \\\n",
    "As much wood as a woodchuck could chuck, \\\n",
    "If a woodchuck could chuck wood.\"\n",
    "\n",
    "#number of characters:\n",
    "\n",
    "len(woodchuck)\n",
    "\n",
    "#number of words:\n",
    "\n",
    "len(woodchuck.split(' '))"
   ]
  },
  {
   "cell_type": "markdown",
   "metadata": {},
   "source": [
    "### Exercise 2: Return the second through eighth characters in the variable greeting."
   ]
  },
  {
   "cell_type": "code",
   "execution_count": null,
   "metadata": {},
   "outputs": [],
   "source": [
    "## Exercise 2 code here\n",
    "\n",
    "greeting[1:8]"
   ]
  },
  {
   "cell_type": "markdown",
   "metadata": {},
   "source": [
    "### Exercise 3: Loop through the greeting variable and only print the characters that are lowercase.\n",
    "\n",
    "Hint: use a for loop, a conditional, and a string method boolean operator."
   ]
  },
  {
   "cell_type": "code",
   "execution_count": null,
   "metadata": {},
   "outputs": [],
   "source": [
    "#Exercise 3 code here\n",
    "\n",
    "for char in greeting:\n",
    "    if char.islower() == True:\n",
    "        print(char)"
   ]
  },
  {
   "cell_type": "markdown",
   "metadata": {
    "collapsed": true
   },
   "source": [
    "### Exercise 4: Split the string below into a list of words and assign this to a new variable. With the list of words, create a new list that keeps only words that have the letter 't' in it.\n",
    "\n",
    "Note: A slash at the end of a line allows a string to continue unbroken onto the next  \n",
    "Second note: Think carefully about cases! Are lowercase and uppercase interchangeable?"
   ]
  },
  {
   "cell_type": "code",
   "execution_count": null,
   "metadata": {
    "scrolled": true
   },
   "outputs": [],
   "source": [
    "#Exercise 4 code:\n",
    "\n",
    "my_string = \"Because I could not stop for Death – \\\n",
    "He kindly stopped for me – \\\n",
    "The Carriage held but just Ourselves – \\\n",
    "And Immortality.\"\n",
    "\n",
    "homewords = my_string.split(' ')\n",
    "\n",
    "tword_list = []\n",
    "\n",
    "for word in homewords:\n",
    "    if 't' in word:\n",
    "        print(word)\n",
    "        tword_list.append(word)\n",
    "        \n",
    "tword_list"
   ]
  },
  {
   "cell_type": "markdown",
   "metadata": {},
   "source": [
    "### Exercise 5: Assign the following list of people to a variable: ['Joseph', 'Glenn', 'Sally', 'Martha']. Ask each \"person\" in your list what their name is, and print out their answer."
   ]
  },
  {
   "cell_type": "code",
   "execution_count": null,
   "metadata": {},
   "outputs": [],
   "source": [
    "#Exercise 5 code here\n",
    "\n",
    "name_list = ['Joseph', 'Glenn', 'Sally', 'Martha']\n",
    "\n",
    "for name in name_list:\n",
    "    print(\"Hello, what is your name?\")\n",
    "    print(\"My name is \" + name)"
   ]
  },
  {
   "cell_type": "markdown",
   "metadata": {},
   "source": [
    "### Exercise 6: Reassign the list of trick o' treaters above, but add an 'adult' into the list, as such:\n",
    ">trickotreaters = ['pumpkin', 'ghost', 'witch', 'adult', 'wonder woman']\n",
    "\n",
    "Do the same for each trick o' treater we did above (remember: copy and paste are your friend!), but if the trick o' treater is an adult, pass over them. To do so, simply type the word pass."
   ]
  },
  {
   "cell_type": "code",
   "execution_count": null,
   "metadata": {},
   "outputs": [],
   "source": [
    "#Exercise 6 code here\n",
    "trickotreaters = ['pumpkin', 'ghost', 'witch', 'adult', 'wonder woman']\n",
    "\n",
    "for child in trickotreaters:\n",
    "    if child == 'adult':\n",
    "        pass\n",
    "    else:\n",
    "        print(\"Me: Happy Halloween!\")\n",
    "        print(\"Me: What are you dressed as?\")\n",
    "        print(\"Trick o' treater: I am a \"+child+\"!\")\n",
    "        print(\"Me: Here is your piece of candy, small child.\")\n",
    "        print(\"Me: Yuk yuk yuk yuk!\")\n",
    "        print(\"Trick o' treater: Thank you Prof. Nelson!\")\n",
    "        print(\"Me: Next!\\n\\n\")"
   ]
  },
  {
   "cell_type": "markdown",
   "metadata": {},
   "source": [
    "### Exercise 7: Assign the following list to a variable:\n",
    "\n",
    "> [9, 500, .01, \"Sally\", 20.5, 0, \"Martha\", -.5, -50, \"Fred\", 4.5, \"Prof. Nelson\"]\n",
    "\n",
    "Create a new variable that contains only the elements in that list that are a string."
   ]
  },
  {
   "cell_type": "code",
   "execution_count": null,
   "metadata": {},
   "outputs": [],
   "source": [
    "#Exercise 7 code here:\n",
    "\n",
    "mylist = [9, 500, .01, \"Sally\", 20.5, 0, \"Martha\", -.5, -50, \"Fred\", 4.5, \"Prof. Nelson\"]\n",
    "\n",
    "new_list = []\n",
    "\n",
    "for e in mylist:\n",
    "    if type(e) == str:\n",
    "        new_list.append(e)\n",
    "        \n",
    "new_list"
   ]
  }
 ],
 "metadata": {
  "kernelspec": {
   "display_name": "Python 3 (ipykernel)",
   "language": "python",
   "name": "python3"
  },
  "language_info": {
   "codemirror_mode": {
    "name": "ipython",
    "version": 3
   },
   "file_extension": ".py",
   "mimetype": "text/x-python",
   "name": "python",
   "nbconvert_exporter": "python",
   "pygments_lexer": "ipython3",
   "version": "3.9.12"
  }
 },
 "nbformat": 4,
 "nbformat_minor": 2
}
