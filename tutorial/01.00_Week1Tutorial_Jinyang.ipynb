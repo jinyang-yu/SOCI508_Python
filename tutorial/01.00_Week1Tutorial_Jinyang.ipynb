{
 "cells": [
  {
   "cell_type": "markdown",
   "metadata": {},
   "source": [
    "# <center> Introduction to Jupyter </center>\n",
    "\n",
    "Tutorial author: Laura K. Nelson  \n",
    "Date: January 5, 2023\n",
    "\n",
    "Student name: Jinyang Yu\n",
    "\n",
    "The purpose of this notebook is to introduce you to the features of Jupyter, running code in Jupyter, formatting nice text in Jupyter, and uploading notebooks to Canvas.\n",
    "\n",
    "Learning Goals:\n",
    "* Get comfortable opening a Jupyter notebook and running cells\n",
    "* Learn the features and function in the Jupyter IDE (Interactive Programming Environment)\n",
    "* Run some Python code! Understand what is happening when you run code in Jupyter\n",
    "* Learn the basics of Markdown and use it to format text\n",
    "* Submit your completed notebook to Canvas for credit\n",
    "    1. Rename this file and include your name in the filename\n",
    "    2. Put your name at the top of this markdown cell, in the \"Student name:\" line\n",
    "\n",
    "\n",
    "**Reminder 1:** The first few weeks will be a LOT to take in. The goal is to provide you with the basic vocabularly you need to understand and use Python. We will practice all of these skills throughout the semester. *You are not expected to understand and remember everything presented right now. Through practice, it will become more and more familiar. Go easy on yourself these first few weeks.*\n",
    "\n",
    "**Reminder 2:** We all use Google when we code. You will too. But try not to for the first few week. Most importantly, *never run code you don't understand.* Python is a real programming language and it has access to your computer (if you give it access). You can run code that wipes your hard drive, and you will NEVER be able to recover it. *Friends don't let friends run code they don't understand.*"
   ]
  },
  {
   "cell_type": "markdown",
   "metadata": {},
   "source": [
    "## Features of Jupyter\n",
    "\n",
    "What are all these buttons, dropdown menues, and, what is a cell? Let's take a tour.\n",
    "\n",
    "Jupyter notebooks consist of cells. The cell we're reading now is formatted as a \"Markdown\" cell, and is used for text. How do we know it's a markdown cell? Look at the top of the window for a dropdown menu with options such as `Code`, `Markdown`, etc. Click on this cell and that dropdown menu should say `Markdown`.\n",
    "\n",
    "You can run Markdown cells, but more typically you will be running code cells. Running code, or other cells, in a Jupyter notebook is relatively easy. Click on the cell you wish to run. A call is a segment of text or code. The cell you're currently 'in' will be outlined in blue. Once you've clicked on your desired cell then either click the \"Play\" button in the toolbar above the code window or press CTRL+RETURN on your keyboard.\n",
    "\n",
    "To check you did this correctly, double click on this cell. This will show the underlying Markdown syntax of the cell. Then run the cell, which will return it to the proper rendering that makes it look good to a human reader."
   ]
  },
  {
   "cell_type": "markdown",
   "metadata": {},
   "source": [
    "### Other useful features:\n",
    "\n",
    "* Always check which Kernel is running. Look to the upper right corner where it should say `Python 3` (note yours might say something different). You can change Kernels in the Kernel dropdown tab.\n",
    "* If you modify a notebook and you're happy with the modifications, create a checkpoint by saving the notebook. Look for the hard disk icon on the top left. This should look familiar to people who have used Word.\n",
    "* You can add, cut, copy, and paste cells using the buttons at the top of the screen, and you can move cells up and down to change the order. Let's practice this now.\n",
    "\n",
    "### Exercise 1:\n",
    "\n",
    "Add a cell below this cell. Change the cell to a Markdown cell. Write a few sentences describing why you enrolled in this class and what you hope to get out of it. Save the notebook. Once you're done, put up your \"I'm done\" post-it. If you run into troubles, put up your \"I'm stuck\" post-it."
   ]
  },
  {
   "cell_type": "markdown",
   "metadata": {},
   "source": [
    "I am interested in computational methods and how to apply it to analyze what is happening in the social world. I am hoping to learn some techniques that can be useful for me to complete my thesis."
   ]
  },
  {
   "cell_type": "markdown",
   "metadata": {},
   "source": [
    "# Code Cells"
   ]
  },
  {
   "cell_type": "code",
   "execution_count": 1,
   "metadata": {},
   "outputs": [
    {
     "name": "stdout",
     "output_type": "stream",
     "text": [
      "Hello, Boston!\n",
      "8\n",
      "2.4\n"
     ]
    },
    {
     "data": {
      "text/plain": [
       "'Hello, Northeastern'"
      ]
     },
     "execution_count": 1,
     "metadata": {},
     "output_type": "execute_result"
    }
   ],
   "source": [
    "print(\"Hello, Boston!\")\n",
    "print(8)\n",
    "print(2.4)\n",
    "\n",
    "#The last line of a Jupyter cell will automatically print the output, with having to specify print\n",
    "#Note what's different about the output below\n",
    "\n",
    "\"Hello, Northeastern\""
   ]
  },
  {
   "cell_type": "markdown",
   "metadata": {},
   "source": [
    "### Exercise 2: Write Python\n",
    "(a) Print your favorite food using the print function  \n",
    "(b) Print your favorite animal using the last line feature"
   ]
  },
  {
   "cell_type": "code",
   "execution_count": 2,
   "metadata": {},
   "outputs": [
    {
     "name": "stdout",
     "output_type": "stream",
     "text": [
      "umi sushi\n"
     ]
    },
    {
     "data": {
      "text/plain": [
       "'shiba inu'"
      ]
     },
     "execution_count": 2,
     "metadata": {},
     "output_type": "execute_result"
    }
   ],
   "source": [
    "## Type your code starting here. Add new cells if you need to.\n",
    "print(\"umi sushi\")\n",
    "\"shiba inu\""
   ]
  },
  {
   "cell_type": "markdown",
   "metadata": {},
   "source": [
    "# Primer in Markdown\n",
    "\n",
    "We've seen Markdown, and Code cells. But what is the mysterious synxtax behind Markdown? Markdown is a syntax to do simple text formatting. It has much fewer features than Word, but it is also more simple and universal.\n",
    "\n",
    "If you double click on a markdown cell you will see the syntax behind the cell, and you can modify the cell.\n",
    "\n",
    "Here are some basic formatting you might use in markdown. This is borrowed from [here](https://github.com/adam-p/markdown-here/wiki/Markdown-Cheatsheet), which has more formatting tips. Google is also your friend, if you have a particular question about formatting in Markdown.\n",
    "\n"
   ]
  },
  {
   "cell_type": "markdown",
   "metadata": {},
   "source": [
    "### 1. Headers\n",
    "\n",
    "# H1\n",
    "## H2\n",
    "### H3\n",
    "#### H4\n",
    "##### H5\n",
    "###### H6\n",
    "\n",
    "Alternatively, for H1 and H2, an underline-ish style:\n",
    "\n",
    "Alt-H1\n",
    "======\n",
    "\n",
    "Alt-H2\n",
    "------"
   ]
  },
  {
   "cell_type": "markdown",
   "metadata": {},
   "source": [
    "### 2. Emphasis\n",
    "\n",
    "Emphasis, aka italics, with *asterisks* or _underscores_.\n",
    "\n",
    "Strong emphasis, aka bold, with **asterisks** or __underscores__.\n",
    "\n",
    "Combined emphasis with **asterisks and _underscores_**.\n",
    "\n",
    "Strikethrough uses two tildes. ~~Scratch this.~~"
   ]
  },
  {
   "cell_type": "markdown",
   "metadata": {},
   "source": [
    "### 3. Lists\n",
    "\n",
    "1. First ordered list item\n",
    "2. Another item\n",
    "  * Unordered sub-list. \n",
    "1. Actual numbers don't matter, just that it's a number\n",
    "  1. Ordered sub-list\n",
    "4. And another item.\n",
    "\n",
    "   You can have properly indented paragraphs within list items. Notice the blank line above, and the leading spaces (at least one, but we'll use three here to also align the raw Markdown).\n",
    "\n",
    "   To have a line break without a paragraph, you will need to use two trailing spaces.  \n",
    "   Note that this line is separate, but within the same paragraph.  \n",
    "\n",
    "\n",
    "* Unordered list can use asterisks\n",
    "- Or minuses\n",
    "+ Or pluses\n"
   ]
  },
  {
   "cell_type": "markdown",
   "metadata": {},
   "source": [
    "### 4. Links\n",
    "\n",
    "[I'm an inline-style link](https://www.google.com)\n",
    "\n",
    "[I'm an inline-style link with title](https://www.google.com \"Google's Homepage\")"
   ]
  },
  {
   "cell_type": "markdown",
   "metadata": {},
   "source": [
    "### 5. Blockquotes\n",
    "\n",
    "> Blockquotes are very handy if you are including longer quores.\n",
    "> This line is part of the same quote.\n",
    "\n",
    "# <center> Quote break. </center>\n",
    "\n",
    "> This is a very long line that will still be quoted properly when it wraps. Oh boy let's keep writing to make sure this is long enough to actually wrap for everyone. Oh, you can *put* **Markdown** into a blockquote. \n",
    "\n"
   ]
  },
  {
   "cell_type": "markdown",
   "metadata": {},
   "source": [
    "### 6. Images \n",
    "\n",
    "Let's end with a nice, relaxing picture, with text when you hover over it. You must give it a path name, either a file on your computer (in the images folder!), or linked online. Here's an online link:\n",
    "\n",
    "![alt text](https://upload.wikimedia.org/wikipedia/commons/d/d0/Barns_grand_tetons.jpg \"Rocky Mountain Cabin\")\n",
    "\n"
   ]
  },
  {
   "cell_type": "markdown",
   "metadata": {},
   "source": [
    "### Exericse 3: Practice Markdown\n",
    "Add Markdown cells below, as many as you need, that describe your favorite things to do in Vancouver. Practice a variety of Markdown features. At a minimum:\n",
    "\n",
    "1. Use bullet points  \n",
    "2. Include a link\n",
    "3. Show an image"
   ]
  },
  {
   "cell_type": "markdown",
   "metadata": {},
   "source": [
    "* __Stay at home and look at snow outside__\n",
    "   \n",
    "![alt text](https://www.vmcdn.ca/f/files/via/images/weather/vancouver-weather-snowstorm-december-2022-forecast.jpg;w=960)\n",
    "\n",
    "* __Enjoy delicious foods from every part of the world__\n",
    "\n",
    "   [My favourite Japanese restaurant](https://www.yelp.ca/biz/sushi-hachi-japanese-restaurant-richmond)\n",
    "\n",
    "\n",
    "* __Watch maple leaves falling down__\n",
    "\n",
    "![MapleGif](https://www.icegif.com/wp-content/uploads/2022/06/icegif-1112.gif)\n",
    "   "
   ]
  },
  {
   "cell_type": "markdown",
   "metadata": {},
   "source": [
    "## You're done!\n",
    "\n",
    "Save your notebook and upload it either as an .ipynb or a PDF to Canvas. **Make sure your name is on top and in the filename!**"
   ]
  }
 ],
 "metadata": {
  "kernelspec": {
   "display_name": "Python 3 (ipykernel)",
   "language": "python",
   "name": "python3"
  },
  "language_info": {
   "codemirror_mode": {
    "name": "ipython",
    "version": 3
   },
   "file_extension": ".py",
   "mimetype": "text/x-python",
   "name": "python",
   "nbconvert_exporter": "python",
   "pygments_lexer": "ipython3",
   "version": "3.9.13"
  }
 },
 "nbformat": 4,
 "nbformat_minor": 2
}
